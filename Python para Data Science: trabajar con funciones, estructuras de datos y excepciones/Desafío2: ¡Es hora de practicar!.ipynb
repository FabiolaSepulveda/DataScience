{
  "nbformat": 4,
  "nbformat_minor": 0,
  "metadata": {
    "colab": {
      "provenance": [],
      "authorship_tag": "ABX9TyMod3WX3XpTZNujcB7aRoA9",
      "include_colab_link": true
    },
    "kernelspec": {
      "name": "python3",
      "display_name": "Python 3"
    },
    "language_info": {
      "name": "python"
    }
  },
  "cells": [
    {
      "cell_type": "markdown",
      "metadata": {
        "id": "view-in-github",
        "colab_type": "text"
      },
      "source": [
        "<a href=\"https://colab.research.google.com/github/FabiolaSepulveda/DataScience/blob/main/Python%20para%20Data%20Science%3A%20trabajar%20con%20funciones%2C%20estructuras%20de%20datos%20y%20excepciones/Desaf%C3%ADo2%3A%20%C2%A1Es%20hora%20de%20practicar!.ipynb\" target=\"_parent\"><img src=\"https://colab.research.google.com/assets/colab-badge.svg\" alt=\"Open In Colab\"/></a>"
      ]
    },
    {
      "cell_type": "markdown",
      "source": [
        "# **Desafío2: ¡Es hora de practicar!**"
      ],
      "metadata": {
        "id": "L-jzL02ykOmV"
      }
    },
    {
      "cell_type": "markdown",
      "source": [
        "Vamos a practicar lo que hemos aprendido hasta ahora resolviendo los problemas propuestos en código."
      ],
      "metadata": {
        "id": "T5XAHTs_kONF"
      }
    },
    {
      "cell_type": "markdown",
      "source": [
        "**Calentamiento**"
      ],
      "metadata": {
        "id": "GcEs5QOXNlD6"
      }
    },
    {
      "cell_type": "markdown",
      "source": [
        "1 - Escribe un código que lee la lista siguiente y realiza:\n",
        "lista = [16, 14, 63, 65, 17, 99, 70, 11, 20, 48, 79, 32, 17, 89, 12, 25, 66]\n",
        "1. Leer el tamaño de la lista\n",
        "2. Leer el valor máximo y mínimo\n",
        "3. Calcular la suma de los valores de la lista\n",
        "4. Mostrar un mensaje al final: La lista tiene \"tamano\" números, donde el mayor\n",
        "es \"mayor\" y el menor es \"menor\". La suma de los valores es \"suma\".\n"
      ],
      "metadata": {
        "id": "jqnyBVOXsJBL"
      }
    },
    {
      "cell_type": "code",
      "source": [
        "# Lista de números\n",
        "lista = [16, 14, 63, 65, 17, 99, 70, 11, 20, 48, 79, 32, 17, 89, 12, 25, 66]\n",
        "\n",
        "# 1. Leer el tamaño de la lista\n",
        "tamano = len(lista)\n",
        "\n",
        "# 2. Leer el valor máximo y mínimo\n",
        "mayor = max(lista)\n",
        "menor = min(lista)\n",
        "\n",
        "# 3. Calcular la suma de los valores de la lista\n",
        "suma = sum(lista)\n",
        "\n",
        "# 4. Mostrar el mensaje final\n",
        "print(f\"La lista tiene {tamano} números, donde el mayor es {mayor} y el menor es {menor}. La suma de los valores es {suma}.\")"
      ],
      "metadata": {
        "colab": {
          "base_uri": "https://localhost:8080/"
        },
        "id": "R9TIh3sEsNzH",
        "outputId": "54ba772b-f4fb-4615-827a-d0cb7ae9b864"
      },
      "execution_count": 8,
      "outputs": [
        {
          "output_type": "stream",
          "name": "stdout",
          "text": [
            "La lista tiene 17 números, donde el mayor es 99 y el menor es 11. La suma de los valores es 743.\n"
          ]
        }
      ]
    },
    {
      "cell_type": "markdown",
      "source": [
        "2 - Escribe una función que genere la tabla de multiplicar de un número entero del 1 al 10, según la elección del usuario. Como ejemplo, para el número 7, la tabla de multiplicar se debe mostrar en el siguiente formato:\n",
        "\n",
        "Tabla del  7:\n",
        "\n",
        "7 x 0 = 0\n",
        "\n",
        " 7 x 1 = 7\n",
        "\n",
        "[...]\n",
        "\n",
        " 7 x 10 = 70\n"
      ],
      "metadata": {
        "id": "uu0lmQjWtfQG"
      }
    },
    {
      "cell_type": "code",
      "source": [
        "def tabla_multiplicar(numero):\n",
        "    print(f\"Tabla de multiplicar N° {numero}:\\n\")\n",
        "    for i in range(11):\n",
        "        print(f\"{numero} x {i} = {numero * i}\")\n",
        "\n",
        "# Uso de la función\n",
        "tabla_multiplicar(7)"
      ],
      "metadata": {
        "id": "OQ4HHY6BtiRB",
        "colab": {
          "base_uri": "https://localhost:8080/"
        },
        "outputId": "6f239771-e458-41fc-eaac-5cbe622d3d96"
      },
      "execution_count": 15,
      "outputs": [
        {
          "output_type": "stream",
          "name": "stdout",
          "text": [
            "Tabla de multiplicar N° 7:\n",
            "\n",
            "7 x 0 = 0\n",
            "7 x 1 = 7\n",
            "7 x 2 = 14\n",
            "7 x 3 = 21\n",
            "7 x 4 = 28\n",
            "7 x 5 = 35\n",
            "7 x 6 = 42\n",
            "7 x 7 = 49\n",
            "7 x 8 = 56\n",
            "7 x 9 = 63\n",
            "7 x 10 = 70\n"
          ]
        }
      ]
    },
    {
      "cell_type": "markdown",
      "source": [
        "3 - Crea una función que lea la siguiente lista y devuelva una nueva lista con los múltiplos de 3:\n",
        "\n",
        "[97, 80, 94, 88, 80, 1, 16, 53, 62, 32, 24, 99]\n"
      ],
      "metadata": {
        "id": "idfzvEMit0qn"
      }
    },
    {
      "cell_type": "code",
      "source": [
        "def obtener_multiplos_de_tres(lista):\n",
        "    return [numero for numero in lista if numero % 3 == 0]\n",
        "\n",
        "# Lista original\n",
        "numeros = [97, 80, 94, 88, 80, 1, 16, 53, 62, 32, 24, 99]\n",
        "\n",
        "# Obtener los múltiplos de 3\n",
        "multiplos_de_tres = obtener_multiplos_de_tres(numeros)\n",
        "\n",
        "print(multiplos_de_tres)"
      ],
      "metadata": {
        "colab": {
          "base_uri": "https://localhost:8080/"
        },
        "id": "K2ihl2TWty4X",
        "outputId": "da2f55af-31ed-4efa-f97d-313ec4aa7a5b"
      },
      "execution_count": 18,
      "outputs": [
        {
          "output_type": "stream",
          "name": "stdout",
          "text": [
            "[24, 99]\n"
          ]
        }
      ]
    },
    {
      "cell_type": "markdown",
      "source": [
        "4 - Crea una lista de los cuadrados de los números de la siguiente lista [1, 2, 3, 4, 5, 6, 7, 8, 9, 10]. Recuerda utilizar las funciones lambda y map() para calcular el cuadrado de cada elemento de la lista."
      ],
      "metadata": {
        "id": "-Gg48OZJvMqH"
      }
    },
    {
      "cell_type": "code",
      "source": [
        "numeros = [1, 2, 3, 4, 5, 6, 7, 8, 9, 10]\n",
        "cuadrados = list(map(lambda x: x**2, numeros))\n",
        "print(cuadrados)"
      ],
      "metadata": {
        "colab": {
          "base_uri": "https://localhost:8080/"
        },
        "id": "Lp2jo0byvUSf",
        "outputId": "de7d0ed9-f3f8-4bd6-bd5f-1ae0642ca7b4"
      },
      "execution_count": 21,
      "outputs": [
        {
          "output_type": "stream",
          "name": "stdout",
          "text": [
            "[1, 4, 9, 16, 25, 36, 49, 64, 81, 100]\n"
          ]
        }
      ]
    },
    {
      "cell_type": "markdown",
      "source": [
        "**Aplicando a proyectos**"
      ],
      "metadata": {
        "id": "Ou_VOUFMTJ8T"
      }
    },
    {
      "cell_type": "markdown",
      "source": [
        "5 - Has sido contratado como científico(a) de datos de una asociación de skate. Para analizar las notas recibidas por los skaters en algunas competiciones a lo largo del año, necesitas crear un código que calcule la puntuación de los atletas. Para ello, tu código debe recibir 5 notas ingresadas por los jueces."
      ],
      "metadata": {
        "id": "io6Z0QBUwist"
      }
    },
    {
      "cell_type": "code",
      "source": [
        "notas = []\n",
        "for i in range(5):\n",
        "    notas.append(float(input(\"Nota: \")))\n",
        "notas.remove(max(notas))\n",
        "notas.remove(min(notas))\n",
        "media = sum(notas) / len(notas)\n",
        "print(f\"Puntuación final: {media:.2f}\")"
      ],
      "metadata": {
        "colab": {
          "base_uri": "https://localhost:8080/"
        },
        "id": "VmDaZ6nNwqa9",
        "outputId": "afd73e59-6421-4d3f-e000-7919fcacef13"
      },
      "execution_count": 27,
      "outputs": [
        {
          "output_type": "stream",
          "name": "stdout",
          "text": [
            "Nota: 10\n",
            "Nota: 9\n",
            "Nota: 8\n",
            "Nota: 7\n",
            "Nota: 6\n",
            "Puntuación final: 8.00\n"
          ]
        }
      ]
    },
    {
      "cell_type": "markdown",
      "source": [
        "6 - Para cumplir con una demanda de una institución educativa para el análisis del rendimiento de sus estudiantes, necesitas crear una función que reciba una lista de 4 notas y devuelva:\n",
        "\n",
        "\n",
        "*   mayor nota\n",
        "*   menor nota\n",
        "*   media\n",
        "*   situación (Aprobado(a) o Reprobado(a))\n",
        "*   Uso de la función\n",
        "*   Mostrar: El estudiante obtuvo una media de \"media\", con la mayor nota de \"mayor\" puntos y la menor nota de \"menor\" puntos y fue \"situacion\".)"
      ],
      "metadata": {
        "id": "COxLz031VYED"
      }
    },
    {
      "cell_type": "code",
      "source": [
        "def analizar_desempeno(notas):\n",
        "    mayor = max(notas)\n",
        "    menor = min(notas)\n",
        "    media = sum(notas) / len(notas)\n",
        "    situacion = \"Aprobado(a)\" if media >= 6 else \"Reprobado(a)\"\n",
        "    return mayor, menor, media, situacion\n",
        "# Pedir las 4 notas al usuario\n",
        "notas = []\n",
        "for i in range(4):\n",
        "    nota = float(input(f\"Ingrese la nota {i+1} (0 a 10): \"))\n",
        "    while nota < 0 or nota > 10:\n",
        "        nota = float(input(\"Nota inválida. Ingrese una nota entre 0 y 10: \"))\n",
        "    notas.append(nota)\n",
        "# Usar la función\n",
        "mayor, menor, media, situacion = analizar_desempeno(notas)\n",
        "\n",
        "# Mostrar resultado\n",
        "print(f\"\\nEl estudiante obtuvo una media de {media}, con la mayor nota de {mayor} puntos y la menor nota de {menor} puntos y fue {situacion}.\")"
      ],
      "metadata": {
        "colab": {
          "base_uri": "https://localhost:8080/"
        },
        "id": "KOHXYEmzWnNr",
        "outputId": "6753faf0-8b2f-4a8a-9bbb-dabcb89149d6"
      },
      "execution_count": 31,
      "outputs": [
        {
          "output_type": "stream",
          "name": "stdout",
          "text": [
            "Ingrese la nota 1 (0 a 10): 10\n",
            "Ingrese la nota 2 (0 a 10): 9\n",
            "Ingrese la nota 3 (0 a 10): 8\n",
            "Ingrese la nota 4 (0 a 10): 7\n",
            "\n",
            "El estudiante obtuvo una media de 8.5, con la mayor nota de 10.0 puntos y la menor nota de 7.0 puntos y fue Aprobado(a).\n"
          ]
        }
      ]
    },
    {
      "cell_type": "markdown",
      "source": [
        "7 - Has recibido una demanda para tratar 2 listas con los nombres y apellidos de cada estudiante concatenándolos para presentar sus nombres completos en la forma Nombre Apellido. Las listas son:\n",
        "\n",
        "nombres = [\"juan\", \"MaRia\", \"JOSÉ\"]\n",
        "\n",
        "apellidos = [\"SILVA\", \"sosa\", \"Tavares\"]\n"
      ],
      "metadata": {
        "id": "F-GDQ50XaL5X"
      }
    },
    {
      "cell_type": "code",
      "source": [
        "nombres = [\"juan\", \"MaRia\", \"JOSÉ\"]\n",
        "apellidos = [\"SILVA\", \"sosa\", \"Tavares\"]\n",
        "\n",
        "# Usar map con lambda para concatenar y capitalizar correctamente\n",
        "nombres_completos = list(map(lambda n_a: n_a[0].capitalize() + \" \" + n_a[1].capitalize(), zip(nombres, apellidos)))\n",
        "\n",
        "print(nombres_completos)"
      ],
      "metadata": {
        "colab": {
          "base_uri": "https://localhost:8080/"
        },
        "id": "cggz_NWia4lK",
        "outputId": "a4d6d183-b638-45ff-dd55-ce5ddb04fbd2"
      },
      "execution_count": 35,
      "outputs": [
        {
          "output_type": "stream",
          "name": "stdout",
          "text": [
            "['Juan Silva', 'Maria Sosa', 'José Tavares']\n"
          ]
        }
      ]
    },
    {
      "cell_type": "markdown",
      "source": [
        "8 - Como científico de datos en un equipo de fútbol, necesitas implementar nuevas formas de recopilación de datos sobre el rendimiento de los jugadores y del equipo en su conjunto. Tu primera acción es crear una forma de calcular la puntuación del equipo en el campeonato nacional a partir de los datos de goles marcados y recibidos en cada juego.\n",
        "\n",
        "Escribe una función llamada calcula_puntos() que recibe como parámetros dos listas de números enteros, representando los goles marcados y recibidos por el equipo en cada partido del campeonato. La función debe devolver la puntuación del equipo y el rendimiento en porcentaje, teniendo en cuenta que la victoria vale 3 puntos, el empate 1 punto y la derrota 0 puntos.\n",
        "\n",
        "Nota: si la cantidad de goles marcados en un partido es mayor que los recibidos, el equipo ganó. En caso de ser igual, el equipo empató, y si es menor, el equipo perdió. Para calcular el rendimiento, debemos hacer la razón entre la puntuación del equipo y la puntuación máxima que podría recibir.\n",
        "\n",
        "Para la prueba, utiliza las siguientes listas de goles marcados y recibidos:\n",
        "\n",
        "goles_marcados = [2, 1, 3, 1, 0]\n",
        "\n",
        "goles_recibidos = [1, 2, 2, 1, 3]\n",
        "\n",
        "*  Texto probablemente mostrado: \"La puntuación del equipo fue 'puntos' y su rendimiento fue 'desempeno'%\"\n",
        "\n",
        "\n"
      ],
      "metadata": {
        "id": "TuWd8BcyaNAG"
      }
    },
    {
      "cell_type": "code",
      "source": [
        "goles_marcados = [2, 1, 3, 1, 0]\n",
        "goles_recibidos = [1, 2, 2, 1, 3]\n",
        "\n",
        "def calcula_puntos(goles_marcados, goles_recibidos):\n",
        "    puntos = 0\n",
        "    total_partidos = len(goles_marcados)\n",
        "    for i in range(total_partidos):\n",
        "        if goles_marcados[i] > goles_recibidos[i]:\n",
        "            puntos += 3\n",
        "        elif goles_marcados[i] == goles_recibidos[i]:\n",
        "            puntos += 1\n",
        "        # Si pierde, no suma puntos\n",
        "    puntos_maximos = total_partidos * 3\n",
        "    desempeno = (puntos / puntos_maximos) * 100\n",
        "    return puntos, desempeno\n",
        "puntos, desempeno = calcula_puntos(goles_marcados, goles_recibidos)\n",
        "print(f\"La puntuación del equipo fue {puntos} y su rendimiento fue {desempeno:.2f}%\")"
      ],
      "metadata": {
        "colab": {
          "base_uri": "https://localhost:8080/"
        },
        "id": "OAIxiy8AeCQa",
        "outputId": "fb8100f7-f62c-4db8-c78c-9af4fd126ce6"
      },
      "execution_count": 39,
      "outputs": [
        {
          "output_type": "stream",
          "name": "stdout",
          "text": [
            "La puntuación del equipo fue 7 y su rendimiento fue 46.67%\n"
          ]
        }
      ]
    },
    {
      "cell_type": "markdown",
      "source": [
        "9 - Te han desafiado a crear un código que calcule los gastos de un viaje a una de las cuatro ciudades desde Recife, siendo ellas: Salvador, Fortaleza, Natal y Aracaju.\n",
        "\n",
        "El costo diario del hotel es de 150 reales en todas ellas y el consumo de gasolina en el viaje en coche es de 14 km/l, siendo que el precio de la gasolina es de 5 reales por litro. Los gastos con paseos y alimentación a realizar en cada una de ellas por día serían [200, 400, 250, 300], respectivamente.\n",
        "\n",
        "Sabiendo que las distancias entre Recife y cada una de las ciudades son aproximadamente [850, 800, 300, 550] km, crea tres funciones: la primera función calcula los gastos de hotel (gasto_hotel), la segunda calcula los gastos de gasolina (gasto_gasolina) y la tercera los gastos de paseo y alimentación (gasto_paseo).\n",
        "\n",
        "Para probar, simula un viaje de 3 días a Salvador desde Recife. Considera el viaje de ida y vuelta en coche.\n",
        "\n",
        "*   Texto probablemente mostrado: \"Con base en los gastos definidos, un viaje de [dias] días a [ciudad] desde Recife costaría [gastos] reales.\"\n",
        "\n",
        "\n",
        "\n",
        "\n",
        "\n"
      ],
      "metadata": {
        "id": "Qd3cYJ1xg7Vp"
      }
    },
    {
      "cell_type": "code",
      "source": [
        "# Datos base\n",
        "distancias = {\"Salvador\": 850, \"Fortaleza\": 800, \"Natal\": 300, \"Aracaju\": 550}\n",
        "paseo_alimentacion_diario = {\"Salvador\": 200, \"Fortaleza\": 400, \"Natal\": 250, \"Aracaju\": 300}\n",
        "costo_hotel_por_dia = 150\n",
        "consumo_km_por_litro = 14\n",
        "precio_gasolina = 5\n",
        "# Funciones\n",
        "def gasto_hotel(dias):\n",
        "    return dias * costo_hotel_por_dia\n",
        "def gasto_gasolina(ciudad):\n",
        "    distancia_total = distancias[ciudad] * 2  # ida y vuelta\n",
        "    litros_necesarios = distancia_total / consumo_km_por_litro\n",
        "    return litros_necesarios * precio_gasolina\n",
        "def gasto_paseo(ciudad, dias):\n",
        "    return paseo_alimentacion_diario[ciudad] * dias\n",
        "# Simulación: 3 días en Salvador\n",
        "dias = 3\n",
        "ciudad = \"Salvador\"\n",
        "gastos_totales = gasto_hotel(dias) + gasto_gasolina(ciudad) + gasto_paseo(ciudad, dias)\n",
        "print(f\"Con base en los gastos definidos, un viaje de {dias} días a {ciudad} desde Recife costaría {gastos_totales:.2f} reales.\")"
      ],
      "metadata": {
        "colab": {
          "base_uri": "https://localhost:8080/"
        },
        "id": "GHdWFlXohZ8r",
        "outputId": "ecf8869b-80ef-43c7-e34d-aae470200a1f"
      },
      "execution_count": 42,
      "outputs": [
        {
          "output_type": "stream",
          "name": "stdout",
          "text": [
            "Con base en los gastos definidos, un viaje de 3 días a Salvador desde Recife costaría 1657.14 reales.\n"
          ]
        }
      ]
    },
    {
      "cell_type": "markdown",
      "source": [
        "10 - Has comenzado una pasantía en una empresa que trabaja con procesamiento de lenguaje natural (NLP). Tu líder te solicitó que crees un fragmento de código que reciba una frase escrita por el usuario y filtre solo las palabras con un tamaño mayor o igual a 5, mostrándolas en una lista. Esta demanda se centra en el análisis del patrón de comportamiento de las personas al escribir palabras de esta cantidad de caracteres o más.\n",
        "\n",
        "Consejo: utiliza las funciones lambda y filter() para filtrar estas palabras. Recordando que la función integrada filter() recibe una función (en nuestro caso, una función lambda) y filtra un iterable según la función. Para tratar la frase, utiliza replace() para cambiar ',' '.', '!' y '?' por espacio.\n",
        "\n",
        "Utiliza la frase \"Aprender Python aquí en Alura es muy bueno\" para probar el código."
      ],
      "metadata": {
        "id": "ryb4TNZsi6L6"
      }
    },
    {
      "cell_type": "code",
      "source": [
        "# Frase de prueba\n",
        "frase = \"Aprender Python aquí en Alura es muy bueno\"\n",
        "# Usando replace para cambiar puntuaciones por espacios\n",
        "frase_prueba = frase.replace(\",\", \" \").replace(\".\", \" \").replace(\"!\", \" \").replace(\"?\", \" \")\n",
        "# Dividir la frase en palabras\n",
        "palabras = frase_prueba.split()\n",
        "# Filtrar palabras con longitud >= 5 usando lambda y filter\n",
        "palabras_filtradas = list(filter(lambda palavra: len(palavra) >= 5, palabras))\n",
        "# Mostrar resultado\n",
        "print(palabras_filtradas)"
      ],
      "metadata": {
        "colab": {
          "base_uri": "https://localhost:8080/"
        },
        "id": "zDHebk-gjieS",
        "outputId": "1b5ddb80-8ce4-45d6-c669-ff973588ab21"
      },
      "execution_count": 45,
      "outputs": [
        {
          "output_type": "stream",
          "name": "stdout",
          "text": [
            "['Aprender', 'Python', 'Alura', 'bueno']\n"
          ]
        }
      ]
    }
  ]
}