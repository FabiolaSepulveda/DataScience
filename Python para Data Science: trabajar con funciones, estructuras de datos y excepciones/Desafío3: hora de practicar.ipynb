{
  "nbformat": 4,
  "nbformat_minor": 0,
  "metadata": {
    "colab": {
      "provenance": [],
      "authorship_tag": "ABX9TyNw9axVONxY+kDLmk/Y6e78",
      "include_colab_link": true
    },
    "kernelspec": {
      "name": "python3",
      "display_name": "Python 3"
    },
    "language_info": {
      "name": "python"
    }
  },
  "cells": [
    {
      "cell_type": "markdown",
      "metadata": {
        "id": "view-in-github",
        "colab_type": "text"
      },
      "source": [
        "<a href=\"https://colab.research.google.com/github/FabiolaSepulveda/DataScience/blob/main/Python%20para%20Data%20Science%3A%20trabajar%20con%20funciones%2C%20estructuras%20de%20datos%20y%20excepciones/Desaf%C3%ADo3%3A%20hora%20de%20practicar.ipynb\" target=\"_parent\"><img src=\"https://colab.research.google.com/assets/colab-badge.svg\" alt=\"Open In Colab\"/></a>"
      ]
    },
    {
      "cell_type": "markdown",
      "source": [
        "# **Desafío3: ¡Es hora de practicar!**"
      ],
      "metadata": {
        "id": "L-jzL02ykOmV"
      }
    },
    {
      "cell_type": "markdown",
      "source": [
        "1 - Crea un código para imprimir la suma de los elementos de cada una de las listas contenidas en la siguiente lista:\n",
        "\n",
        "lista_de_listas = [[4, 6, 5, 9], [1, 0, 7, 2], [3, 4, 1, 8]]\n"
      ],
      "metadata": {
        "id": "jqnyBVOXsJBL"
      }
    },
    {
      "cell_type": "code",
      "source": [
        "lista_de_listas = [[4, 6, 5, 9], [1, 0, 7, 2], [3, 4, 1, 8]]\n",
        "\n",
        "for sublista in lista_de_listas:\n",
        "    suma = sum(sublista)\n",
        "    print(f\"Suma de {sublista} = {suma}\")"
      ],
      "metadata": {
        "colab": {
          "base_uri": "https://localhost:8080/"
        },
        "id": "R9TIh3sEsNzH",
        "outputId": "705e5d71-d4a6-4b3d-935f-a8c91a769bce"
      },
      "execution_count": 48,
      "outputs": [
        {
          "output_type": "stream",
          "name": "stdout",
          "text": [
            "Suma de [4, 6, 5, 9] = 24\n",
            "Suma de [1, 0, 7, 2] = 10\n",
            "Suma de [3, 4, 1, 8] = 16\n"
          ]
        }
      ]
    },
    {
      "cell_type": "markdown",
      "source": [
        "2 - Crea un código para generar una lista que almacene el tercer elemento de cada tupla contenida en la siguiente lista de tuplas:\n",
        "\n",
        "lista_de_tuplas = [('Pedro', 1.74, 81), ('Júlia', 1.65, 67), ('Otávio', 1.81, 83)]\n",
        "\n"
      ],
      "metadata": {
        "id": "uu0lmQjWtfQG"
      }
    },
    {
      "cell_type": "code",
      "source": [
        "lista_de_tuplas = [('Pedro', 1.74, 81), ('Júlia', 1.65, 67), ('Otávio', 1.81, 83)]\n",
        "\n",
        "# Usando list comprehension para obtener el tercer elemento de cada tupla\n",
        "tercer_elemento = [tupla[2] for tupla in lista_de_tuplas]\n",
        "\n",
        "print(tercer_elemento)"
      ],
      "metadata": {
        "id": "OQ4HHY6BtiRB",
        "colab": {
          "base_uri": "https://localhost:8080/"
        },
        "outputId": "88ce384f-cb30-419a-8047-3a225f48c328"
      },
      "execution_count": 50,
      "outputs": [
        {
          "output_type": "stream",
          "name": "stdout",
          "text": [
            "[81, 67, 83]\n"
          ]
        }
      ]
    },
    {
      "cell_type": "markdown",
      "source": [
        "3 - A partir de la lista: lista = ['Pedro', 'Júlia', 'Otávio', 'Eduardo'], crea un código para generar una lista de tuplas en la que cada tupla tenga el primer elemento como la posición del nombre en la lista original y el segundo elemento siendo el propio nombre.\n"
      ],
      "metadata": {
        "id": "idfzvEMit0qn"
      }
    },
    {
      "cell_type": "code",
      "source": [
        "lista = ['Pedro', 'Júlia', 'Otávio', 'Eduardo']\n",
        "\n",
        "# Crear la lista de tuplas (posición, nombre)\n",
        "lista_tuplas = list(enumerate(lista))\n",
        "\n",
        "print(lista_tuplas)"
      ],
      "metadata": {
        "colab": {
          "base_uri": "https://localhost:8080/"
        },
        "id": "K2ihl2TWty4X",
        "outputId": "dc952ab9-809f-45a2-90c2-9d36f01ecf33"
      },
      "execution_count": 57,
      "outputs": [
        {
          "output_type": "stream",
          "name": "stdout",
          "text": [
            "[(0, 'Pedro'), (1, 'Júlia'), (2, 'Otávio'), (3, 'Eduardo')]\n"
          ]
        }
      ]
    },
    {
      "cell_type": "markdown",
      "source": [
        "4 - Crea una lista usando la comprensión de listas (list comprehension) que almacene solo el valor numérico de cada tupla en caso de que el primer elemento sea 'Apartamento', a partir de la siguiente lista de tuplas:\n",
        "\n",
        "alquiler = [('Apartamento', 1700), ('Apartamento', 1400), ('Casa', 2150), ('Apartamento', 1900), ('Casa', 1100)]\n"
      ],
      "metadata": {
        "id": "-Gg48OZJvMqH"
      }
    },
    {
      "cell_type": "code",
      "source": [
        "alquiler = [('Apartamento', 1700), ('Apartamento', 1400), ('Casa', 2150), ('Apartamento', 1900), ('Casa', 1100)]\n",
        "\n",
        "solo_apartamentos = [tupla for tupla in alquiler if tupla[0] == 'Apartamento']\n",
        "\n",
        "print(solo_apartamentos)"
      ],
      "metadata": {
        "colab": {
          "base_uri": "https://localhost:8080/"
        },
        "id": "Lp2jo0byvUSf",
        "outputId": "f2cdd636-9e6b-4a87-be63-d6c9df4fb210"
      },
      "execution_count": 62,
      "outputs": [
        {
          "output_type": "stream",
          "name": "stdout",
          "text": [
            "[('Apartamento', 1700), ('Apartamento', 1400), ('Apartamento', 1900)]\n"
          ]
        }
      ]
    },
    {
      "cell_type": "markdown",
      "source": [
        "5 - Crea un diccionario usando la comprensión de diccionarios (dict comprehension) en el que las claves estén en la lista `meses = ['Jan', 'Fev', 'Mar', 'Abr', 'Mai', 'Jun', 'Jul', 'Ago', 'Set', 'Out', 'Nov', 'Dez']` y los valores estén en `gasto = [860, 490, 1010, 780, 900, 630, 590, 770, 620, 560, 840, 360]`."
      ],
      "metadata": {
        "id": "io6Z0QBUwist"
      }
    },
    {
      "cell_type": "code",
      "source": [
        "meses = ['Jan', 'Fev', 'Mar', 'Abr', 'Mai', 'Jun', 'Jul', 'Ago', 'Set', 'Out', 'Nov', 'Dez']\n",
        "gasto = [860, 490, 1010, 780, 900, 630, 590, 770, 620, 560, 840, 360]\n",
        "\n",
        "# Creación del diccionario con comprensión\n",
        "diccionario_gastos = {meses[i]: gasto[i] for i in range(len(meses))}\n",
        "\n",
        "print(diccionario_gastos)"
      ],
      "metadata": {
        "colab": {
          "base_uri": "https://localhost:8080/"
        },
        "id": "VmDaZ6nNwqa9",
        "outputId": "c6b79722-6bc2-4306-de5b-13c6e8320b00"
      },
      "execution_count": 66,
      "outputs": [
        {
          "output_type": "stream",
          "name": "stdout",
          "text": [
            "{'Jan': 860, 'Fev': 490, 'Mar': 1010, 'Abr': 780, 'Mai': 900, 'Jun': 630, 'Jul': 590, 'Ago': 770, 'Set': 620, 'Out': 560, 'Nov': 840, 'Dez': 360}\n"
          ]
        }
      ]
    },
    {
      "cell_type": "markdown",
      "source": [
        "6 - Una tienda tiene una base de datos con la información de venta de cada representante y de cada año y necesita filtrar solo los datos del año 2022 con ventas mayores a 6000. La tienda proporcionó una muestra con solo las columnas de los años y los valores de venta para que puedas ayudar a realizar la filtración de los datos a través de un código:\n",
        "\n",
        "ventas = [('2023', 4093), ('2021', 4320), ('2021', 5959), ('2022', 8883), ('2023', 9859), ('2022', 5141), ('2022', 7688), ('2022', 9544), ('2023', 4794), ('2021', 7178), ('2022', 3030), ('2021', 7471), ('2022', 4226), ('2022', 8190), ('2021', 9680), ('2022', 5616)]\n",
        "\n",
        "Crea una lista usando la comprensión de listas para filtrar los valores de 2022 que sean mayores a 6000.\n"
      ],
      "metadata": {
        "id": "COxLz031VYED"
      }
    },
    {
      "cell_type": "code",
      "source": [
        "ventas = [('2023', 4093), ('2021', 4320), ('2021', 5959), ('2022', 8883), ('2023', 9859), ('2022', 5141),\n",
        "('2022', 7688), ('2022', 9544), ('2023', 4794), ('2021', 7178), ('2022', 3030), ('2021', 7471),\n",
        "('2022', 4226), ('2022', 8190), ('2021', 9680), ('2022', 5616)]\n",
        "\n",
        "ventas_2022_mayores_6000 = [valor for año, valor in ventas if año == '2022' and valor > 6000]\n",
        "print(ventas_2022_mayores_6000)"
      ],
      "metadata": {
        "colab": {
          "base_uri": "https://localhost:8080/"
        },
        "id": "KOHXYEmzWnNr",
        "outputId": "dd740e18-998b-4746-d05a-89fa730bc864"
      },
      "execution_count": 70,
      "outputs": [
        {
          "output_type": "stream",
          "name": "stdout",
          "text": [
            "[8883, 7688, 9544, 8190]\n"
          ]
        }
      ]
    },
    {
      "cell_type": "markdown",
      "source": [
        "7 - Una clínica analiza datos de pacientes y almacena el valor numérico de la glucosa en una base de datos y le gustaría etiquetar los datos de la siguiente manera:\n",
        "*   Glucosa igual o inferior a 70: 'Hipoglicemia'\n",
        "*   Glucosa entre 70 y 99: 'Normal'\n",
        "*   Glucosa entre 100 y 125: 'Alterada'\n",
        "*   Glucosa superior a 125: 'Diabetes'\n",
        "\n",
        "La clínica proporcionó parte de los valores y tu tarea es crear una lista de tuplas usando la comprensión de listas que contenga la etiqueta y el valor de la glucemia en cada tupla.\n",
        "\n",
        "glicemia = [129, 82, 60, 97, 101, 65, 62, 167, 87, 53, 58, 92, 66, 120, 109, 62, 86, 96, 103, 88, 155, 52, 89, 73]"
      ],
      "metadata": {
        "id": "F-GDQ50XaL5X"
      }
    },
    {
      "cell_type": "code",
      "source": [
        "glicemia = [129, 82, 60, 97, 101, 65, 62, 167, 87, 53, 58, 92, 66, 120, 109, 62, 86, 96, 103, 88, 155, 52, 89, 73]\n",
        "\n",
        "etiquetado = [\n",
        "    ('Hipoglicemia' if g <= 70 else\n",
        "     'Normal' if g <= 99 else\n",
        "     'Alterada' if g <= 125 else\n",
        "     'Diabetes', g)\n",
        "    for g in glicemia\n",
        "]\n",
        "for etiqueta, valor in etiquetado:\n",
        "    print(f\"{etiqueta:12} - {valor}\")"
      ],
      "metadata": {
        "colab": {
          "base_uri": "https://localhost:8080/"
        },
        "id": "cggz_NWia4lK",
        "outputId": "186eeb9c-943d-4b7d-94ea-ed846d472274"
      },
      "execution_count": 73,
      "outputs": [
        {
          "output_type": "stream",
          "name": "stdout",
          "text": [
            "Diabetes     - 129\n",
            "Normal       - 82\n",
            "Hipoglicemia - 60\n",
            "Normal       - 97\n",
            "Alterada     - 101\n",
            "Hipoglicemia - 65\n",
            "Hipoglicemia - 62\n",
            "Diabetes     - 167\n",
            "Normal       - 87\n",
            "Hipoglicemia - 53\n",
            "Hipoglicemia - 58\n",
            "Normal       - 92\n",
            "Hipoglicemia - 66\n",
            "Alterada     - 120\n",
            "Alterada     - 109\n",
            "Hipoglicemia - 62\n",
            "Normal       - 86\n",
            "Normal       - 96\n",
            "Alterada     - 103\n",
            "Normal       - 88\n",
            "Diabetes     - 155\n",
            "Hipoglicemia - 52\n",
            "Normal       - 89\n",
            "Normal       - 73\n"
          ]
        }
      ]
    },
    {
      "cell_type": "markdown",
      "source": [
        "8 - Un comercio electrónico tiene información de id de venta, cantidad vendida y precio del producto divididos en las siguientes listas:\n",
        "\n",
        "id = [0, 1, 2, 3, 4, 5, 6, 7, 8, 9]\n",
        "cantidad = [15, 12, 1, 15, 2, 11, 2, 12, 2, 4]\n",
        "precio = [93.0, 102.0, 18.0, 41.0, 122.0, 14.0, 71.0, 48.0, 14.0, 144.0]\n",
        "\n",
        "La plataforma necesita estructurar estos datos en una tabla que contenga el valor total de la venta, que se obtiene multiplicando la cantidad por el precio unitario. Además, la tabla debe contener un encabezado indicando las columnas: 'id', 'cantidad', 'precio' y 'total'.\n",
        "\n",
        "Crea una lista de tuplas en la que cada tupla tenga id, cantidad, precio y valor total, siendo la primera tupla el encabezado de la tabla."
      ],
      "metadata": {
        "id": "TuWd8BcyaNAG"
      }
    },
    {
      "cell_type": "code",
      "source": [
        "id = [0, 1, 2, 3, 4, 5, 6, 7, 8, 9]\n",
        "cantidad = [15, 12, 1, 15, 2, 11, 2, 12, 2, 4]\n",
        "precio = [93.0, 102.0, 18.0, 41.0, 122.0, 14.0, 71.0, 48.0, 14.0, 144.0]\n",
        "\n",
        "# Crear la lista de tuplas con encabezado\n",
        "tabla = [('id', 'cantidad', 'precio', 'total')]\n",
        "\n",
        "# Calcular y agregar filas\n",
        "for i in range(len(id)):\n",
        "    total = cantidad[i] * precio[i]\n",
        "    tabla.append((id[i], cantidad[i], precio[i], total))\n",
        "\n",
        "# Mostrar tabla formateada\n",
        "print(f\"{'id':<5}{'cantidad':<10}{'precio':<10}{'total':<10}\")\n",
        "print(\"-\" * 35)\n",
        "for fila in tabla[1:]:\n",
        "    print(f\"{fila[0]:<5}{fila[1]:<10}{fila[2]:<10.2f}{fila[3]:<10.2f}\")"
      ],
      "metadata": {
        "colab": {
          "base_uri": "https://localhost:8080/"
        },
        "id": "OAIxiy8AeCQa",
        "outputId": "7b558032-6773-40ad-e592-84d15708d464"
      },
      "execution_count": 81,
      "outputs": [
        {
          "output_type": "stream",
          "name": "stdout",
          "text": [
            "id   cantidad  precio    total     \n",
            "-----------------------------------\n",
            "0    15        93.00     1395.00   \n",
            "1    12        102.00    1224.00   \n",
            "2    1         18.00     18.00     \n",
            "3    15        41.00     615.00    \n",
            "4    2         122.00    244.00    \n",
            "5    11        14.00     154.00    \n",
            "6    2         71.00     142.00    \n",
            "7    12        48.00     576.00    \n",
            "8    2         14.00     28.00     \n",
            "9    4         144.00    576.00    \n"
          ]
        }
      ]
    },
    {
      "cell_type": "markdown",
      "source": [
        "9 - Una empresa tiene sucursales distribuidas en los estados de la región Sudeste de Brasil. En una de las tablas de registro de las sucursales, hay una columna que contiene la información de a qué estado pertenece: `estados =['CMX', 'OAX', 'PUE', 'PUE', 'CMX', 'PUE', 'OAX', 'OAX', 'OAX', 'CMX', 'CMX', 'PUE', 'OAX', 'CMX', 'VER', 'PUE', 'VER', 'CMX', 'PUE', 'CMX', 'OAX', 'CMX', 'PUE']`.\n",
        "\n",
        "La empresa siempre está abriendo nuevas sucursales, por lo que la tabla está constantemente recibiendo nuevos registros y al gerente le gustaría tener la información actualizada de la cantidad de sucursales en cada estado.\n",
        "\n",
        "A partir de la columna con la información de los estados, crea un diccionario utilizando la comprensión de diccionarios (dict comprehension) con la clave siendo el nombre de un estado y el valor siendo la cantidad de veces que aparece el estado en la lista.\n",
        "\n",
        "Consejo: Puedes hacer un paso intermedio para generar una lista de listas en la que cada una de las listas tenga el nombre de solo un estado con valores repetidos."
      ],
      "metadata": {
        "id": "Qd3cYJ1xg7Vp"
      }
    },
    {
      "cell_type": "code",
      "source": [
        "estados = [\n",
        "    'CMX', 'OAX', 'PUE', 'PUE', 'CMX', 'PUE', 'OAX', 'OAX', 'OAX',\n",
        "    'CMX', 'CMX', 'PUE', 'OAX', 'CMX', 'VER', 'PUE', 'VER', 'CMX',\n",
        "    'PUE', 'CMX', 'OAX', 'CMX', 'PUE'\n",
        "]\n",
        "\n",
        "# Crear diccionario con el conteo de sucursales por estado\n",
        "conteo_estados = {estado: estados.count(estado) for estado in set(estados)}\n",
        "\n",
        "# Mostrar resultado\n",
        "print(conteo_estados)\n"
      ],
      "metadata": {
        "colab": {
          "base_uri": "https://localhost:8080/"
        },
        "id": "GHdWFlXohZ8r",
        "outputId": "bde2bf06-b562-4137-c00e-f77f5ee4a488"
      },
      "execution_count": 84,
      "outputs": [
        {
          "output_type": "stream",
          "name": "stdout",
          "text": [
            "{'PUE': 7, 'OAX': 6, 'VER': 2, 'CMX': 8}\n"
          ]
        }
      ]
    },
    {
      "cell_type": "markdown",
      "source": [
        "10 - En esa misma tabla de registro de sucursales, hay una columna con la información de la cantidad de personas empleadas y el gerente quisiera tener un agrupamiento de la suma de esas personas para cada estado. Las informaciones contenidas en la tabla son:\n",
        "\n",
        " empleados = [('CMX', 16), ('OAX', 8), ('PUE', 9), ('PUE', 6), ('CMX', 10), ('PUE', 4), ('OAX',9),  ('OAX', 7), ('OAX', 12), ('CMX', 7), ('CMX', 11), ('PUE',8), ('OAX',8), ('CMX',9), ('VER', 13), ('PUE', 5),  ('VER', 9), ('CMX', 12), ('PUE', 10), ('CMX', 7), ('OAX', 14), ('CMX', 10), ('PUE', 12)]\n",
        "\n",
        "A partir de la lista de tuplas, crea un diccionario en el que las claves son los nombres de los estados únicos y los valores son las listas con el número de empleados referentes al estado. También crea un diccionario en el que las claves son los nombres de los estados y los valores son la suma de empleados por estado."
      ],
      "metadata": {
        "id": "ryb4TNZsi6L6"
      }
    },
    {
      "cell_type": "code",
      "source": [
        "empleados = [\n",
        "    ('CMX', 16), ('OAX', 8), ('PUE', 9), ('PUE', 6), ('CMX', 10), ('PUE', 4), ('OAX', 9), ('OAX', 7), ('OAX', 12),\n",
        "    ('CMX', 7), ('CMX', 11), ('PUE', 8), ('OAX', 8), ('CMX', 9), ('VER', 13), ('PUE', 5), ('VER', 9), ('CMX', 12),\n",
        "    ('PUE', 10), ('CMX', 7), ('OAX', 14), ('CMX', 10), ('PUE', 12) ]\n",
        "# Diccionario para agrupar listas de empleados por estado\n",
        "empleados_por_estado = {}\n",
        "\n",
        "for estado, cantidad in empleados:\n",
        "    if estado not in empleados_por_estado:\n",
        "        empleados_por_estado[estado] = []\n",
        "    empleados_por_estado[estado].append(cantidad)\n",
        "\n",
        "# Diccionario con la suma de empleados por estado\n",
        "suma_empleados = {estado: sum(cantidades) for estado, cantidades in empleados_por_estado.items()}\n",
        "\n",
        "# Mostrar resultados\n",
        "print(\"Diccionario con listas de empleados por estado:\")\n",
        "for estado, lista in empleados_por_estado.items():\n",
        "    print(f\"{estado}: {lista}\")\n",
        "print(\"\\nDiccionario con suma de empleados por estado:\")\n",
        "for estado, total in suma_empleados.items():\n",
        "    print(f\"{estado}: {total}\")"
      ],
      "metadata": {
        "colab": {
          "base_uri": "https://localhost:8080/"
        },
        "id": "zDHebk-gjieS",
        "outputId": "45897d1f-e002-4c97-97f5-b209ecf51de9"
      },
      "execution_count": 91,
      "outputs": [
        {
          "output_type": "stream",
          "name": "stdout",
          "text": [
            "Diccionario con listas de empleados por estado:\n",
            "CMX: [16, 10, 7, 11, 9, 12, 7, 10]\n",
            "OAX: [8, 9, 7, 12, 8, 14]\n",
            "PUE: [9, 6, 4, 8, 5, 10, 12]\n",
            "VER: [13, 9]\n",
            "\n",
            "Diccionario con suma de empleados por estado:\n",
            "CMX: 82\n",
            "OAX: 58\n",
            "PUE: 54\n",
            "VER: 22\n"
          ]
        }
      ]
    },
    {
      "cell_type": "markdown",
      "source": [],
      "metadata": {
        "id": "8VxXUZBEO4To"
      }
    },
    {
      "cell_type": "markdown",
      "source": [],
      "metadata": {
        "id": "LTzHFU0qO5gI"
      }
    },
    {
      "cell_type": "markdown",
      "source": [],
      "metadata": {
        "id": "XOhD7wGzO6qm"
      }
    }
  ]
}