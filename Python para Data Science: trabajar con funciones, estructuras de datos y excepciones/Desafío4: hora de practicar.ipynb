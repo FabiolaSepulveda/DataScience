{
  "nbformat": 4,
  "nbformat_minor": 0,
  "metadata": {
    "colab": {
      "provenance": [],
      "authorship_tag": "ABX9TyNBbR4F0XHbW2/Ypu6oQ16u",
      "include_colab_link": true
    },
    "kernelspec": {
      "name": "python3",
      "display_name": "Python 3"
    },
    "language_info": {
      "name": "python"
    }
  },
  "cells": [
    {
      "cell_type": "markdown",
      "metadata": {
        "id": "view-in-github",
        "colab_type": "text"
      },
      "source": [
        "<a href=\"https://colab.research.google.com/github/FabiolaSepulveda/DataScience/blob/main/Python%20para%20Data%20Science%3A%20trabajar%20con%20funciones%2C%20estructuras%20de%20datos%20y%20excepciones/Desaf%C3%ADo4%3A%20hora%20de%20practicar.ipynb\" target=\"_parent\"><img src=\"https://colab.research.google.com/assets/colab-badge.svg\" alt=\"Open In Colab\"/></a>"
      ]
    },
    {
      "cell_type": "markdown",
      "source": [
        "# **Desafío4: hora de practicar**"
      ],
      "metadata": {
        "id": "L-jzL02ykOmV"
      }
    },
    {
      "cell_type": "markdown",
      "source": [
        "Vamos practicar lo que hemos aprendido hasta ahora resolviendo los problemas propuestos en código."
      ],
      "metadata": {
        "id": "OYRSr6yyeCO6"
      }
    },
    {
      "cell_type": "markdown",
      "source": [
        "**Calentamiento**"
      ],
      "metadata": {
        "id": "7MvBPQGseFLk"
      }
    },
    {
      "cell_type": "markdown",
      "source": [
        "1 - Haz un programa que solicite a la persona usuaria ingresar dos números decimales y calcular la división entre estos números. El código debe incluir un manejo de error, indicando el tipo de error que se generó si la división no es posible.\n",
        "\n",
        "Prueba el programa con el segundo valor numérico de la entrada igual a 0. También prueba usando caracteres textuales en la entrada para verificar los tipos de errores que ocurren."
      ],
      "metadata": {
        "id": "jqnyBVOXsJBL"
      }
    },
    {
      "cell_type": "code",
      "source": [
        "try:\n",
        "    num1 = float(input(\"Ingresa el primer número decimal: \"))\n",
        "    num2 = float(input(\"Ingresa el segundo número decimal: \"))\n",
        "\n",
        "    resultado = num1 / num2\n",
        "    print(f\"Resultado de la división: {resultado}\")\n",
        "\n",
        "except ZeroDivisionError:\n",
        "    print(\"Error: No se puede dividir entre cero.\")\n",
        "\n",
        "except ValueError:\n",
        "    print(\"Error: Debes ingresar valores numéricos válidos.\")\n",
        "\n",
        "except Exception as e:\n",
        "    print(f\"Se produjo un error inesperado: {type(e).__name__} - {e}\")"
      ],
      "metadata": {
        "colab": {
          "base_uri": "https://localhost:8080/"
        },
        "id": "R9TIh3sEsNzH",
        "outputId": "8f392d76-5bb0-40f2-dad6-67eaf3fb4059"
      },
      "execution_count": 97,
      "outputs": [
        {
          "output_type": "stream",
          "name": "stdout",
          "text": [
            "Ingresa el primer número decimal: 10\n",
            "Ingresa el segundo número decimal: 0\n",
            "Error: No se puede dividir entre cero.\n"
          ]
        }
      ]
    },
    {
      "cell_type": "markdown",
      "source": [
        "2 - Haz un programa que solicite a la persona usuaria ingresar un texto que será una clave a buscar en el siguiente diccionario: `edades = {'Júlia': 16, 'Carol': 23, 'Alberto': 19, 'Roberta': 17}`, almacenando el resultado del valor en una variable. El código debe incluir un manejo de error KeyError, imprimiendo la información 'Nombre no encontrado' en caso de error, e imprimir el valor si no ocurre ninguno.\n",
        "\n",
        "Prueba el programa con un nombre presente en una de las claves del diccionario y con uno que no esté en el diccionario para verificar el mensaje de error."
      ],
      "metadata": {
        "id": "uu0lmQjWtfQG"
      }
    },
    {
      "cell_type": "code",
      "source": [
        "# Diccionario de edades\n",
        "edades = {'Júlia': 16, 'Carol': 23, 'Alberto': 19, 'Roberta': 17}\n",
        "\n",
        "# Solicitar al usuario que ingrese un nombre\n",
        "nombre = input(\"Ingresa un nombre para buscar la edad: \")\n",
        "\n",
        "# Buscar la edad con manejo de error\n",
        "try:\n",
        "    edad = edades[nombre]\n",
        "    print(f\"La edad de {nombre} es {edad} años.\")\n",
        "except KeyError:\n",
        "    print(\"Nombre no encontrado.\")"
      ],
      "metadata": {
        "id": "OQ4HHY6BtiRB",
        "colab": {
          "base_uri": "https://localhost:8080/"
        },
        "outputId": "1819c731-b9fc-4458-f2fe-c31a85de4962"
      },
      "execution_count": 101,
      "outputs": [
        {
          "output_type": "stream",
          "name": "stdout",
          "text": [
            "Ingresa un nombre para buscar la edad: Fabiola\n",
            "Nombre no encontrado.\n"
          ]
        }
      ]
    },
    {
      "cell_type": "markdown",
      "source": [
        "3 - Crea una función que reciba una lista como parámetro y convierta todos los valores de la lista a flotantes. La función debe incluir un manejo de error indicando el tipo de error generado y devolver la lista si no ha ocurrido ningún error. Por último, debe tener la cláusula finally para imprimir el texto: 'Fin de la ejecución de la función'."
      ],
      "metadata": {
        "id": "idfzvEMit0qn"
      }
    },
    {
      "cell_type": "code",
      "source": [
        "def convertir_a_flotantes(lista):\n",
        "    try:\n",
        "        lista_convertida = [float(valor) for valor in lista]\n",
        "        return lista_convertida\n",
        "    except Exception as e:\n",
        "        print(f\"Ocurrió un error: {type(e).__name__} - {e}\")\n",
        "        return None\n",
        "    finally:\n",
        "        print(\"Fin de la ejecución de la función.\")\n",
        "\n",
        "# Lista válida\n",
        "lista1 = ['1', '2.5', '3', '4.75']\n",
        "resultado1 = convertir_a_flotantes(lista1)\n",
        "print(\"Resultado 1:\", resultado1)\n",
        "\n",
        "# Lista con error\n",
        "lista2 = ['1', '2.5', 'tres', '4.75']\n",
        "resultado2 = convertir_a_flotantes(lista2)\n",
        "print(\"Resultado 2:\", resultado2)"
      ],
      "metadata": {
        "colab": {
          "base_uri": "https://localhost:8080/"
        },
        "id": "K2ihl2TWty4X",
        "outputId": "64f5c93f-c290-4395-9162-1f90b6d6ddba"
      },
      "execution_count": 105,
      "outputs": [
        {
          "output_type": "stream",
          "name": "stdout",
          "text": [
            "Fin de la ejecución de la función.\n",
            "Resultado 1: [1.0, 2.5, 3.0, 4.75]\n",
            "Ocurrió un error: ValueError - could not convert string to float: 'tres'\n",
            "Fin de la ejecución de la función.\n",
            "Resultado 2: None\n"
          ]
        }
      ]
    },
    {
      "cell_type": "markdown",
      "source": [
        "4 - Crea una función que reciba dos listas como parámetros y agrupe los elementos uno a uno de las listas, formando una lista de tuplas de 3 elementos. El primer y segundo elemento de la tupla son los valores en la posición `i` de las listas y el tercer elemento es la suma de los valores en la posición `i` de las listas.\n",
        "\n",
        "La función debe incluir un manejo de error indicando el tipo de error generado y devolver como resultado la lista de tuplas. Si las listas enviadas como parámetro tienen tamaños diferentes, la función debe devolver un IndexError con la frase: 'La cantidad de elementos en cada lista es diferente.'.\n",
        "\n",
        "Datos para probar la función:\n",
        "\n",
        "Valores sin error:\n",
        "\n",
        "lista1 = [4, 6, 7, 9, 10]\n",
        "\n",
        "lista2 = [-4, 6, 8, 7, 9]\n",
        "\n",
        "Listas con tamaños diferentes:\n",
        "\n",
        "lista1 = [4, 6, 7, 9, 10, 4]\n",
        "\n",
        "lista2 = [-4, 6, 8, 7, 9]\n",
        "\n",
        "Listas con valores incoherentes:\n",
        "\n",
        "lista1 = [4, 6, 7, 9, 'A']\n",
        "\n",
        "lista2 = [-4, 'E', 8, 7, 9]"
      ],
      "metadata": {
        "id": "-Gg48OZJvMqH"
      }
    },
    {
      "cell_type": "code",
      "source": [
        "def agrupar_y_sumar(lista1, lista2):\n",
        "    resultado = []\n",
        "    try:\n",
        "        if len(lista1) != len(lista2):\n",
        "            raise IndexError('La cantidad de elementos en cada lista es diferente.')\n",
        "        for i in range(len(lista1)):\n",
        "            suma = lista1[i] + lista2[i]\n",
        "            resultado.append((lista1[i], lista2[i], suma))\n",
        "    except IndexError as e:\n",
        "        print(f\" IndexError: {e}\")\n",
        "    except TypeError as e:\n",
        "        print(f\" TypeError: {e}\")\n",
        "    except Exception as e:\n",
        "        print(f\" Error inesperado: {type(e).__name__} - {e}\")\n",
        "    return resultado\n",
        "# Caso 1: Valores correctos\n",
        "lista1 = [4, 6, 7, 9, 10]\n",
        "lista2 = [-4, 6, 8, 7, 9]\n",
        "print(\"Resultado válido:\")\n",
        "print(agrupar_y_sumar(lista1, lista2))\n",
        "\n",
        "# Caso 2: Listas de diferente tamaño\n",
        "lista1 = [4, 6, 7, 9, 10, 4]\n",
        "lista2 = [-4, 6, 8, 7, 9]\n",
        "print(\"\\nListas de diferente tamaño:\")\n",
        "print(agrupar_y_sumar(lista1, lista2))\n",
        "\n",
        "# Caso 3: Valores no sumables (strings en lugar de números)\n",
        "lista1 = [4, 6, 7, 9, 'A']\n",
        "lista2 = [-4, 'E', 8, 7, 9]\n",
        "print(\"\\nListas con valores incoherentes:\")\n",
        "print(agrupar_y_sumar(lista1, lista2))"
      ],
      "metadata": {
        "colab": {
          "base_uri": "https://localhost:8080/"
        },
        "id": "Lp2jo0byvUSf",
        "outputId": "9bfb2d72-54ae-4ee0-af0a-6459b44d8ffb"
      },
      "execution_count": 106,
      "outputs": [
        {
          "output_type": "stream",
          "name": "stdout",
          "text": [
            "Resultado válido:\n",
            "[(4, -4, 0), (6, 6, 12), (7, 8, 15), (9, 7, 16), (10, 9, 19)]\n",
            "\n",
            "Listas de diferente tamaño:\n",
            " IndexError: La cantidad de elementos en cada lista es diferente.\n",
            "[]\n",
            "\n",
            "Listas con valores incoherentes:\n",
            " TypeError: unsupported operand type(s) for +: 'int' and 'str'\n",
            "[(4, -4, 0)]\n"
          ]
        }
      ]
    },
    {
      "cell_type": "markdown",
      "source": [
        "**Aplicando a proyectos**"
      ],
      "metadata": {
        "id": "io6Z0QBUwist"
      }
    },
    {
      "cell_type": "markdown",
      "source": [
        "5 - Como desafío, se te ha asignado la tarea de desarrollar un código que contabiliza las puntuaciones de estudiantes de una institución educativa de acuerdo con sus respuestas en una prueba. Este código debe ser probado para un ejemplo de 3 estudiantes con una lista de listas en la que cada lista tiene las respuestas de 5 preguntas objetivas de cada estudiante. Cada pregunta vale un punto y las alternativas posibles son A, B, C o D.\n",
        "\n",
        "Si alguna alternativa en una de las pruebas no está entre las alternativas posibles, debes lanzar un ValueError con el mensaje \"La alternativa [alternativa] no es una opción de alternativa válida\". El cálculo de las 3 notas solo se realizará mediante las entradas con las alternativas A, B, C o D en todas las pruebas. Si no se lanza la excepción, se mostrará una lista con las notas en cada prueba.\n",
        "\n",
        "Datos para la prueba del código:\n",
        "\n",
        "Respuestas de la prueba:\n",
        "\n",
        "respuestas = ['D', 'A', 'B', 'C', 'A']\n",
        "\n",
        "A continuación, hay 2 listas de listas que puedes usar como prueba:\n",
        "\n",
        "Notas sin excepción:\n",
        "\n",
        "tests_sin_ex = [['D', 'A', 'B', 'C', 'A'], ['C', 'A', 'A', 'C', 'A'], ['D', 'B', 'A', 'C', 'A']]\n",
        "Notas con excepción:\n",
        "\n",
        "tests_con_ex = [['D', 'A', 'B', 'C', 'A'], ['C', 'A', 'A', 'E', 'A'], ['D', 'B', 'A', 'C', 'A']]"
      ],
      "metadata": {
        "id": "COxLz031VYED"
      }
    },
    {
      "cell_type": "code",
      "source": [
        "def evaluar_pruebas(respuestas_correctas, respuestas_estudiantes):\n",
        "    opciones_validas = {'A', 'B', 'C', 'D'}\n",
        "    notas = []\n",
        "    for i, prueba in enumerate(respuestas_estudiantes):\n",
        "        for respuesta in prueba:\n",
        "            if respuesta not in opciones_validas:\n",
        "                raise ValueError(f\"La alternativa {respuesta} no es una opción de alternativa válida\")\n",
        "        # Calcular la nota si todo es válido\n",
        "        nota = sum(1 for r_est, r_corr in zip(prueba, respuestas_correctas) if r_est == r_corr)\n",
        "        notas.append(nota)\n",
        "    return notas\n",
        "# Datos de prueba\n",
        "respuestas = ['D', 'A', 'B', 'C', 'A']\n",
        "\n",
        "tests_sin_ex = [['D', 'A', 'B', 'C', 'A'], ['C', 'A', 'A', 'C', 'A'], ['D', 'B', 'A', 'C', 'A']]\n",
        "tests_con_ex = [['D', 'A', 'B', 'C', 'A'], ['C', 'A', 'A', 'E', 'A'], ['D', 'B', 'A', 'C', 'A']]\n",
        "\n",
        "# Prueba sin excepción\n",
        "try:\n",
        "    notas_sin_ex = evaluar_pruebas(respuestas, tests_sin_ex)\n",
        "    print(\"Notas sin excepción:\", notas_sin_ex)\n",
        "except ValueError as e:\n",
        "    print(\"Error:\", e)\n",
        "\n",
        "# Prueba con excepción\n",
        "try:\n",
        "    notas_con_ex = evaluar_pruebas(respuestas, tests_con_ex)\n",
        "    print(\"Notas con excepción:\", notas_con_ex)\n",
        "except ValueError as e:\n",
        "    print(\"Error:\", e)"
      ],
      "metadata": {
        "colab": {
          "base_uri": "https://localhost:8080/"
        },
        "id": "KOHXYEmzWnNr",
        "outputId": "43fbfefb-d040-4346-af34-e4a1d29653b6"
      },
      "execution_count": 108,
      "outputs": [
        {
          "output_type": "stream",
          "name": "stdout",
          "text": [
            "Notas sin excepción: [5, 3, 3]\n",
            "Error: La alternativa E no es una opción de alternativa válida\n"
          ]
        }
      ]
    },
    {
      "cell_type": "markdown",
      "source": [
        "6 - Estás trabajando con procesamiento de lenguaje natural (NLP) y, en esta ocasión, tu líder te pidió que crees un fragmento de código que reciba una lista con las palabras separadas de una frase generada por ChatGPT.\n",
        "\n",
        "Necesitas crear una función que evalúe cada palabra de este texto y verifique si el tratamiento para quitar los símbolos de puntuación (',', '.', '!' y '?') se realizó. De lo contrario, se lanzará una excepción del tipo ValueError señalando el primer caso en que se detectó el uso de una puntuación a través de la frase \"El texto presenta puntuaciones en la palabra \"[palabra]\"\". Esta solicitud se centra en el análisis del patrón de frases generadas por la inteligencia artificial.\n",
        "\n",
        "Datos para probar el código:\n",
        "\n",
        "Lista tratada:\n",
        "\n",
        "lista_tratada = ['Python', 'es', 'un', 'lenguaje', 'de', 'programación', 'poderoso', 'versátil',\n",
        "                  'y', 'fácil', 'de', 'aprender', 'utilizado', 'en', 'diversos', 'campos', 'desde',\n",
        "                  'análisis', 'de', 'datos', 'hasta', 'inteligencia', 'artificial']\n",
        "\n",
        "Lista no tratada:\n",
        "\n",
        "lista_no_tratada = ['Python', 'es', 'un', 'lenguaje', 'de', 'programación', 'poderoso,', 'versátil',\n",
        "                  'y', 'fácil,', 'de', 'aprender', 'utilizado', 'en', 'diversos', 'campos,', 'desde',\n",
        "                  'análisis', 'de', 'datos', 'hasta', 'inteligencia', 'artificial!']"
      ],
      "metadata": {
        "id": "F-GDQ50XaL5X"
      }
    },
    {
      "cell_type": "code",
      "source": [
        "def verificar_puntuacion(lista_palabras):\n",
        "    puntuaciones = [',', '.', '!', '?']\n",
        "\n",
        "    for palabra in lista_palabras:\n",
        "        if any(signo in palabra for signo in puntuaciones):\n",
        "            raise ValueError(f'El texto presenta puntuaciones en la palabra \"{palabra}\"')\n",
        "\n",
        "    print(\"Texto verificado: no hay puntuaciones.\")\n",
        "\n",
        "# Datos de prueba\n",
        "lista_tratada = [\n",
        "    'Python', 'es', 'un', 'lenguaje', 'de', 'programación', 'poderoso', 'versátil',\n",
        "    'y', 'fácil', 'de', 'aprender', 'utilizado', 'en', 'diversos', 'campos', 'desde',\n",
        "    'análisis', 'de', 'datos', 'hasta', 'inteligencia', 'artificial'\n",
        "]\n",
        "\n",
        "lista_no_tratada = [\n",
        "    'Python', 'es', 'un', 'lenguaje', 'de', 'programación', 'poderoso,', 'versátil',\n",
        "    'y', 'fácil,', 'de', 'aprender', 'utilizado', 'en', 'diversos', 'campos,', 'desde',\n",
        "    'análisis', 'de', 'datos', 'hasta', 'inteligencia', 'artificial!'\n",
        "]\n",
        "\n",
        "# Pruebas con manejo de excepción\n",
        "print(\"Verificando lista tratada:\")\n",
        "try:\n",
        "    verificar_puntuacion(lista_tratada)\n",
        "except ValueError as e:\n",
        "    print(\"Error:\", e)\n",
        "\n",
        "print(\"\\nVerificando lista no tratada:\")\n",
        "try:\n",
        "    verificar_puntuacion(lista_no_tratada)\n",
        "except ValueError as e:\n",
        "    print(\"Error:\", e)"
      ],
      "metadata": {
        "colab": {
          "base_uri": "https://localhost:8080/"
        },
        "id": "cggz_NWia4lK",
        "outputId": "f4b25508-cca8-43ae-8346-2f692ecdf21e"
      },
      "execution_count": 111,
      "outputs": [
        {
          "output_type": "stream",
          "name": "stdout",
          "text": [
            "Verificando lista tratada:\n",
            "Texto verificado: no hay puntuaciones.\n",
            "\n",
            "Verificando lista no tratada:\n",
            "Error: El texto presenta puntuaciones en la palabra \"poderoso,\"\n"
          ]
        }
      ]
    }
  ]
}