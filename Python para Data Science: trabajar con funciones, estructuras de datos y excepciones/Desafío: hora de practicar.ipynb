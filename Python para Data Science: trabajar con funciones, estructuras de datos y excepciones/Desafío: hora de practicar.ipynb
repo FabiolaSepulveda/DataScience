{
  "nbformat": 4,
  "nbformat_minor": 0,
  "metadata": {
    "colab": {
      "provenance": [],
      "authorship_tag": "ABX9TyMzuBvSZ6I64HVWqJA56Bhu",
      "include_colab_link": true
    },
    "kernelspec": {
      "name": "python3",
      "display_name": "Python 3"
    },
    "language_info": {
      "name": "python"
    }
  },
  "cells": [
    {
      "cell_type": "markdown",
      "metadata": {
        "id": "view-in-github",
        "colab_type": "text"
      },
      "source": [
        "<a href=\"https://colab.research.google.com/github/FabiolaSepulveda/DataScience/blob/main/Python%20para%20Data%20Science%3A%20trabajar%20con%20funciones%2C%20estructuras%20de%20datos%20y%20excepciones/Desaf%C3%ADo%3A%20hora%20de%20practicar.ipynb\" target=\"_parent\"><img src=\"https://colab.research.google.com/assets/colab-badge.svg\" alt=\"Open In Colab\"/></a>"
      ]
    },
    {
      "cell_type": "markdown",
      "source": [
        "# **Desafío: hora de practicar**"
      ],
      "metadata": {
        "id": "L-jzL02ykOmV"
      }
    },
    {
      "cell_type": "markdown",
      "source": [
        "Vamos a practicar lo que hemos aprendido hasta ahora resolviendo los problemas propuestos en código."
      ],
      "metadata": {
        "id": "T5XAHTs_kONF"
      }
    },
    {
      "cell_type": "markdown",
      "source": [
        "**Calentamiento**"
      ],
      "metadata": {
        "id": "Gs4rVubysFvL"
      }
    },
    {
      "cell_type": "markdown",
      "source": [
        "1 - Escribe un código para instalar la versión 3.7.1 de la biblioteca matplotlib."
      ],
      "metadata": {
        "id": "jqnyBVOXsJBL"
      }
    },
    {
      "cell_type": "code",
      "source": [
        "!pip install matplotlib==3.7.1"
      ],
      "metadata": {
        "colab": {
          "base_uri": "https://localhost:8080/",
          "height": 517
        },
        "id": "R9TIh3sEsNzH",
        "outputId": "a3c29aed-45e3-48c4-dfc7-24830409282a"
      },
      "execution_count": 26,
      "outputs": [
        {
          "output_type": "stream",
          "name": "stdout",
          "text": [
            "Collecting matplotlib==3.7.1\n",
            "  Downloading matplotlib-3.7.1-cp311-cp311-manylinux_2_17_x86_64.manylinux2014_x86_64.whl.metadata (5.6 kB)\n",
            "Requirement already satisfied: contourpy>=1.0.1 in /usr/local/lib/python3.11/dist-packages (from matplotlib==3.7.1) (1.3.1)\n",
            "Requirement already satisfied: cycler>=0.10 in /usr/local/lib/python3.11/dist-packages (from matplotlib==3.7.1) (0.12.1)\n",
            "Requirement already satisfied: fonttools>=4.22.0 in /usr/local/lib/python3.11/dist-packages (from matplotlib==3.7.1) (4.57.0)\n",
            "Requirement already satisfied: kiwisolver>=1.0.1 in /usr/local/lib/python3.11/dist-packages (from matplotlib==3.7.1) (1.4.8)\n",
            "Requirement already satisfied: numpy>=1.20 in /usr/local/lib/python3.11/dist-packages (from matplotlib==3.7.1) (2.0.2)\n",
            "Requirement already satisfied: packaging>=20.0 in /usr/local/lib/python3.11/dist-packages (from matplotlib==3.7.1) (24.2)\n",
            "Requirement already satisfied: pillow>=6.2.0 in /usr/local/lib/python3.11/dist-packages (from matplotlib==3.7.1) (11.1.0)\n",
            "Requirement already satisfied: pyparsing>=2.3.1 in /usr/local/lib/python3.11/dist-packages (from matplotlib==3.7.1) (3.2.3)\n",
            "Requirement already satisfied: python-dateutil>=2.7 in /usr/local/lib/python3.11/dist-packages (from matplotlib==3.7.1) (2.8.2)\n",
            "Requirement already satisfied: six>=1.5 in /usr/local/lib/python3.11/dist-packages (from python-dateutil>=2.7->matplotlib==3.7.1) (1.17.0)\n",
            "Downloading matplotlib-3.7.1-cp311-cp311-manylinux_2_17_x86_64.manylinux2014_x86_64.whl (11.6 MB)\n",
            "\u001b[2K   \u001b[90m━━━━━━━━━━━━━━━━━━━━━━━━━━━━━━━━━━━━━━━━\u001b[0m \u001b[32m11.6/11.6 MB\u001b[0m \u001b[31m55.4 MB/s\u001b[0m eta \u001b[36m0:00:00\u001b[0m\n",
            "\u001b[?25hInstalling collected packages: matplotlib\n",
            "  Attempting uninstall: matplotlib\n",
            "    Found existing installation: matplotlib 3.10.0\n",
            "    Uninstalling matplotlib-3.10.0:\n",
            "      Successfully uninstalled matplotlib-3.10.0\n",
            "\u001b[31mERROR: pip's dependency resolver does not currently take into account all the packages that are installed. This behaviour is the source of the following dependency conflicts.\n",
            "plotnine 0.14.5 requires matplotlib>=3.8.0, but you have matplotlib 3.7.1 which is incompatible.\u001b[0m\u001b[31m\n",
            "\u001b[0mSuccessfully installed matplotlib-3.7.1\n"
          ]
        },
        {
          "output_type": "display_data",
          "data": {
            "application/vnd.colab-display-data+json": {
              "pip_warning": {
                "packages": [
                  "matplotlib",
                  "mpl_toolkits"
                ]
              },
              "id": "253618e2174447ddb234eac0acb402ff"
            }
          },
          "metadata": {}
        }
      ]
    },
    {
      "cell_type": "markdown",
      "source": [
        "2 - Escribe un código para importar la biblioteca numpy con el alias np."
      ],
      "metadata": {
        "id": "uu0lmQjWtfQG"
      }
    },
    {
      "cell_type": "code",
      "source": [
        "import numpy as np"
      ],
      "metadata": {
        "id": "OQ4HHY6BtiRB"
      },
      "execution_count": 2,
      "outputs": []
    },
    {
      "cell_type": "markdown",
      "source": [
        "3 - Crea un programa que lea la siguiente lista de números y elija uno al azar."
      ],
      "metadata": {
        "id": "idfzvEMit0qn"
      }
    },
    {
      "cell_type": "code",
      "source": [
        "import random\n",
        "\n",
        "# Lista de números\n",
        "lista = [8, 12, 54, 23, 43, 1, 90, 87, 105, 77]\n",
        "\n",
        "# Elegir un número al azar\n",
        "numero_aleatorio = random.choice(lista)\n",
        "\n",
        "# Mostrar el número elegido\n",
        "print(\"El número elegido al azar es:\", numero_aleatorio)"
      ],
      "metadata": {
        "colab": {
          "base_uri": "https://localhost:8080/"
        },
        "id": "K2ihl2TWty4X",
        "outputId": "4edb760e-95eb-449a-82c3-b7004c37e77c"
      },
      "execution_count": 3,
      "outputs": [
        {
          "output_type": "stream",
          "name": "stdout",
          "text": [
            "El número elegido al azar es: 77\n"
          ]
        }
      ]
    },
    {
      "cell_type": "markdown",
      "source": [
        "4 - Crea un programa que genere aleatoriamente un número entero menor que 100."
      ],
      "metadata": {
        "id": "-Gg48OZJvMqH"
      }
    },
    {
      "cell_type": "code",
      "source": [
        "import random\n",
        "\n",
        "# Genera aleatoriamente un número entero entre 0 y 99 (ambos incluidos)\n",
        "numero = random.randint(0, 99)\n",
        "\n",
        "# Mostrar el número generado\n",
        "print(\"Número aleatorio generado:\", numero)"
      ],
      "metadata": {
        "colab": {
          "base_uri": "https://localhost:8080/"
        },
        "id": "Lp2jo0byvUSf",
        "outputId": "2e11a75d-5c3b-4446-b14e-edb8d4d0eced"
      },
      "execution_count": 16,
      "outputs": [
        {
          "output_type": "stream",
          "name": "stdout",
          "text": [
            "Número aleatorio generado: 28\n"
          ]
        }
      ]
    },
    {
      "cell_type": "markdown",
      "source": [
        "5 - Crea un programa que solicite a la persona usuaria ingresar dos números enteros y calcule la potencia del primer número elevado al segundo."
      ],
      "metadata": {
        "id": "io6Z0QBUwist"
      }
    },
    {
      "cell_type": "code",
      "source": [
        "import math\n",
        "\n",
        "# Solicita al usuario ingresar dos números enteros\n",
        "numero1 = int(input(\"Ingresa el primer número entero: \"))\n",
        "numero2 = int(input(\"Ingresa el segundo número entero: \"))\n",
        "\n",
        "# Calcula la potencia utilizando math.pow\n",
        "resultado = math.pow(numero1, numero2)\n",
        "\n",
        "# Muestra el resultado\n",
        "print(f\"La potencia de {numero1} elevado a {numero2} es igual a {resultado}\")"
      ],
      "metadata": {
        "colab": {
          "base_uri": "https://localhost:8080/"
        },
        "id": "VmDaZ6nNwqa9",
        "outputId": "28106c06-78fd-487f-e92e-b086fd641d76"
      },
      "execution_count": 22,
      "outputs": [
        {
          "output_type": "stream",
          "name": "stdout",
          "text": [
            "Ingresa el primer número entero: 4\n",
            "Ingresa el segundo número entero: 6\n",
            "La potencia de 4 elevado a 6 es igual a 4096.0\n"
          ]
        }
      ]
    },
    {
      "cell_type": "markdown",
      "source": [
        "**Aplicando a proyectos**"
      ],
      "metadata": {
        "id": "Z2taFz7IyXKN"
      }
    },
    {
      "cell_type": "markdown",
      "source": [
        "6 - Se debe escribir un programa para sortear a un seguidor de una red social para ganar un premio. La lista de participantes está numerada y debemos elegir aleatoriamente un número según la cantidad de participantes. Pide a la persona usuaria que proporcione el número de participantes del sorteo y devuelve el número sorteado."
      ],
      "metadata": {
        "id": "M9RN4jkFyYzU"
      }
    },
    {
      "cell_type": "code",
      "source": [
        "import random\n",
        "\n",
        "# Solicitar al usuario el número de participantes\n",
        "num_participantes = int(input(\"Ingrese el número total de participantes: \"))\n",
        "\n",
        "# Validar que haya al menos un participante\n",
        "if num_participantes < 1:\n",
        "    print(\"Debe haber al menos un participante para realizar el sorteo.\")\n",
        "else:\n",
        "    # Elegir un número aleatorio entre 1 y el número de participantes\n",
        "    ganador = random.randint(1, num_participantes)\n",
        "    print(f\"El número sorteado es: {ganador}\")\n"
      ],
      "metadata": {
        "colab": {
          "base_uri": "https://localhost:8080/"
        },
        "id": "nYUxgmGWygQS",
        "outputId": "073a584a-f577-4fca-833c-31ca64e7a2b9"
      },
      "execution_count": 26,
      "outputs": [
        {
          "output_type": "stream",
          "name": "stdout",
          "text": [
            "Ingrese el número total de participantes: 100\n",
            "El número sorteado es: 24\n"
          ]
        }
      ]
    },
    {
      "cell_type": "markdown",
      "source": [
        "7 - Has recibido una solicitud para generar números de token para acceder a la aplicación de una empresa. El token debe ser par y variar de 1000 a 9998. Escribe un código que solicite el nombre de la persona usuaria y muestre un mensaje junto a este token generado aleatoriamente.\n",
        "\n",
        "print(f\"Hola, {nombre_usuario}, tu token de acceso es {token_generado} ¡Bienvenido/a!\")\n"
      ],
      "metadata": {
        "id": "vTGfz791ziT7"
      }
    },
    {
      "cell_type": "code",
      "source": [
        "import random\n",
        "\n",
        "# Solicitar el nombre del usuario\n",
        "nombre_usuario = input(\"Por favor, ingresa tu nombre: \")\n",
        "\n",
        "# Generar token aleatorio entre 1000 y 9998\n",
        "token_generado = random.choice([num for num in range(1000, 9999) if num % 2 == 0])\n",
        "\n",
        "# Mostrar el mensaje\n",
        "print(f\"Hola, {nombre_usuario}, tu token de acceso es {token_generado} ¡Bienvenido/a!\")"
      ],
      "metadata": {
        "colab": {
          "base_uri": "https://localhost:8080/"
        },
        "id": "tmm5NJLazsNH",
        "outputId": "4c478188-d3c0-4337-efe7-a024fb04c58a"
      },
      "execution_count": 29,
      "outputs": [
        {
          "output_type": "stream",
          "name": "stdout",
          "text": [
            "Por favor, ingresa tu nombre: Fabiola\n",
            "Hola, Fabiola, tu token de acceso es 1510 ¡Bienvenido/a!\n"
          ]
        }
      ]
    },
    {
      "cell_type": "markdown",
      "source": [
        "8 - Para diversificar y atraer nuevos clientes, una lanchonete creó un ítem misterioso en su menú llamado \"ensalada de frutas sorpresa\". En este ítem, se eligen aleatoriamente 3 frutas de una lista de 12 para componer la ensalada de frutas del cliente. Crea el código que realice esta selección aleatoria según la lista dada.\n",
        "\n",
        "frutas = [\"manzana\", \"banana\", \"uva\", \"pera\", \"mango\", \"coco\", \"sandia\", \"fresa\", \"naranja\", \"maracuya\", \"kiwi\", \"cereza\"]\n"
      ],
      "metadata": {
        "id": "qlxV-oNW07O0"
      }
    },
    {
      "cell_type": "code",
      "source": [
        "import random\n",
        "\n",
        "frutas = [\"manzana\", \"banana\", \"uva\", \"pera\", \"mango\", \"coco\",\n",
        "          \"sandia\", \"fresa\", \"naranja\", \"maracuya\", \"kiwi\", \"cereza\"]\n",
        "\n",
        "ensalada_sorpresa = random.sample(frutas, 3)\n",
        "\n",
        "print(f\"¡Tu ensalada de frutas sorpresa contiene: {ensalada_sorpresa}!\")"
      ],
      "metadata": {
        "colab": {
          "base_uri": "https://localhost:8080/"
        },
        "id": "PR3iSqT90X6N",
        "outputId": "17270ba5-81f7-4050-dd47-d681bed31961"
      },
      "execution_count": 33,
      "outputs": [
        {
          "output_type": "stream",
          "name": "stdout",
          "text": [
            "¡Tu ensalada de frutas sorpresa contiene: ['sandia', 'cereza', 'banana']!\n"
          ]
        }
      ]
    },
    {
      "cell_type": "markdown",
      "source": [
        "9 - Has recibido un desafío para calcular la raíz cuadrada de una lista de números, identificando cuáles resultan en un número entero. La lista es la siguiente:\n",
        "\n",
        "numeros = [2, 8, 15, 23, 91, 112, 256]"
      ],
      "metadata": {
        "id": "1byBCEik1uk2"
      }
    },
    {
      "cell_type": "code",
      "source": [
        "import math\n",
        "\n",
        "numeros = [2, 8, 15, 23, 91, 112, 256]\n",
        "\n",
        "enteros = []\n",
        "\n",
        "for numero in numeros:\n",
        "    raiz = math.sqrt(numero)\n",
        "    if raiz.is_integer():\n",
        "        enteros.append((numero, int(raiz)))\n",
        "\n",
        "print(\"Números cuya raíz cuadrada es entera:\")\n",
        "for n, r in enteros:\n",
        "    print(f\"{n} → √{n} = {r}\")"
      ],
      "metadata": {
        "colab": {
          "base_uri": "https://localhost:8080/"
        },
        "id": "ufdheEh12JXV",
        "outputId": "5ce90fcb-4d0d-4ea5-f64b-d2f9ad2643cc"
      },
      "execution_count": 36,
      "outputs": [
        {
          "output_type": "stream",
          "name": "stdout",
          "text": [
            "Números cuya raíz cuadrada es entera:\n",
            "256 → √256 = 16\n"
          ]
        }
      ]
    },
    {
      "cell_type": "markdown",
      "source": [
        "10 - Haz un programa para una tienda que vende césped para jardines. Esta tienda trabaja con jardines circulares y el precio del metro cuadrado de césped es de R$ 25,00. Pide a la persona usuaria el radio del área circular y devuelve el valor en reales de cuánto tendrá que pagar."
      ],
      "metadata": {
        "id": "ClwcgTpG3I0U"
      }
    },
    {
      "cell_type": "code",
      "source": [
        "import math\n",
        "\n",
        "precio_m2 = 25.00\n",
        "\n",
        "# Solicitar al usuario el radio del área circular de jardín\n",
        "radio = float(input(\"Ingresa el radio del área circular del jardín en metros: \"))\n",
        "\n",
        "# Calcular el área del círculo\n",
        "area = math.pi * (radio ** 2)\n",
        "\n",
        "# Calcula el precio total\n",
        "precio_total = area * precio_m2\n",
        "\n",
        "print(f\"El precio total por el césped es: R$ {precio_total:.2f}\")"
      ],
      "metadata": {
        "colab": {
          "base_uri": "https://localhost:8080/"
        },
        "id": "hf0eu7nG3QLr",
        "outputId": "2663e4fe-43c6-439e-8553-52ba02a27d22"
      },
      "execution_count": 38,
      "outputs": [
        {
          "output_type": "stream",
          "name": "stdout",
          "text": [
            "Ingresa el radio del área circular del jardín en metros: 50\n",
            "El precio total por el césped es: R$ 196349.54\n"
          ]
        }
      ]
    }
  ]
}