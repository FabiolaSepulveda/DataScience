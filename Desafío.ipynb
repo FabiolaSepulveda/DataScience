{
  "nbformat": 4,
  "nbformat_minor": 0,
  "metadata": {
    "colab": {
      "provenance": [],
      "authorship_tag": "ABX9TyOBLt0aRNgsq+7JokB5Z2UK",
      "include_colab_link": true
    },
    "kernelspec": {
      "name": "python3",
      "display_name": "Python 3"
    },
    "language_info": {
      "name": "python"
    }
  },
  "cells": [
    {
      "cell_type": "markdown",
      "metadata": {
        "id": "view-in-github",
        "colab_type": "text"
      },
      "source": [
        "<a href=\"https://colab.research.google.com/github/FabiolaSepulveda/DataScience/blob/main/Desaf%C3%ADo.ipynb\" target=\"_parent\"><img src=\"https://colab.research.google.com/assets/colab-badge.svg\" alt=\"Open In Colab\"/></a>"
      ]
    },
    {
      "cell_type": "markdown",
      "source": [
        "# **Desafío: ¡Es hora de practicar!**"
      ],
      "metadata": {
        "id": "cceafA7yN1TY"
      }
    },
    {
      "cell_type": "markdown",
      "source": [
        "Vamos a practicar el uso de la función print con algunas actividades. Para ello, resuelve los problemas propuestos en código:"
      ],
      "metadata": {
        "id": "MZ-5w0gAN2S-"
      }
    },
    {
      "cell_type": "markdown",
      "source": [
        "1 - Imprime la frase \"Escuela de Datos de Alura\"."
      ],
      "metadata": {
        "id": "5297qe6HOH2e"
      }
    },
    {
      "cell_type": "code",
      "source": [
        "print(\"Escuela de Datos de Alura\")"
      ],
      "metadata": {
        "colab": {
          "base_uri": "https://localhost:8080/"
        },
        "id": "4x78q82FOUfZ",
        "outputId": "96dc6981-9805-47a0-da76-51d3ccaf41d4"
      },
      "execution_count": 1,
      "outputs": [
        {
          "output_type": "stream",
          "name": "stdout",
          "text": [
            "Escuela de Datos de Alura\n"
          ]
        }
      ]
    },
    {
      "cell_type": "markdown",
      "source": [
        "2 - Imprime tu nombre y tu apellido siguiendo la estructura a continuación:\n",
        "\n",
        "![1.png](data:image/png;base64,iVBORw0KGgoAAAANSUhEUgAAANcAAAA6CAYAAAAjp8zpAAAAAXNSR0IArs4c6QAAAARnQU1BAACxjwv8YQUAAAAJcEhZcwAADsMAAA7DAcdvqGQAAAOkSURBVHhe7dxBcp0wDMZxp+ucopv2JLnWG66Vc2XfLlp3HPWTETwLMPn/ZrLACFvYT5hkkrz8+Pn9VwEw3DfbAGAMigtIQnEBSSguIAnFBSShuIAkFBeQhOICklBcQJIXfkPjOY/310/Hy9vHp2OMMeM8d3eux/vrvy/VPlJGn1dyt/u72/1k6BYX4pa3jymeprOacX7DxcVTCtim+z2XLaj65Kjt7ZPEi1XnrOXt41OfbbzqpxdT2THXYtT5CDUX9pwnMp+qX483nurDxqqxPWetV9k5L2cJ7Vz2Q2Cp9sfOd3J7jT1WbWvHXttXYe/dHtc21b7GXmOPVdvasdc2m1Bx9dRJWP6+E9cvpW3vxfT6qLwYlc9ZVA6qLYM3hpofFVe+4HqNFi6uetNXeKLYRVcLUp/EvXzvuKClUwhnGbVeswkX12zawpltQa+WzxHsWqn1ms2m4urdcPtBbbf6rUb0UUQ+V/nA9vLx2jOoudkz1yP6KCKfo+Yh06biUrynjGrbak8fXj5n6+Vkz9njkbz5UW1b7enDy+cOuj+Kx7pnn9jYZqb5fnrnwh93eZW5qhnnl+ICkvBaCCRh5wKSUFxAEooLSEJxAUkoLiAJxQUkobiAJBQXkITiApJQXEASigtIQnEBSSguIAm/FX8R9m+VZvhjwK8ssl6h4mo7Up2MEkk4ElN25Hz2X7huvS/v/Iwi9x6JKQeueySf8GuhuhjjLTf+nxJ3ElmncHFVtmJHiiQciSlNXCQW54qsUySmXGzdV18L221TbaFesambs7EqpgS3ai/GjlFETBWJtTH2fNnxKqJ499Oe89RrVB+qLUKNqfq11Dg2VsWUYK5ejB2jiJgqEmtj7PnKy6fs2bmibHL22Gs7SmRsFfOY8B+ljBK5bxtjj722o0TGVjF71j1UXKoqraWzHbfV7cWMEhkjko+KUXFHUOOrtpGi992LUXOYJTJGJB8Vo+IiusVVB7JVu7WCq9rP3uuv6tlFuKJ2rZ5dr1H9zKZbXKPZp8FdPoxX/fDszadeN2qd7Jo/298suj/QaCfZa/MWUF2jROK2xHjnS0JM1cbac1F2Xj0qrz0590T68WIia1WCcVtivPMlIabVW7eUncsOtFzsaRXJxctZtR2pN749Z4+jRl3nzeFZIrl4Oau2Nd2dK6JXuYibbR5nyzdLbx5Sdi7s97jg9274X2SdKC4gydOvhQA0di4gCcUFJKG4gCQUF5CE4gKS/AZ/2fEPwcL2AQAAAABJRU5ErkJggg==)"
      ],
      "metadata": {
        "id": "Dg7WtM2rOdCn"
      }
    },
    {
      "cell_type": "code",
      "source": [
        "print(\"Nombre: Fabiola\")\n",
        "print(\"Nombre: Sepúlveda\")"
      ],
      "metadata": {
        "colab": {
          "base_uri": "https://localhost:8080/"
        },
        "id": "oJDuoKPVO8sr",
        "outputId": "0004b676-ee4d-45fc-90bd-fc07be323180"
      },
      "execution_count": 2,
      "outputs": [
        {
          "output_type": "stream",
          "name": "stdout",
          "text": [
            "Nombre: Fabiola\n",
            "Nombre: Sepúlveda\n"
          ]
        }
      ]
    },
    {
      "cell_type": "markdown",
      "source": [
        "3 - Imprime tu primer nombre letra por letra. Por ejemplo, si mi nombre es Álvaro, la salida sería:\n",
        "\n",
        "![2.png](data:image/png;base64,iVBORw0KGgoAAAANSUhEUgAAAC8AAADACAYAAACUNTr7AAAAAXNSR0IArs4c6QAAAARnQU1BAACxjwv8YQUAAAAJcEhZcwAADsMAAA7DAcdvqGQAAAIySURBVHhe7doxjloxFEBRD0tJk1SzCxpostRpoGEXWVCSyog4/yM/I/k+i3ulkQbTHMzjz3yLj+8/vv0pi3ZoF1ZKPJV4KvFU4qneE3+93Mr1cmuXpzaEr+jT+dg+NbWPlf8xC+MfR4Xe+aGxodG1IXyWXsIvdbW5Xm73kckwOiF8tpbGd18qn803NUIh/BZyb31G7zE2GVt658VTiacSTyWeSjyVeCrxVOKpQvhnN+FEIXy2xFOJpxJPtTQ+dNy390eKOmgN4bO19NiIpxJPJZ5KPJV4KvFU4qnEU70Hfu/+dW99Rt34jIXw7S63j2fXjd873thbn1E3PmNhfB0VemTKCP4xcmRKFE9j20L4bA3hM8x78aAVTDyVeCrxVOKpxFOJpxJPJZ4qfCf16/fP+++fh69/npvd0M7T6NoQvvb4LhCF8DS2LYTPVhifZd5L5GrzbGSoFxTe+UyF8Z+Hr/sPXRifqe6Zz9jSOy+eSjyVeCrxVOKpxFOJpxJP1X0ntfU1FfrLQyF8i91am9nSYzOM3xqj2YXG5jFyXGqhnT+djynQtRC+djof/3sniIbwWRrGZ9j9YXyNfAHdV5uMvbzzZOKpxFOJpxJPJZ5KPJV4KvFUS+NDt4Ht/Sp9htON3zpU3VqbWdfYtDteo48/uvAlwYhs1Y3PmHiql/Dkh7X04p9dVcgPcvd1vmzsNAkvUXy2usYma+KpxFOJpxJPJZ5KPJV4KvFU4qnEU4mnEk/1F34Ujov/PwHNAAAAAElFTkSuQmCC)"
      ],
      "metadata": {
        "id": "tQwB3amZPPqW"
      }
    },
    {
      "cell_type": "code",
      "source": [
        "print(\"F\")\n",
        "print(\"A\")\n",
        "print(\"B\")\n",
        "print(\"I\")\n",
        "print(\"O\")\n",
        "print(\"L\")\n",
        "print(\"A\")"
      ],
      "metadata": {
        "colab": {
          "base_uri": "https://localhost:8080/"
        },
        "id": "Tww1KuUaPcq1",
        "outputId": "d234d27d-085e-4833-dc35-568b878aa037"
      },
      "execution_count": 3,
      "outputs": [
        {
          "output_type": "stream",
          "name": "stdout",
          "text": [
            "F\n",
            "A\n",
            "B\n",
            "I\n",
            "O\n",
            "L\n",
            "A\n"
          ]
        }
      ]
    },
    {
      "cell_type": "markdown",
      "source": [
        "4 - Imprime tu fecha de nacimiento en formato día mes año. Recuerda que los valores de día y año no deben estar entre comillas. Suponiendo una fecha de cumpleaños el 28 de febrero de 2003, el formato debe ser como el siguiente:\n",
        "\n",
        "![image.png](data:image/png;base64,iVBORw0KGgoAAAANSUhEUgAAAJQAAAAZCAYAAADXEgfSAAAAAXNSR0IArs4c6QAAAARnQU1BAACxjwv8YQUAAAAJcEhZcwAADsMAAA7DAcdvqGQAAAHoSURBVGhD7ZfBbcMwDEWZnjNFL+kAmSFbZBYjs2SLzJAFskfu7YkF/UGJlE0bOfwHBKjIb9EWvyX3cPr5/hVCivjCACFroKFIKTQUKYWGIqXQUKSUwyf+lzc9jrPx7fKejXtMj+OQntQSGup1vs/Gp+d1NpakJstaQ6y9/pPJrrPVLdFgHXE0LbqGep3vs4m0EMawmBfLstYQa6//VHBNvV5oHHVLNEhGI9E3FE6AY7IfuPY4lkbTT8/rbMfJaNbQNVQWvOElTI/j/7eT/o3fUorNZzQeVbWq5tmKTD8iTZS3dI88D8/hGpfGmzPCFBxZmNfmaCwaK17cmxvH4lzjxaKxOPc0CvbCjm0/MB5pbE7J9nVoh8KiGK/cOj2wMdJoio15eaWXy9aSTlwG5xmh1QtJvtyRRvuJ5otIG6r1ABjfw1T4qwIbjXWytXCeanDNLfblbpHRWLI6yRqq9wB7c7u83d8WYI0ta2WJetHLKRnNUkJDRQ8gA9thBdldQvGOnCyjtVrgPEvvKeqFdzrgNRkNEuUt3Y9yLGyxBVCXLe6RWWxskJhjBnOtuTJ1xJlPgg9wD5wj0nvgGltwva0Wc0pPg7Uw36NrKEJGCY88QkagoUgpNBQphYYipdBQpBQaipRCQ5FS/gB74Yk/zMqZqAAAAABJRU5ErkJggg==)"
      ],
      "metadata": {
        "id": "QBlADFKwPuZK"
      }
    },
    {
      "cell_type": "code",
      "source": [
        "print (28, 'febrero' , 2003)"
      ],
      "metadata": {
        "colab": {
          "base_uri": "https://localhost:8080/"
        },
        "id": "Jw_zRGV-P7z-",
        "outputId": "039d0fc0-c767-481a-81e0-92842f595aff"
      },
      "execution_count": 4,
      "outputs": [
        {
          "output_type": "stream",
          "name": "stdout",
          "text": [
            "28 febrero 2003\n"
          ]
        }
      ]
    },
    {
      "cell_type": "markdown",
      "source": [
        "5 - Imprime, en una sola instrucción print, el año actual en el que estás realizando este curso. El valor del año debe ser un dato numérico, y la salida de print debe ser la siguiente:\n",
        "\n",
        "![image.png](data:image/png;base64,iVBORw0KGgoAAAANSUhEUgAAAKQAAAAZCAYAAAC/4YXqAAAAAXNSR0IArs4c6QAAAARnQU1BAACxjwv8YQUAAAAJcEhZcwAADsMAAA7DAcdvqGQAAAHuSURBVHhe7ZgxksIwDEUNdU6xzW7FLaCAhhsx3IgGCrgFZ6Fmt1JW0ci27JhEMP/NeCYWtqw431LC4vvn6zcA4ISlNAAwJxAkcAUECVwBQQJXLFp81FzOt/56u1v3NroG03K4doP+cfMY9C1wHzT/cO2KfZXGYhLk/bnvr1fL0+C3IMSnidMrdF/aPbWE71+YYL0a4Ui4D02cNVjiMpfs1CZy4W13676B94UL57h59O3VmAVJyNMO8qyWp+SBBv9kSzYva1qJo3JtKdVSzDUPSfoIET9yHI2Rdokcx32nbBwtnhCZz6E9jO2fFUtpTJVhmp8aQ5S8I1riKs6QGiRKalychPbg7s+9ai9F+pD9qZl7/RwkDGpSVLVjyDYGkyBjJ5rInWieGXirIecjt5bVZiW2Tg1TvXvnslQwjNGynezXkBQkPVyZyebMABSLjGkuvMVj4XDtBs0TSUF6Q8t+U6GJbc54apFltkVWa4lJkK02XMsmNT6lDw1trRipcTE7JzU/KD5kn7icb+r79ysZkyHlXK2Ml2IS5FhiYtZsKSzjY2tppMbJ32Q/ZvMOfaBQqxUQ/4gZ64uT/dsHvB+txNEaS1yTZEgArCBDfiDy3S6XlV5JaSwQJHAFSjZwBQQJXAFBAldAkMAVECRwxR9lQ2Eu2D8KcwAAAABJRU5ErkJggg==)"
      ],
      "metadata": {
        "id": "Boibkf9tQLHm"
      }
    },
    {
      "cell_type": "code",
      "source": [
        "print(\"Año actual:\", 2025)"
      ],
      "metadata": {
        "colab": {
          "base_uri": "https://localhost:8080/"
        },
        "id": "9CFsu1u9QUSe",
        "outputId": "986b8578-71c7-4f21-bac6-25085a27d835"
      },
      "execution_count": 5,
      "outputs": [
        {
          "output_type": "stream",
          "name": "stdout",
          "text": [
            "Año actual: 2025\n"
          ]
        }
      ]
    }
  ]
}