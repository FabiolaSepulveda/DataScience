{
  "nbformat": 4,
  "nbformat_minor": 0,
  "metadata": {
    "colab": {
      "provenance": [],
      "authorship_tag": "ABX9TyPO6z7D9c1ENiiYjkZXa6x2",
      "include_colab_link": true
    },
    "kernelspec": {
      "name": "python3",
      "display_name": "Python 3"
    },
    "language_info": {
      "name": "python"
    }
  },
  "cells": [
    {
      "cell_type": "markdown",
      "metadata": {
        "id": "view-in-github",
        "colab_type": "text"
      },
      "source": [
        "<a href=\"https://colab.research.google.com/github/FabiolaSepulveda/DataScience/blob/main/Python%20para%20Data%20Science-primeros%20pasos/Desaf%C3%ADo5%3A%20%C2%A1Es%20hora%20de%20practicar!.ipynb\" target=\"_parent\"><img src=\"https://colab.research.google.com/assets/colab-badge.svg\" alt=\"Open In Colab\"/></a>"
      ]
    },
    {
      "cell_type": "markdown",
      "source": [
        "# **Desafío5: ¡Es hora de practicar!**"
      ],
      "metadata": {
        "id": "L-jzL02ykOmV"
      }
    },
    {
      "cell_type": "markdown",
      "source": [
        "Vamos practicar el uso de estructuras de datos, como listas y diccionarios, a través de algunas actividades. Ahora que estamos avanzando en el contenido, podemos hacer los desafíos más interesantes. ¡Para ello, trabajaremos con proyectos de código!"
      ],
      "metadata": {
        "id": "T5XAHTs_kONF"
      }
    },
    {
      "cell_type": "markdown",
      "source": [
        "Primero, resolveremos algunos problemas para calentar y prepararnos para los proyectos."
      ],
      "metadata": {
        "id": "6BXEj2_0T5Un"
      }
    },
    {
      "cell_type": "markdown",
      "source": [
        "**Entrenando la programación**"
      ],
      "metadata": {
        "id": "_Mm2Ors6kOAv"
      }
    },
    {
      "cell_type": "markdown",
      "source": [
        "1 - Crea un programa que tenga la siguiente lista con los gastos de una empresa de papel [2172.54, 3701.35, 3518.09, 3456.61, 3249.38, 2840.82, 3891.45, 3075.26, 2317.64, 3219.08]. Con estos valores, crea un programa que calcule el promedio de gastos. Sugerencia: usa las funciones integradas *sum()* y *len()*."
      ],
      "metadata": {
        "id": "U6FNsuiZkb22"
      }
    },
    {
      "cell_type": "code",
      "source": [
        "# Listas de gastos\n",
        "gastos = [2172.54, 3701.35, 3518.09, 3456.61, 3249.38, 2840.82, 3891.45, 3075.26, 2317.64, 3219.08]\n",
        "\n",
        "# Cálculo del promedio\n",
        "promedio = sum(gastos) / len(gastos)\n",
        "\n",
        "# Mostrar el resultado\n",
        "print(f\"El promedio de gastos es: {promedio}\")"
      ],
      "metadata": {
        "colab": {
          "base_uri": "https://localhost:8080/"
        },
        "id": "A5Di9Xi7WXKU",
        "outputId": "c6674840-b981-469e-c849-2d05c05d7651"
      },
      "execution_count": 9,
      "outputs": [
        {
          "output_type": "stream",
          "name": "stdout",
          "text": [
            "El promedio de gastos es: 3144.222\n"
          ]
        }
      ]
    },
    {
      "cell_type": "markdown",
      "source": [
        "2 - Con los mismos datos de la pregunta anterior, determina cuántas compras se realizaron por encima de 3000 reales y calcula el porcentaje con respecto al total de compras."
      ],
      "metadata": {
        "id": "5aOMMD0QT7Px"
      }
    },
    {
      "cell_type": "code",
      "source": [
        "# Listas de gastos\n",
        "gastos = [2172.54, 3701.35, 3518.09, 3456.61, 3249.38, 2840.82, 3891.45, 3075.26, 2317.64, 3219.08]\n",
        "\n",
        "# Compras por encima de 3000\n",
        "compras_mayores_3000 = 0\n",
        "for gasto in gastos:\n",
        "    if gasto > 3000:\n",
        "        compras_mayores_3000 += 1\n",
        "\n",
        "# Cacular el porcentaje\n",
        "porcentaje_mayores_3000 = (compras_mayores_3000 / len(gastos)) * 100\n",
        "\n",
        "print(f\"Compras mayores a R$ 3000: {compras_mayores_3000}%\")\n",
        "print(f\"Porcentaje sobre el total: {porcentaje_mayores_3000}\")"
      ],
      "metadata": {
        "colab": {
          "base_uri": "https://localhost:8080/"
        },
        "id": "FyYuN493XE5p",
        "outputId": "d03d0b2d-03aa-4dee-dbd8-8c03d3765a4e"
      },
      "execution_count": 10,
      "outputs": [
        {
          "output_type": "stream",
          "name": "stdout",
          "text": [
            "Compras mayores a R$ 3000: 7%\n",
            "Porcentaje sobre el total: 70.0\n"
          ]
        }
      ]
    },
    {
      "cell_type": "markdown",
      "source": [
        "3 - Crea un código que recoja en una lista 5 números enteros aleatorios e imprima la lista. Ejemplo: [1, 4, 7, 2, 4]."
      ],
      "metadata": {
        "id": "yL4MCAxrT_G4"
      }
    },
    {
      "cell_type": "code",
      "source": [
        "# Lista que almacena los númeroos\n",
        "numeros = []\n",
        "\n",
        "# Bucle que itera 5 veces\n",
        "for i in range(5):\n",
        "    numero = int(input(f\"Ingrese el número {i + 1}: \"))\n",
        "    numeros.append(numero)\n",
        "\n",
        "print(\"Lista de números:\", numeros)"
      ],
      "metadata": {
        "colab": {
          "base_uri": "https://localhost:8080/"
        },
        "id": "0GPnQtFgX5JT",
        "outputId": "1467a982-0860-42cb-c3fc-a05985d89d05"
      },
      "execution_count": 11,
      "outputs": [
        {
          "output_type": "stream",
          "name": "stdout",
          "text": [
            "Ingrese el número 1: 10\n",
            "Ingrese el número 2: 20\n",
            "Ingrese el número 3: 30\n",
            "Ingrese el número 4: 0\n",
            "Ingrese el número 5: 50\n",
            "Lista de números: [10, 20, 30, 0, 50]\n"
          ]
        }
      ]
    },
    {
      "cell_type": "markdown",
      "source": [
        "4 - Recoge nuevamente 5 números enteros e imprime la lista en orden inverso al enviado."
      ],
      "metadata": {
        "id": "diTXZjjtUBwk"
      }
    },
    {
      "cell_type": "code",
      "source": [
        "# Lista que almacena los númeroos\n",
        "numeros = []\n",
        "\n",
        "# Bucle que itera 5 veces\n",
        "for i in range(5):\n",
        "    numero = int(input(f\"Ingrese el número {i + 1}: \"))\n",
        "    numeros.append(numero)\n",
        "\n",
        "# Imprimir la ista en orden inverso\n",
        "print(f\"Lista de números invertidos: {numeros[::-1]}\")"
      ],
      "metadata": {
        "colab": {
          "base_uri": "https://localhost:8080/"
        },
        "id": "m5XY3XERYOQw",
        "outputId": "b7479247-ae4c-4207-cadf-085e79d22b99"
      },
      "execution_count": 12,
      "outputs": [
        {
          "output_type": "stream",
          "name": "stdout",
          "text": [
            "Ingrese el número 1: 10\n",
            "Ingrese el número 2: 20\n",
            "Ingrese el número 3: 30\n",
            "Ingrese el número 4: 40\n",
            "Ingrese el número 5: 50\n",
            "Lista de números invertidos: [50, 40, 30, 20, 10]\n"
          ]
        }
      ]
    },
    {
      "cell_type": "markdown",
      "source": [
        "5 - Crea un programa que, al ingresar un número cualquiera, genere una lista que contenga todos los números primos entre 1 y el número ingresado."
      ],
      "metadata": {
        "id": "dsKUa3LoUELo"
      }
    },
    {
      "cell_type": "code",
      "source": [
        "# Ingresar un número\n",
        "num = int(input(\"Ingrese un número: \"))\n",
        "\n",
        "# Lista para guardar o números primos\n",
        "primos = []\n",
        "\n",
        "# Verificar cada número desde 2 hasta el número ingresado\n",
        "for i in range(2, num + 1):\n",
        "  es_primo = True\n",
        "  for j in range(2, i):\n",
        "      if i % j == 0:\n",
        "        es_primo = False\n",
        "        break\n",
        "  if es_primo:\n",
        "        primos.append(i)\n",
        "\n",
        "# Mostrar la lista de números primos\n",
        "print(\"Números primos entre 1 y\", num, \"son:\" , primos)"
      ],
      "metadata": {
        "colab": {
          "base_uri": "https://localhost:8080/"
        },
        "id": "nKotPOejYoyk",
        "outputId": "12bdd73a-0a0f-4f0c-f0db-8bd22e6bb0b3"
      },
      "execution_count": 13,
      "outputs": [
        {
          "output_type": "stream",
          "name": "stdout",
          "text": [
            "Ingrese un número: 10\n",
            "Números primos entre 1 y 10 son: [2, 3, 5, 7]\n"
          ]
        }
      ]
    },
    {
      "cell_type": "markdown",
      "source": [
        "6 - Escribe un programa que pida una fecha, especificando el día, mes y año, y determine si es válida para su análisis."
      ],
      "metadata": {
        "id": "1I9qdvrOUKrY"
      }
    },
    {
      "cell_type": "code",
      "source": [
        "\" Solicitar al usuario día, mes y año \"\n",
        "dia = int(input(\"Ingrese el día: \"))\n",
        "mes = int(input(\"Ingrese el mes: \"))\n",
        "año = int(input(\"Ingrese el año: \"))\n",
        "\n",
        "# Verificar si el mes es válido\n",
        "if mes < 1 or mes > 12:\n",
        "    print(\"Mes inválido\")\n",
        "else:\n",
        "  # Definir los días máximos de cada mes\n",
        "  dias_maximos = {\n",
        "      1: 31, 2: 28, 3: 31, 4: 30, 5: 31, 6: 30,\n",
        "      7: 31, 8: 31, 9: 30, 10: 31, 11: 30, 12: 31\n",
        "  }\n",
        "  # Verificar i el año es bisiesto\n",
        "  if (año % 4 == 0 and año % 100 != 0) or (año % 400 == 0):\n",
        "    dias_maximos[2] = 29 # Febrero tiene 29 días en año bisiesto\n",
        "  # V erificar si el día es váido para el mes dado\n",
        "  if dia < 1 or dia > dias_maximos[mes]:\n",
        "    print(\"Día inválido para el mes ingresado.\")\n",
        "  else:\n",
        "    print(\"La fecha es válida\")"
      ],
      "metadata": {
        "colab": {
          "base_uri": "https://localhost:8080/"
        },
        "id": "AIyBY9iQZpIp",
        "outputId": "5df130e4-b176-4c15-e966-5475ca925d00"
      },
      "execution_count": 14,
      "outputs": [
        {
          "output_type": "stream",
          "name": "stdout",
          "text": [
            "Ingrese el día: 10\n",
            "Ingrese el mes: 05\n",
            "Ingrese el año: 1977\n",
            "La fecha es válida\n"
          ]
        }
      ]
    },
    {
      "cell_type": "markdown",
      "source": [
        "**Momento para los proyectos**"
      ],
      "metadata": {
        "id": "WBRa6611ULx2"
      }
    },
    {
      "cell_type": "markdown",
      "source": [
        "7 - Para un estudio sobre la multiplicación de bacterias en una colonia, se recopiló el número de bacterias multiplicadas por día y se puede observar a continuación: [1.2, 2.1, 3.3, 5.0, 7.8, 11.3, 16.6, 25.1, 37.8, 56.9]. Con estos valores, crea un código que genere una lista que contenga el porcentaje de crecimiento de bacterias por día, comparando el número de bacterias en cada día con el número de bacterias del día anterior. Sugerencia: para calcular el porcentaje de crecimiento, utiliza la siguiente ecuación: 100 * (muestra_actual - muestra_anterior) / muestra_anterior."
      ],
      "metadata": {
        "id": "wtvnqETTUOec"
      }
    },
    {
      "cell_type": "code",
      "source": [
        "# Lista de bacterias multiplicadas por día\n",
        "bacterias = [1.2, 2.1, 3.3, 5.0, 7.8, 11.3, 16.6, 25.1, 37.8, 56.9]\n",
        "\n",
        "# Lista para almacenar los porcentajes de crecimiento\n",
        "porcentajes_crecimiento = []\n",
        "\n",
        "# Calcular el porcentaje de crecimiento para cada día (excepto el primero)\n",
        "for i in range(1, len(bacterias)):\n",
        "    crecimiento = 100 * (bacterias[i] - bacterias[i - 1]) / bacterias[i - 1]\n",
        "    porcentajes_crecimiento.append(crecimiento)\n",
        "\n",
        "# Mostrar los resultados\n",
        "print(\"Procentajes de crecimiento de bacterías por día:\")\n",
        "print(porcentajes_crecimiento)"
      ],
      "metadata": {
        "colab": {
          "base_uri": "https://localhost:8080/"
        },
        "id": "hE083x2sbDku",
        "outputId": "3f03e8d6-4eb4-4d4b-d486-f29329d0ddbe"
      },
      "execution_count": 15,
      "outputs": [
        {
          "output_type": "stream",
          "name": "stdout",
          "text": [
            "Procentajes de crecimiento de bacterías por día:\n",
            "[75.00000000000001, 57.142857142857125, 51.51515151515153, 56.0, 44.87179487179489, 46.90265486725664, 51.20481927710843, 50.59760956175297, 50.52910052910054]\n"
          ]
        }
      ]
    },
    {
      "cell_type": "markdown",
      "source": [
        "8 - Para una selección de productos alimenticios, debemos separar el conjunto de IDs proporcionados por números enteros, sabiendo que los productos con ID par son dulces y los que tienen ID impar son amargos. Crea un código que recoja 10 IDs. Luego, calcula y muestra la cantidad de productos dulces y amargos."
      ],
      "metadata": {
        "id": "_YbGV6toURKR"
      }
    },
    {
      "cell_type": "code",
      "source": [
        "# Inicializamos contadores\n",
        "dulces = 0\n",
        "amargos = 0\n",
        "\n",
        "# Recoger 10 IDs de productos\n",
        "for i in range(10):\n",
        "    id_producto = int(input(f\"Ingrese el ID del producto {i + 1}: \"))\n",
        "    #Verificar ssi el ID es par o impar\n",
        "    if id_producto % 2 == 0:\n",
        "        dulces += 1\n",
        "    else:\n",
        "        amargos += 1\n",
        "\n",
        "# Mostrar los resultados\n",
        "print(f\"Cantidad de productos dulces: {dulces}\")\n",
        "print(f\"Cantidad de productos amargos: {amargos}\")"
      ],
      "metadata": {
        "colab": {
          "base_uri": "https://localhost:8080/"
        },
        "id": "gkJtXe7kcQy5",
        "outputId": "6620d565-82c8-419e-f199-fc223e95a0db"
      },
      "execution_count": 16,
      "outputs": [
        {
          "output_type": "stream",
          "name": "stdout",
          "text": [
            "Ingrese el ID del producto 1: 1\n",
            "Ingrese el ID del producto 2: 2\n",
            "Ingrese el ID del producto 3: 6\n",
            "Ingrese el ID del producto 4: 3\n",
            "Ingrese el ID del producto 5: 4\n",
            "Ingrese el ID del producto 6: 10\n",
            "Ingrese el ID del producto 7: 15\n",
            "Ingrese el ID del producto 8: 9\n",
            "Ingrese el ID del producto 9: 12\n",
            "Ingrese el ID del producto 10: 7\n",
            "Cantidad de productos dulces: 5\n",
            "Cantidad de productos amargos: 5\n"
          ]
        }
      ]
    },
    {
      "cell_type": "markdown",
      "source": [
        "9 - Desarrolla un programa que informe la puntuación de un estudiante de acuerdo con sus respuestas. Debe pedir la respuesta del estudiante para cada pregunta y verificar si la respuesta coincide con el resultado. Cada pregunta vale un punto y hay opciones A, B, C o D.\n",
        "\n",
        "![image.png](data:image/png;base64,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)"
      ],
      "metadata": {
        "id": "g_SGX_WJUTSF"
      }
    },
    {
      "cell_type": "code",
      "source": [
        "# Respuesstas correctas dell examen\n",
        "respuestas_correctas = ['D', 'A', 'C', 'B', 'A', 'D', 'C', 'C', 'A', 'B']\n",
        "# Variabe para contar la puntuación\n",
        "puntuación = 0\n",
        "# Pedir respuestas del estudiante\n",
        "for i in range(10):\n",
        "    respuesta = input(f\"Ingrese la respuesta para la pregunta {i + 1}: \").upper()\n",
        "    # Verificar si la respuesta es correcta\n",
        "    if respuesta == respuestas_correctas[i]:\n",
        "        puntuación += 1\n",
        "\n",
        "# Mostrar la puntuación\n",
        "print(f\"\\nPuntuación del estudiante: {puntuación} de 10\")"
      ],
      "metadata": {
        "colab": {
          "base_uri": "https://localhost:8080/"
        },
        "id": "QpBwaEGpdC7O",
        "outputId": "79523340-d7ed-43b0-fb7a-10463c7b3dcb"
      },
      "execution_count": 17,
      "outputs": [
        {
          "output_type": "stream",
          "name": "stdout",
          "text": [
            "Ingrese la respuesta para la pregunta 1: d\n",
            "Ingrese la respuesta para la pregunta 2: c\n",
            "Ingrese la respuesta para la pregunta 3: a\n",
            "Ingrese la respuesta para la pregunta 4: b\n",
            "Ingrese la respuesta para la pregunta 5: a\n",
            "Ingrese la respuesta para la pregunta 6: c\n",
            "Ingrese la respuesta para la pregunta 7: c\n",
            "Ingrese la respuesta para la pregunta 8: a\n",
            "Ingrese la respuesta para la pregunta 9: b\n",
            "Ingrese la respuesta para la pregunta 10: b\n",
            "\n",
            "Puntuación del estudiante: 5 de 10\n"
          ]
        }
      ]
    },
    {
      "cell_type": "markdown",
      "source": [
        "10 - Un instituto de meteorología desea realizar un estudio de la temperatura media de cada mes del año. Para ello, debes crear un código que recoja y almacene esas temperaturas medias en una lista. Luego, calcula el promedio anual de las temperaturas y muestra todas las temperaturas por encima del promedio anual y en qué mes ocurrieron, mostrando los meses por su nombre (Enero, Febrero, etc.)."
      ],
      "metadata": {
        "id": "V_sXp05_UqGf"
      }
    },
    {
      "cell_type": "code",
      "source": [
        "# Lista de los meses\n",
        "meses = ['Enero', 'Febrero', 'Marzo', 'Abril', 'Mayo', 'Junio', 'Julio', 'Agosto', 'Septiembre', 'Octubre', 'Noviembre', 'Diciembre']\n",
        "\n",
        "# Lista para almacenar las temperaturas\n",
        "temperaturas = []\n",
        "#Recoger las temperaturas de cada mes\n",
        "for mes in meses:\n",
        "    temp = float(input(f\"Ingrese la temperatura media de {mes}: \"))\n",
        "    temperaturas.append(temp)\n",
        "\n",
        "# Calcular el promedio anual\n",
        "promedio_anual = sum(temperaturas) / len(temperaturas)\n",
        "\n",
        "# Mostrar e proomedio anual\n",
        "print(f\"\\nEl promedio anual de las temperaturas es: {promedio_anual} °C\")\n",
        "\n",
        "# Mostrar las temperaturas por encima del promedio y el mes correspondiente\n",
        "print(\"\\nMeses con temperaturas por encima del promedio anual:\")\n",
        "for i in range(len(temperaturas)):\n",
        "    if temperaturas[i] > promedio_anual:\n",
        "        print(f\"{meses[i]}: {temperaturas[i]} °C\")"
      ],
      "metadata": {
        "colab": {
          "base_uri": "https://localhost:8080/"
        },
        "id": "cZxZRH1yeRyg",
        "outputId": "f7363d5f-c6d2-47fa-d009-ddfd1b0ed820"
      },
      "execution_count": 18,
      "outputs": [
        {
          "output_type": "stream",
          "name": "stdout",
          "text": [
            "Ingrese la temperatura media de Enero: 37\n",
            "Ingrese la temperatura media de Febrero: 36\n",
            "Ingrese la temperatura media de Marzo: 38\n",
            "Ingrese la temperatura media de Abril: 30\n",
            "Ingrese la temperatura media de Mayo: 28\n",
            "Ingrese la temperatura media de Junio: 25\n",
            "Ingrese la temperatura media de Julio: 20\n",
            "Ingrese la temperatura media de Agosto: 18\n",
            "Ingrese la temperatura media de Septiembre: 21\n",
            "Ingrese la temperatura media de Octubre: 27\n",
            "Ingrese la temperatura media de Noviembre: 30\n",
            "Ingrese la temperatura media de Diciembre: 38\n",
            "\n",
            "El promedio anual de las temperaturas es: 29.0 °C\n",
            "\n",
            "Meses con temperaturas por encima del promedio anual:\n",
            "Enero: 37.0 °C\n",
            "Febrero: 36.0 °C\n",
            "Marzo: 38.0 °C\n",
            "Abril: 30.0 °C\n",
            "Noviembre: 30.0 °C\n",
            "Diciembre: 38.0 °C\n"
          ]
        }
      ]
    },
    {
      "cell_type": "markdown",
      "source": [
        "11 - Una empresa de comercio electrónico está interesada en analizar las ventas de sus productos. Los datos de ventas se han almacenado en un diccionario:\n",
        "\n",
        "{'Producto A': 300, 'Producto B': 80, 'Producto C': 60, 'Producto D': 200, 'Producto E': 250, 'Producto F': 30}\n",
        "\n",
        "Escribe un código que calcule el total de ventas y el producto más vendido."
      ],
      "metadata": {
        "id": "oB0PvJmdUvZV"
      }
    },
    {
      "cell_type": "code",
      "source": [
        "# Diccionario con los datos de ventas\n",
        "ventas = {'Producto A': 300, 'Producto B': 80, 'Producto C': 60, 'Producto D': 200, 'Producto E': 250, 'Producto F': 30}\n",
        "# Calcular el total de ventas\n",
        "total_ventas = 0\n",
        "for venta in ventas.values():\n",
        "    total_ventas += venta\n",
        "# Encontrar el producto más vendido\n",
        "producto_mas_vendido = \"\"\n",
        "mayor_venta = 0\n",
        "for producto, cantidad in ventas.items():\n",
        "    if cantidad > mayor_venta:\n",
        "        mayor_venta = cantidad\n",
        "        producto_mas_vendido = producto\n",
        "\n",
        "# Mostrar los resultados\n",
        "print(\"Total de ventas: \", total_ventas)\n",
        "print(\"Producto más vendido: \", producto_mas_vendido, \"con\", mayor_venta, \"ventas\")"
      ],
      "metadata": {
        "colab": {
          "base_uri": "https://localhost:8080/"
        },
        "id": "RUnPTH8qfr2J",
        "outputId": "2f38c2bd-2e51-4098-f745-a8f80e3c20c2"
      },
      "execution_count": 19,
      "outputs": [
        {
          "output_type": "stream",
          "name": "stdout",
          "text": [
            "Total de ventas:  920\n",
            "Producto más vendido:  Producto A con 300 ventas\n"
          ]
        }
      ]
    },
    {
      "cell_type": "markdown",
      "source": [
        "12 - Se realizó una encuesta de mercado para decidir cuál diseño de marca infantil es más atractivo para los niños. Los votos de la encuesta se pueden ver a continuación:12 - Se realizó una encuesta de mercado para decidir cuál diseño de marca infantil es más atractivo para los niños. Los votos de la encuesta se pueden ver a continuación:\n",
        "\n",
        "![image.png](data:image/png;base64,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)\n",
        "\n",
        "Adapta los datos proporcionados a una estructura de diccionario. A partir de ello, informa el diseño ganador y el porcentaje de votos recibidos."
      ],
      "metadata": {
        "id": "whcGzuCMVG_-"
      }
    },
    {
      "cell_type": "code",
      "source": [
        "# Diccionario con los votos por diseño\n",
        "votos = {\n",
        "    'Diseño 1': 1334,\n",
        "    'Diseño 2': 982,\n",
        "    'Diseño 3': 1751,\n",
        "    'Diseño 4': 210,\n",
        "    'Diseño 5': 1811\n",
        "}\n",
        "# Calcular total de votos\n",
        "total_votos = 0\n",
        "for cantidad in votos.values():\n",
        "    total_votos += cantidad\n",
        "# Determinar el diseño ganador\n",
        "ganador = \"\"\n",
        "votos_ganador = 0\n",
        "for diseño, cantidad in votos.items():\n",
        "    if cantidad > votos_ganador:\n",
        "        votos_ganador = cantidad\n",
        "        ganador = diseño\n",
        "# Calcular porcenaje de votos del diseño ganador\n",
        "porcentaje = (votos_ganador / total_votos) * 100\n",
        "\n",
        "# Mostrar resultados\n",
        "print(\"Disño ganador: \", ganador)\n",
        "print(f\"POrcentaje de voto: {porcentaje}%\")"
      ],
      "metadata": {
        "colab": {
          "base_uri": "https://localhost:8080/"
        },
        "id": "Sh12pqg0g17p",
        "outputId": "a2dc11bd-d64c-4984-96da-2519d2492a85"
      },
      "execution_count": 20,
      "outputs": [
        {
          "output_type": "stream",
          "name": "stdout",
          "text": [
            "Disño ganador:  Diseño 5\n",
            "POrcentaje de voto: 29.747043363994745%\n"
          ]
        }
      ]
    },
    {
      "cell_type": "markdown",
      "source": [
        "13 - Los empleados de un departamento de tu empresa recibirán una bonificación del 10% de su salario debido a un excelente rendimiento del equipo. El departamento de finanzas ha solicitado tu ayuda para verificar las consecuencias financieras de esta bonificación en los recursos. Se te ha enviado una lista con los salarios que recibirán la bonificación: [1172, 1644, 2617, 5130, 5532, 6341, 6650, 7238, 7685, 7782, 7903]. La bonificación de cada empleado no puede ser inferior a 200. En el código, convierte cada uno de los salarios en claves de un diccionario y la bonificación de cada salario en el valor correspondiente. Luego, informa el gasto total en bonificaciones, cuántos empleados recibieron la bonificación mínima y cuál fue el valor más alto de la bonificación proporcionada."
      ],
      "metadata": {
        "id": "GoWW6MbDVXPm"
      }
    },
    {
      "cell_type": "code",
      "source": [
        "# Lista de salarios\n",
        "salarios = [1172, 1644, 2617, 5130, 5532, 6341, 6650, 7238, 7685, 7782, 7903]\n",
        "# Diccionario de salario: bonificación\n",
        "bonificaciones = {}\n",
        "total_bonificaciones = 0\n",
        "bonificacion_minima = 200\n",
        "contador_minimos = 0\n",
        "bonificacion_mayor = 0\n",
        "\n",
        "for salario in salarios:\n",
        "    bonificación = salario * 0.10\n",
        "    if bonificación < bonificacion_minima:\n",
        "        bonificación = bonificacion_minima\n",
        "        contador_minimos += 1\n",
        "    bonificaciones[salario] = bonificación\n",
        "    total_bonificaciones += bonificación\n",
        "    if bonificación > bonificacion_mayor:\n",
        "        bonificacion_mayor = bonificación\n",
        "\n",
        "# Mostrar resultados\n",
        "print(\"Bonificaciones: \", bonificaciones)\n",
        "print(f\"Gasto total en bonificaciones: {total_bonificaciones}\")\n",
        "print(f\"Empleados que recibieron la bonificación mínima: {contador_minimos}\")\n",
        "print(f\"Bonificación más alta otorgada: {bonificacion_mayor}\")"
      ],
      "metadata": {
        "colab": {
          "base_uri": "https://localhost:8080/"
        },
        "id": "rb2Uno2ajrnE",
        "outputId": "cac1611f-e671-4ffc-eba0-b86161b15e14"
      },
      "execution_count": 23,
      "outputs": [
        {
          "output_type": "stream",
          "name": "stdout",
          "text": [
            "Bonificaciones:  {1172: 200, 1644: 200, 2617: 261.7, 5130: 513.0, 5532: 553.2, 6341: 634.1, 6650: 665.0, 7238: 723.8000000000001, 7685: 768.5, 7782: 778.2, 7903: 790.3000000000001}\n",
            "Gasto total en bonificaciones: 6087.8\n",
            "Empleados que recibieron la bonificación mínima: 2\n",
            "Bonificación más alta otorgada: 790.3000000000001\n"
          ]
        }
      ]
    },
    {
      "cell_type": "markdown",
      "source": [
        "14 - Un equipo de científicos de datos está estudiando la diversidad biológica en un bosque. El equipo recopiló información sobre el número de especies de plantas y animales en cada área del bosque y almacenó estos datos en un diccionario. En él, la clave describe el área de los datos y los valores en las listas corresponden a las especies de plantas y animales en esas áreas, respectivamente.\n",
        "\n",
        "{'Área Norte': [2819, 7236], 'Área Leste': [1440, 9492], 'Área Sul': [5969, 7496], 'Área Oeste': [14446, 49688], 'Área Centro': [22558, 45148]}\n",
        "\n",
        "Escribe un código para calcular el promedio de especies por área e identificar el área con la mayor diversidad biológica. Sugerencia: utiliza las funciones incorporadas sum() y len().Escribe un código para calcular el promedio de especies por área e identificar el área con la mayor diversidad biológica. Sugerencia: utiliza las funciones incorporadas *sum()* y *len()*."
      ],
      "metadata": {
        "id": "92xVkZ7IVhR4"
      }
    },
    {
      "cell_type": "code",
      "source": [
        "# Diccionario con los datos de especies por área\n",
        "especies = {\n",
        "    'Área Norte': [2819, 7236],\n",
        "    'Área Este': [1440, 9492],\n",
        "    'Área Sur': [5969, 7496],\n",
        "    'Área Oeste': [14446, 49688],\n",
        "    'Área Centro': [22558, 45148]\n",
        "}\n",
        "# Diccionario para almacenar los promedios\n",
        "promedios = {}\n",
        "mayor_promedio = 0\n",
        "area_mayor_diversidad = \"\"\n",
        "# Calcular el promedio de por área\n",
        "for area in especies:\n",
        "  lista = especies[area]\n",
        "  promedio = sum(lista) / len(lista)\n",
        "  promedios[area] = promedio\n",
        "\n",
        "  if promedio > mayor_promedio:\n",
        "    mayor_pomedio = promedio\n",
        "    area_mayor_diversidad = area\n",
        "\n",
        "# Mostrar promedio por área\n",
        "for area, promedio in promedios.items():\n",
        "  print(f\"El {area} tiene un promedio de {promedio} especies\")\n",
        "# Mostrar área conn mayor diversidad\n",
        "print(f\"El Área con mayor diversidad biológica es: {area_mayor_diversidad}\")"
      ],
      "metadata": {
        "colab": {
          "base_uri": "https://localhost:8080/"
        },
        "id": "3XWX4e6IlyfD",
        "outputId": "02f30b70-12ae-4f2c-9075-5ff59914aea3"
      },
      "execution_count": 24,
      "outputs": [
        {
          "output_type": "stream",
          "name": "stdout",
          "text": [
            "El Área Norte tiene un promedio de 5027.5 especies\n",
            "El Área Este tiene un promedio de 5466.0 especies\n",
            "El Área Sur tiene un promedio de 6732.5 especies\n",
            "El Área Oeste tiene un promedio de 32067.0 especies\n",
            "El Área Centro tiene un promedio de 33853.0 especies\n",
            "El Área con mayor diversidad biológica es: Área Centro\n"
          ]
        }
      ]
    },
    {
      "cell_type": "markdown",
      "source": [
        "15 - El departamento de Recursos Humanos de tu empresa te pidió ayuda para analizar las edades de los colaboradores de 4 sectores de la empresa. Para ello, te proporcionaron los siguientes datos:\n",
        "\n",
        "![image.png](data:image/png;base64,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)\n",
        "\n",
        "Dado que cada sector tiene 10 colaboradores, construye un código que calcule la media de edad de cada sector, la edad media general entre todos los sectores y cuántas personas están por encima de la edad media general."
      ],
      "metadata": {
        "id": "cTb-g54vV2-8"
      }
    },
    {
      "cell_type": "code",
      "source": [
        "#Datos proporcionadoos\n",
        "edades = {\n",
        "    'Sector A': [22, 26, 30, 30, 35, 38, 40, 56, 57, 65],\n",
        "    'Sector B': [22, 24, 26, 33, 41, 49, 50, 54, 60, 64],\n",
        "    'Sector C': [23, 26, 26, 29, 34, 35, 36, 41, 52, 56],\n",
        "    'Sector D': [19, 20, 25, 27, 34, 39, 42, 44, 50, 65]\n",
        "}\n",
        "\n",
        "#Calcular media por sector y acumular todas las edade\n",
        "total_edades = []\n",
        "print(\"Media ed edad por sector: \")\n",
        "for sector, lista in edades.items():\n",
        "    media_sector = sum(lista) / len(lista)\n",
        "    print(f\"{sector}: {media_sector} años\")\n",
        "    total_edades += lista #Unir todas las edades en una sola lista\n",
        "#Calcular edad media general\n",
        "media_general = sum(total_edades) / len(total_edades)\n",
        "print(f\"\\nEdad media general: {media_general} años\")\n",
        "# Contar cuántas personas están porr encima de la media general\n",
        "mayores_que_media = 0\n",
        "for edad in total_edades:\n",
        "    if edad > media_general:\n",
        "        mayores_que_media += 1\n",
        "print(f\"Personas por encima de la edad media general: {mayores_que_media}\")"
      ],
      "metadata": {
        "colab": {
          "base_uri": "https://localhost:8080/"
        },
        "id": "eyDFMZiVnMFa",
        "outputId": "d9cd11a8-7dcb-41d3-ea32-d47b9803826b"
      },
      "execution_count": 25,
      "outputs": [
        {
          "output_type": "stream",
          "name": "stdout",
          "text": [
            "Media ed edad por sector: \n",
            "Sector A: 39.9 años\n",
            "Sector B: 42.3 años\n",
            "Sector C: 35.8 años\n",
            "Sector D: 36.5 años\n",
            "\n",
            "Edad media general: 38.625 años\n",
            "Personas por encima de la edad media general: 18\n"
          ]
        }
      ]
    }
  ]
}