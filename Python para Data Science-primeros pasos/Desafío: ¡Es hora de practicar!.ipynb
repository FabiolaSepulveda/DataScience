{
  "nbformat": 4,
  "nbformat_minor": 0,
  "metadata": {
    "colab": {
      "provenance": [],
      "authorship_tag": "ABX9TyMTQp4PdOpIV+AtmvXstwZN",
      "include_colab_link": true
    },
    "kernelspec": {
      "name": "python3",
      "display_name": "Python 3"
    },
    "language_info": {
      "name": "python"
    }
  },
  "cells": [
    {
      "cell_type": "markdown",
      "metadata": {
        "id": "view-in-github",
        "colab_type": "text"
      },
      "source": [
        "<a href=\"https://colab.research.google.com/github/FabiolaSepulveda/DataScience/blob/main/Python%20para%20Data%20Science-primeros%20pasos/Desaf%C3%ADo%3A%20%C2%A1Es%20hora%20de%20practicar!.ipynb\" target=\"_parent\"><img src=\"https://colab.research.google.com/assets/colab-badge.svg\" alt=\"Open In Colab\"/></a>"
      ]
    },
    {
      "cell_type": "markdown",
      "source": [
        "# **Desafío: ¡Es hora de practicar!**"
      ],
      "metadata": {
        "id": "L-jzL02ykOmV"
      }
    },
    {
      "cell_type": "markdown",
      "source": [
        "Vamos a practicar el uso de la función print con algunas actividades. Para ello, resuelve los problemas propuestos en código:"
      ],
      "metadata": {
        "id": "T5XAHTs_kONF"
      }
    },
    {
      "cell_type": "markdown",
      "source": [
        "1 - Imprime la frase \"Escuela de Datos de Alura\"."
      ],
      "metadata": {
        "id": "jqnyBVOXsJBL"
      }
    },
    {
      "cell_type": "code",
      "source": [
        "print(\"Escuela de Datos d Alura\")"
      ],
      "metadata": {
        "colab": {
          "base_uri": "https://localhost:8080/"
        },
        "id": "R9TIh3sEsNzH",
        "outputId": "9204dc3f-3eb4-46f1-d82a-6835a8f32612"
      },
      "execution_count": 1,
      "outputs": [
        {
          "output_type": "stream",
          "name": "stdout",
          "text": [
            "Escuela de Datos d Alura\n"
          ]
        }
      ]
    },
    {
      "cell_type": "markdown",
      "source": [
        "2 - Imprime tu nombre y tu apellido siguiendo la estructura a continuación:\n",
        "\n",
        "Nombre: [tu nombre]\n",
        "\n",
        "Apellido: [tu apellido]"
      ],
      "metadata": {
        "id": "uu0lmQjWtfQG"
      }
    },
    {
      "cell_type": "code",
      "source": [
        "print(\"Nombre: Fabiola\")\n",
        "print(\"Apellido: Sepúlveda\")"
      ],
      "metadata": {
        "id": "OQ4HHY6BtiRB",
        "colab": {
          "base_uri": "https://localhost:8080/"
        },
        "outputId": "a9a84ea4-0caa-4fc4-bc49-634c5093663d"
      },
      "execution_count": 2,
      "outputs": [
        {
          "output_type": "stream",
          "name": "stdout",
          "text": [
            "Nombre: Fabiola\n",
            "Apellido: Sepúlveda\n"
          ]
        }
      ]
    },
    {
      "cell_type": "markdown",
      "source": [
        "3 - Imprime tu primer nombre letra por letra. Por ejemplo, si mi nombre es Álvaro, la salida sería:\n",
        "\n",
        "![image.png](data:image/png;base64,iVBORw0KGgoAAAANSUhEUgAAABMAAABxCAYAAAA3bJidAAAAAXNSR0IArs4c6QAAAARnQU1BAACxjwv8YQUAAAAJcEhZcwAADsMAAA7DAcdvqGQAAAErSURBVGhD7ZbZDsMwCASh///P7lNai3ItQZaiMo+xNVp8EPNaa1ETL/nhDiP7wszEzPLzD6HskmQ2nY8ejavEljIRXJlcryidK0MxZTJVJp0pqxDKkN1Uz5ksMTsWJkNQk1VpTTYynJHhmLLs5d4xZRVGhvNg2e0fSpUwGcLIcEaGo8q86+ONqbIqqsx6v3oPPbJkVc7IZKlRieTJKrgymc5LRZEMZdo2zshwHixDXkGhDMGVyW4RpXNlKKZMpsqkM2UVQhmym2pzlCVmx8JkCGqyKq3JRoYzMpxWmXmdtC5hTP0QJltrpRojZWQIZ2V7l21ZsyyhjJJ/JsrKsrTKzENboTXZyHBGhhPeAHm5velusr2PZTqHKdMaYiQ0ZRX+XaYttrYpO63n7A0kvY3sKbKZvwAAAABJRU5ErkJggg==)"
      ],
      "metadata": {
        "id": "idfzvEMit0qn"
      }
    },
    {
      "cell_type": "code",
      "source": [
        "print(\"F\")\n",
        "print(\"A\")\n",
        "print(\"B\")\n",
        "print(\"I\")\n",
        "print(\"O\")\n",
        "print(\"L\")\n",
        "print(\"A\")"
      ],
      "metadata": {
        "colab": {
          "base_uri": "https://localhost:8080/"
        },
        "id": "K2ihl2TWty4X",
        "outputId": "0ae16f06-97d9-43bf-e310-d25bf98b2f7a"
      },
      "execution_count": 3,
      "outputs": [
        {
          "output_type": "stream",
          "name": "stdout",
          "text": [
            "F\n",
            "A\n",
            "B\n",
            "I\n",
            "O\n",
            "L\n",
            "A\n"
          ]
        }
      ]
    },
    {
      "cell_type": "markdown",
      "source": [
        "4 - Imprime tu fecha de nacimiento en formato día mes año. Recuerda que los valores de día y año no deben estar entre comillas. Suponiendo una fecha de cumpleaños el 28 de febrero de 2003, el formato debe ser como el siguiente:\n",
        "\n",
        "28 febrero 2003"
      ],
      "metadata": {
        "id": "-Gg48OZJvMqH"
      }
    },
    {
      "cell_type": "code",
      "source": [
        "print(28, \"febrero\" , 2003)"
      ],
      "metadata": {
        "colab": {
          "base_uri": "https://localhost:8080/"
        },
        "id": "Lp2jo0byvUSf",
        "outputId": "7f69173c-5904-4983-f637-95d50af7e817"
      },
      "execution_count": 4,
      "outputs": [
        {
          "output_type": "stream",
          "name": "stdout",
          "text": [
            "28 febrero 2003\n"
          ]
        }
      ]
    },
    {
      "cell_type": "markdown",
      "source": [
        "5 - Imprime, en una sola instrucción print, el año actual en el que estás realizando este curso. El valor del año debe ser un dato numérico, y la salida de print debe ser la siguiente:\n",
        "\n",
        "Año actual: [año]Año actual: [año]"
      ],
      "metadata": {
        "id": "io6Z0QBUwist"
      }
    },
    {
      "cell_type": "code",
      "source": [
        "print(\"Año actual:\", 2025)"
      ],
      "metadata": {
        "colab": {
          "base_uri": "https://localhost:8080/"
        },
        "id": "VmDaZ6nNwqa9",
        "outputId": "3d468ff9-e4ef-4b9d-eedd-9a9b5bdcd9df"
      },
      "execution_count": 5,
      "outputs": [
        {
          "output_type": "stream",
          "name": "stdout",
          "text": [
            "Año actual: 2025\n"
          ]
        }
      ]
    }
  ]
}