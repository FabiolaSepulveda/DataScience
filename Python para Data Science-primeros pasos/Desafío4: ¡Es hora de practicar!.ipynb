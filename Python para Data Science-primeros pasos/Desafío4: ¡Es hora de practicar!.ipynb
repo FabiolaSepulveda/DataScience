{
  "nbformat": 4,
  "nbformat_minor": 0,
  "metadata": {
    "colab": {
      "provenance": [],
      "authorship_tag": "ABX9TyM6gFs3imwmbUVJmbrcGGTu",
      "include_colab_link": true
    },
    "kernelspec": {
      "name": "python3",
      "display_name": "Python 3"
    },
    "language_info": {
      "name": "python"
    }
  },
  "cells": [
    {
      "cell_type": "markdown",
      "metadata": {
        "id": "view-in-github",
        "colab_type": "text"
      },
      "source": [
        "<a href=\"https://colab.research.google.com/github/FabiolaSepulveda/DataScience/blob/main/Python%20para%20Data%20Science-primeros%20pasos/Desaf%C3%ADo4%3A%20%C2%A1Es%20hora%20de%20practicar!.ipynb\" target=\"_parent\"><img src=\"https://colab.research.google.com/assets/colab-badge.svg\" alt=\"Open In Colab\"/></a>"
      ]
    },
    {
      "cell_type": "markdown",
      "source": [
        "# **Desafío4: ¡Es hora de practicar!**"
      ],
      "metadata": {
        "id": "L-jzL02ykOmV"
      }
    },
    {
      "cell_type": "markdown",
      "source": [
        "Vamos practicar el uso de estructuras de repetición como el \"while\" y el \"for\" a partir de algunas actividades. Ahora que estamos avanzando en el contenido, podemos hacer los desafíos más interesantes. ¡Para ello, trabajaremos en proyectos de código!"
      ],
      "metadata": {
        "id": "T5XAHTs_kONF"
      }
    },
    {
      "cell_type": "markdown",
      "source": [
        "Comencemos resolviendo algunos problemas para calentar y prepararnos para los proyectos."
      ],
      "metadata": {
        "id": "6BXEj2_0T5Un"
      }
    },
    {
      "cell_type": "markdown",
      "source": [
        "**Entrenando la programación**"
      ],
      "metadata": {
        "id": "_Mm2Ors6kOAv"
      }
    },
    {
      "cell_type": "markdown",
      "source": [
        "1 - Escribe un programa que solicite dos números enteros e imprima todos los números enteros entre ellos."
      ],
      "metadata": {
        "id": "U6FNsuiZkb22"
      }
    },
    {
      "cell_type": "code",
      "source": [
        "# Solicitar dos números enteros de inicio y fin al usuario\n",
        "inicio = int(input(\"Ingrese el primer número de entero: \"))\n",
        "fin = int(input(\"Ingrese el segungo número entero: \"))\n",
        "\n",
        "# Verificar si valor de inicio es menor que valor fin\n",
        "if inicio < fin:\n",
        "  for i in range(inicio + 1, fin):\n",
        "    print(i)\n",
        "elif inicio > fin:\n",
        "  for i in range(fin + 1, inicio):\n",
        "    print(i)\n",
        "else:\n",
        "  print(\"Los números soon iguales.\")"
      ],
      "metadata": {
        "colab": {
          "base_uri": "https://localhost:8080/"
        },
        "id": "6cUWnMWLkkyl",
        "outputId": "1f1eed91-0292-430f-f727-5b09de2842aa"
      },
      "execution_count": 10,
      "outputs": [
        {
          "output_type": "stream",
          "name": "stdout",
          "text": [
            "Ingrese el primer número de entero: 10\n",
            "Ingrese el segungo número entero: 20\n",
            "11\n",
            "12\n",
            "13\n",
            "14\n",
            "15\n",
            "16\n",
            "17\n",
            "18\n",
            "19\n"
          ]
        }
      ]
    },
    {
      "cell_type": "markdown",
      "source": [
        "2 - Escribe un programa para calcular cuántos días tomará que la colonia de una bacteria A supere o iguale a la colonia de una bacteria B, basado en tasas de crecimiento del 3% y 1.5%, respectivamente. Supón que la colonia A comienza con 4 elementos y B con 10."
      ],
      "metadata": {
        "id": "8ZZ8NK_Klv5X"
      }
    },
    {
      "cell_type": "code",
      "source": [
        "# Valores iniciales\n",
        "colonia_A = 4\n",
        "colonia_B = 10\n",
        "\n",
        "# Tasas de crecimiento diarias\n",
        "tasa_A = 0.03 # 3%\n",
        "tasa_B = 0.015 # 1.5%\n",
        "\n",
        "# Contador de días\n",
        "dias = 0\n",
        "\n",
        "# La condición del bucle terminará hasta que A sea mayor o igual que B\n",
        "while colonia_A <= colonia_B:\n",
        "  #Operador de asignación multiplicador\n",
        "  colonia_A *= (1 + tasa_A)\n",
        "  colonia_B *= (1 + tasa_B)\n",
        "  #Contando los días en cada iteración\n",
        "  dias += 1\n",
        "\n",
        "print(f\"La colonia A superará o igualará a la colonia B en {dias} días.\")"
      ],
      "metadata": {
        "colab": {
          "base_uri": "https://localhost:8080/"
        },
        "id": "n1Y6qCTOmYE2",
        "outputId": "2684bc5a-5587-4bd7-f139-a46f66d86fd7"
      },
      "execution_count": 1,
      "outputs": [
        {
          "output_type": "stream",
          "name": "stdout",
          "text": [
            "La colonia A superará o igualará a la colonia B en 63 días.\n"
          ]
        }
      ]
    },
    {
      "cell_type": "markdown",
      "source": [
        "3 - Para procesar una cantidad de 15 datos de evaluaciones de usuarios de un servicio de la empresa, necesitamos verificar si las calificaciones son válidas. Por lo tanto, escribe un programa que recibirá calificaciones del 0 al 5 y verificará si son valores válidos. Si se ingresa una calificación superior a 5 o inferior a 0, se repetirá hasta que el usuario ingrese un valor válido."
      ],
      "metadata": {
        "id": "aco9F09nnib_"
      }
    },
    {
      "cell_type": "code",
      "source": [
        "# Bucle para obtener las 15 notas\n",
        "for i in range(1,16):\n",
        "  nota = float(input(f\"Ingrese la nota del usuario {i}: \"))\n",
        "\n",
        "  # Verificar si la nota está entre 0 y 5\n",
        "  # De lo contrario, el bucle se  repetirá hasta que se ingrese un valor válido\n",
        "  while nota < 0 or nota > 5:\n",
        "    nota = float(input(f\"Nota no válida, ingrese nuevamente la nota del usuario {i}: \"))\n",
        "\n",
        "print(\"Las notas ingresadas son válidas\")"
      ],
      "metadata": {
        "colab": {
          "base_uri": "https://localhost:8080/"
        },
        "id": "yWZjeKKtoGRm",
        "outputId": "a6e0a915-d5ed-4c2e-a2a6-1efa90fa9316"
      },
      "execution_count": 2,
      "outputs": [
        {
          "output_type": "stream",
          "name": "stdout",
          "text": [
            "Ingrese la nota del usuario 1: 5.0\n",
            "Ingrese la nota del usuario 2: 0\n",
            "Ingrese la nota del usuario 3: 2\n",
            "Ingrese la nota del usuario 4: 5.6\n",
            "Nota no válida, ingrese nuevamente la nota del usuario 4: 4.6\n",
            "Ingrese la nota del usuario 5: 3\n",
            "Ingrese la nota del usuario 6: 1\n",
            "Ingrese la nota del usuario 7: 4.2\n",
            "Ingrese la nota del usuario 8: 1.9\n",
            "Ingrese la nota del usuario 9: 4\n",
            "Ingrese la nota del usuario 10: 5\n",
            "Ingrese la nota del usuario 11: 2.1\n",
            "Ingrese la nota del usuario 12: 2.0\n",
            "Ingrese la nota del usuario 13: 3.3\n",
            "Ingrese la nota del usuario 14: 3.5\n",
            "Ingrese la nota del usuario 15: 4.66\n",
            "Las notas ingresadas son válidas\n"
          ]
        }
      ]
    },
    {
      "cell_type": "markdown",
      "source": [
        "4 - Desarrolla un programa que lea un conjunto indefinido de temperaturas en grados Celsius y calcule su promedio. La lectura debe detenerse al ingresar el valor -273°C."
      ],
      "metadata": {
        "id": "G6s-J5Qlo6eM"
      }
    },
    {
      "cell_type": "code",
      "source": [
        "# Solicitar la temperatura al usuario\n",
        "temperatura = float(input(\"Ingrese la temperatura en grados Celsius: \"))\n",
        "\n",
        "# Iniciando una suma y un contador para el cálculo promedio de temperatura\n",
        "suma = 0\n",
        "contador = 0\n",
        "\n",
        "while temperatura != -273:\n",
        "  # Suma se irá actualizado al sumarse la temperatura a la variable correspondiente\n",
        "  suma += temperatura\n",
        "  contador += 1\n",
        "  # Volver a solicitar la temperatura al usuario\n",
        "  temperatura = float(input(\"Ingrese la temperatura en grados Celsius: \"))\n",
        "\n",
        "promedio = suma / contador\n",
        "print(f\"El promedio de las temperatura ingresadas es: {promedio} °C\")"
      ],
      "metadata": {
        "colab": {
          "base_uri": "https://localhost:8080/"
        },
        "id": "zgoeCQ39o-Do",
        "outputId": "14856ece-fb4d-4e46-c811-499442a9943a"
      },
      "execution_count": 3,
      "outputs": [
        {
          "output_type": "stream",
          "name": "stdout",
          "text": [
            "Ingrese la temperatura en grados Celsius: 36\n",
            "Ingrese la temperatura en grados Celsius: 42\n",
            "Ingrese la temperatura en grados Celsius: -273\n",
            "El promedio de las temperatura ingresadas es: 39.0 °C\n"
          ]
        }
      ]
    },
    {
      "cell_type": "markdown",
      "source": [
        "5 - Escribe un programa que calcule el factorial de un número entero proporcionado por el usuario. Recuerda que el factorial de un número entero es el producto de ese número por todos sus antecesores hasta llegar al número 1. Por ejemplo, el factorial de 5 es 5 x 4 x 3 x 2 x 1 = 120."
      ],
      "metadata": {
        "id": "DgaPc2BzpgzW"
      }
    },
    {
      "cell_type": "code",
      "source": [
        "# Solicitar al usuario un número entero\n",
        "numero = int(input(\"Ingrese un número entero: \"))\n",
        "\n",
        "factorial = 1\n",
        "i = numero\n",
        "\n",
        "while i > 0:\n",
        "  factorial *= i\n",
        "  i -= 1\n",
        "\n",
        "# Imprime el cálculo factorial\n",
        "print(f\"El factorial de {numero} es {factorial}\")"
      ],
      "metadata": {
        "colab": {
          "base_uri": "https://localhost:8080/"
        },
        "id": "eD3nZ-BfpiJi",
        "outputId": "37775d1b-4712-4267-cf31-f5fc7398ecde"
      },
      "execution_count": 4,
      "outputs": [
        {
          "output_type": "stream",
          "name": "stdout",
          "text": [
            "Ingrese un número entero: 5\n",
            "El factorial de 5 es 120\n"
          ]
        }
      ]
    },
    {
      "cell_type": "markdown",
      "source": [
        "**Momento de los proyectos**"
      ],
      "metadata": {
        "id": "qfeoJEEmKNM9"
      }
    },
    {
      "cell_type": "markdown",
      "source": [
        "6 - Escribe un programa que genere la tabla de multiplicar de un número entero del 1 al 10, según la elección del usuario. Como ejemplo, para el número 2, la tabla de multiplicar debe mostrarse en el siguiente formato:descendente.\n",
        "\n",
        "![image.png](data:image/png;base64,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)"
      ],
      "metadata": {
        "id": "C7bz7cfInmWF"
      }
    },
    {
      "cell_type": "code",
      "source": [
        "# Solicitar al usuario que ingrese un número de 1 al 10\n",
        "numero = int(input(\"Ingrese un número del 1 al 10: \"))\n",
        "\n",
        "# Se genera la tabla de multiplicar\n",
        "print(f\"\\nTabla de multiplicar del {numero}:\")\n",
        "for i in range(1, 11):\n",
        "    resultado = numero * i\n",
        "    print(f\"{numero} x {i} = {resultado}\")"
      ],
      "metadata": {
        "colab": {
          "base_uri": "https://localhost:8080/"
        },
        "id": "Xl8Cedn4K3WY",
        "outputId": "97ada276-5f8c-463d-fd82-781afb637882"
      },
      "execution_count": 5,
      "outputs": [
        {
          "output_type": "stream",
          "name": "stdout",
          "text": [
            "Ingrese un número del 1 al 10: 5\n",
            "\n",
            "Tabla de multiplicar del 5:\n",
            "5 x 1 = 5\n",
            "5 x 2 = 10\n",
            "5 x 3 = 15\n",
            "5 x 4 = 20\n",
            "5 x 5 = 25\n",
            "5 x 6 = 30\n",
            "5 x 7 = 35\n",
            "5 x 8 = 40\n",
            "5 x 9 = 45\n",
            "5 x 10 = 50\n"
          ]
        }
      ]
    },
    {
      "cell_type": "markdown",
      "source": [
        "7 - Los números primos tienen diversas aplicaciones en Ciencia de Datos, como en criptografía y seguridad. Un número primo es aquel que es divisible solo por sí mismo y por 1. Por lo tanto, crea un programa que solicite un número entero y determine si es un número primo o no."
      ],
      "metadata": {
        "id": "cfGa0nVqoLZ2"
      }
    },
    {
      "cell_type": "code",
      "source": [
        "from re import escape\n",
        "# Solicitar al usuario un número entero\n",
        "numero = int(input(\"Ingrese un número entero: \"))\n",
        "\n",
        "# Verificar si el número es primo\n",
        "es_primo = True\n",
        "\n",
        "# Los números menores o iguales a 1 no son primos\n",
        "if numero <= 1:\n",
        "    es_primo = False\n",
        "else:\n",
        "  for i in range(2, numero):\n",
        "    if numero % i == 0:\n",
        "      es_primo = False\n",
        "      break\n",
        "\n",
        "# Muestra el resultado\n",
        "if es_primo:\n",
        "    print(f\"{numero} es un número primo.\")\n",
        "else:\n",
        "    print(f\"{numero} no es un número primo.\")"
      ],
      "metadata": {
        "colab": {
          "base_uri": "https://localhost:8080/"
        },
        "id": "ZsP9G762oO_x",
        "outputId": "658efae6-95f3-4e50-dae3-e909a534b700"
      },
      "execution_count": 6,
      "outputs": [
        {
          "output_type": "stream",
          "name": "stdout",
          "text": [
            "Ingrese un número entero: 5\n",
            "5 es un número primo.\n"
          ]
        }
      ]
    },
    {
      "cell_type": "markdown",
      "source": [
        "8 - Vamos a comprender la distribución de edades de los pensionistas de una empresa de seguros. Escribe un programa que lea las edades de una cantidad no informada de clientes y muestre la distribución en los intervalos [0-25], [26-50], [51-75] y [76-100]. La entrada de datos se detendrá al ingresar un número negativo."
      ],
      "metadata": {
        "id": "Vl5eJZ4JoXb5"
      }
    },
    {
      "cell_type": "code",
      "source": [
        "print(\"Ingrese las edades de los clientes (ingrese un número negativo para terminar):\")\n",
        "# Contadores para los intervalos\n",
        "intervalo_0_25 = 0\n",
        "intervalo_26_50 = 0\n",
        "intervalo_51_75 = 0\n",
        "intervalo_76_100 = 0\n",
        "\n",
        "while True:\n",
        "  edad = int(input(\"Ingrese edad: \"))\n",
        "  if edad < 0:\n",
        "    break   # Termina la entrada si se ingresa un número negativo\n",
        "  if edad >= 0 and edad <= 25:\n",
        "    intervalo_0_25 += 1\n",
        "  elif edad >= 26 and edad <= 50:\n",
        "    intervalo_26_50 += 1\n",
        "  elif edad >= 51 and edad <= 75:\n",
        "    intervalo_51_75 += 1\n",
        "  elif edad >= 76 and edad <= 100:\n",
        "    intervalo_76_100 += 1\n",
        "  else:\n",
        "    print\t(\"Edad fuera de rango (0-100). No se contará\")\n",
        "#Muestra la distribución\n",
        "print(\"\\nDistribución de edades:\")\n",
        "print(f\"[0-25]: {intervalo_0_25}\")\n",
        "print(f\"[26-50]: {intervalo_26_50}\")\n",
        "print(f\"[51-75]: {intervalo_51_75}\")\n",
        "print(f\"[76-100]: {intervalo_76_100}\")"
      ],
      "metadata": {
        "colab": {
          "base_uri": "https://localhost:8080/"
        },
        "id": "FoSJSR0kobie",
        "outputId": "b4bf8c55-fbf7-4859-d856-bca5a4fb6d6e"
      },
      "execution_count": 7,
      "outputs": [
        {
          "output_type": "stream",
          "name": "stdout",
          "text": [
            "Ingrese las edades de los clientes (ingrese un número negativo para terminar):\n",
            "Ingrese edad: 25\n",
            "Ingrese edad: 50\n",
            "Ingrese edad: 75\n",
            "Ingrese edad: 100\n",
            "Ingrese edad: -10\n",
            "\n",
            "Distribución de edades:\n",
            "[0-25]: 1\n",
            "[26-50]: 1\n",
            "[51-75]: 1\n",
            "[76-100]: 1\n"
          ]
        }
      ]
    },
    {
      "cell_type": "markdown",
      "source": [
        "9 - En una elección para la gerencia de una empresa con 20 empleados, hay cuatro candidatos. Escribe un programa que calcule al ganador de la elección. La votación se realizó de la siguiente manera:\n",
        "\n",
        "Cada empleado votó por uno de los cuatro candidatos (representados por los números 1, 2, 3 y 4).\n",
        "\n",
        "También se contaron los votos nulos (representados por el número 5) y los votos en blanco (representados por el número 6).\n",
        "\n",
        "Al final de la votación, el programa debe mostrar el número total de votos para cada candidato, los votos nulos y los votos en blanco. Además, debe calcular y mostrar el porcentaje de votos nulos con respecto al total de votos y el porcentaje de votos en blanco con respecto al total de votos.9 - En una elección para la gerencia de una empresa con 20 empleados, hay cuatro candidatos. Escribe un programa que calcule al ganador de la elección. La votación se realizó de la siguiente manera:\n",
        "\n",
        "Cada empleado votó por uno de los cuatro candidatos (representados por los números 1, 2, 3 y 4).\n",
        "\n",
        "También se contaron los votos nulos (representados por el número 5) y los votos en blanco (representados por el número 6).\n",
        "\n",
        "Al final de la votación, el programa debe mostrar el número total de votos para cada candidato, los votos nulos y los votos en blanco. Además, debe calcular y mostrar el porcentaje de votos nulos con respecto al total de votos y el porcentaje de votos en blanco con respecto al total de votos."
      ],
      "metadata": {
        "id": "Y3dZUWPQoyGA"
      }
    },
    {
      "cell_type": "code",
      "source": [
        "# Inicializamos contadores\n",
        "votos_c1 = 0\n",
        "votos_c2 = 0\n",
        "votos_c3 = 0\n",
        "votos_c4 = 0\n",
        "votos_nulos = 0\n",
        "votos_en_blanco = 0\n",
        "\n",
        "# Votación de 20 empleados\n",
        "for i in range(1, 21):\n",
        "  voto = int(input(f\"Empleado {i}, ingrese su voto: \"))\n",
        "  if voto == 1:\n",
        "    votos_c1 += 1\n",
        "  elif voto == 2:\n",
        "    votos_c2 += 1\n",
        "  elif voto == 3:\n",
        "    votos_c3 += 1\n",
        "  elif voto == 4:\n",
        "    votos_c4 += 1\n",
        "  elif voto == 5:\n",
        "    votos_nulos += 1\n",
        "  elif voto == 6:\n",
        "    votos_en_blanco += 1\n",
        "  else:\n",
        "    print(\"Voto inválido, no se contará.\")\n",
        "# Resultados\n",
        "print(\"\\nResultados:\")\n",
        "print(f\"Candidato 1: {votos_c1}\")\n",
        "print(f\"Candidato 2: {votos_c2}\")\n",
        "print(f\"Candidato 3: {votos_c3}\")\n",
        "print(f\"Candidato 4: {votos_c4}\")\n",
        "print(f\"Votos nulos: {votos_nulos}\")\n",
        "print(f\"Votos en blanco: {votos_en_blanco}\")\n",
        "print(f\"Porcentaje de votos nulos: {(votos_nulos / 20 * 100)}\")\n",
        "print(f\"Porcentaje de votos en blanco: {(votos_en_blanco / 20 * 100)}\")"
      ],
      "metadata": {
        "colab": {
          "base_uri": "https://localhost:8080/"
        },
        "id": "AADYYOCno3ru",
        "outputId": "d6bf0637-e518-416c-c2c4-4e7ec65490e2"
      },
      "execution_count": 8,
      "outputs": [
        {
          "output_type": "stream",
          "name": "stdout",
          "text": [
            "Empleado 1, ingrese su voto: 1\n",
            "Empleado 2, ingrese su voto: 2\n",
            "Empleado 3, ingrese su voto: 3\n",
            "Empleado 4, ingrese su voto: 4\n",
            "Empleado 5, ingrese su voto: 5\n",
            "Empleado 6, ingrese su voto: 6\n",
            "Empleado 7, ingrese su voto: 1\n",
            "Empleado 8, ingrese su voto: 2\n",
            "Empleado 9, ingrese su voto: 3\n",
            "Empleado 10, ingrese su voto: 4\n",
            "Empleado 11, ingrese su voto: 5\n",
            "Empleado 12, ingrese su voto: 6\n",
            "Empleado 13, ingrese su voto: 1\n",
            "Empleado 14, ingrese su voto: 2\n",
            "Empleado 15, ingrese su voto: 3\n",
            "Empleado 16, ingrese su voto: 4\n",
            "Empleado 17, ingrese su voto: 5\n",
            "Empleado 18, ingrese su voto: 6\n",
            "Empleado 19, ingrese su voto: 1\n",
            "Empleado 20, ingrese su voto: 2\n",
            "\n",
            "Resultados:\n",
            "Candidato 1: 4\n",
            "Candidato 2: 4\n",
            "Candidato 3: 3\n",
            "Candidato 4: 3\n",
            "Votos nulos: 3\n",
            "Votos en blanco: 3\n",
            "Porcentaje de votos nulos: 15.0\n",
            "Porcentaje de votos en blanco: 15.0\n"
          ]
        }
      ]
    }
  ]
}