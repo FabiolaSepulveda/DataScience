{
  "nbformat": 4,
  "nbformat_minor": 0,
  "metadata": {
    "colab": {
      "provenance": [],
      "authorship_tag": "ABX9TyOGQY/Mpvh2gBsPYoyN2L9I",
      "include_colab_link": true
    },
    "kernelspec": {
      "name": "python3",
      "display_name": "Python 3"
    },
    "language_info": {
      "name": "python"
    }
  },
  "cells": [
    {
      "cell_type": "markdown",
      "metadata": {
        "id": "view-in-github",
        "colab_type": "text"
      },
      "source": [
        "<a href=\"https://colab.research.google.com/github/FabiolaSepulveda/DataScience/blob/main/Python%20para%20Data%20Science-primeros%20pasos/Desafio3%3A%20%C2%A1Es%20hora%20de%20practicar!.ipynb\" target=\"_parent\"><img src=\"https://colab.research.google.com/assets/colab-badge.svg\" alt=\"Open In Colab\"/></a>"
      ]
    },
    {
      "cell_type": "markdown",
      "source": [
        "# **Desafío3: ¡Es hora de practicar!**"
      ],
      "metadata": {
        "id": "L-jzL02ykOmV"
      }
    },
    {
      "cell_type": "markdown",
      "source": [
        "Vamos practicar el uso de estructuras condicionales como el if, else y elif a través de algunas actividades. Ahora que estamos avanzando en los contenidos, podemos hacer los desafíos más interesantes: ¡trabajaremos en proyectos de código! Resuelve los problemas iniciales para prepararte para los proyectos:"
      ],
      "metadata": {
        "id": "T5XAHTs_kONF"
      }
    },
    {
      "cell_type": "markdown",
      "source": [
        "**Entrenando la programación**"
      ],
      "metadata": {
        "id": "_Mm2Ors6kOAv"
      }
    },
    {
      "cell_type": "markdown",
      "source": [
        "1 - Escribe un programa que pida a la persona usuaria que proporcione dos números y muestre el número más grande."
      ],
      "metadata": {
        "id": "U6FNsuiZkb22"
      }
    },
    {
      "cell_type": "code",
      "source": [
        "# Pedir al usuario que ingrese dos números\n",
        "numero1 = float(input(\"Ingrese el primer número: \"))\n",
        "numero2 = float(input(\"Ingrese el segundo número: \"))\n",
        "\n",
        "# Comparar los números y mostrar el más grande\n",
        "if numero1 > numero2:\n",
        "    print(f\"El número más grande es: {numero1}\")\n",
        "elif numero2 > numero1:\n",
        "    print(f\"El número más grande es: {numero2}\")\n",
        "else:\n",
        "    print(\"Los números son iguales.\")"
      ],
      "metadata": {
        "colab": {
          "base_uri": "https://localhost:8080/"
        },
        "id": "6cUWnMWLkkyl",
        "outputId": "1a737ad0-7e24-438f-b348-81228d4180c7"
      },
      "execution_count": null,
      "outputs": [
        {
          "output_type": "stream",
          "name": "stdout",
          "text": [
            "Ingrese el primer número: 10\n",
            "Ingrese el segundo número: 20\n",
            "El número más grande es: 20.0\n"
          ]
        }
      ]
    },
    {
      "cell_type": "markdown",
      "source": [
        "2 - Escribe un programa que solicite el porcentaje de crecimiento de producción de una empresa e informe si hubo un crecimiento (porcentaje positivo) o una disminución (porcentaje negativo)."
      ],
      "metadata": {
        "id": "8ZZ8NK_Klv5X"
      }
    },
    {
      "cell_type": "code",
      "source": [
        "#Solicitar al usuario el procentaje de crecimiento de la producción\n",
        "porcentaje = float(input(\"Ingrese el porcentaje de crecimiento de la producción: \"))\n",
        "\n",
        "#Verificar si hubo un crecimiento o una disminución\n",
        "if porcentaje > 0:\n",
        "    print(f\"Hubo un crecimiento {porcentaje}%\")\n",
        "elif porcentaje < 0:\n",
        "    print(f\"Hubo una disminución {porcentaje}%\")\n",
        "else:\n",
        "    print(\"La producción se mantuvo igual.\")"
      ],
      "metadata": {
        "colab": {
          "base_uri": "https://localhost:8080/"
        },
        "id": "n1Y6qCTOmYE2",
        "outputId": "e4cbf18e-1d30-46fe-c29e-016c64616d55"
      },
      "execution_count": null,
      "outputs": [
        {
          "output_type": "stream",
          "name": "stdout",
          "text": [
            "Ingrese el porcentaje de crecimiento de la producción: 5.0\n",
            "Hubo un crecimiento 5.0%\n"
          ]
        }
      ]
    },
    {
      "cell_type": "markdown",
      "source": [
        "3 - Escribe un programa que determine si una letra proporcionada por la persona usuaria es una vocal o una consonante."
      ],
      "metadata": {
        "id": "aco9F09nnib_"
      }
    },
    {
      "cell_type": "code",
      "source": [
        "# Solicitar al usuario una letra\n",
        "letra = input(\"Ingrese una letra: \").lower()\n",
        "vocales = \"aeiou\" # cadena que contiene todas las vocales\n",
        "\n",
        "# Verificar si la letra está en las vocales con 'in'\n",
        "if letra in \"aeiou\":\n",
        "    print(\"Es una vocal\")\n",
        "else:\n",
        "    print(\"Es una consonante\")"
      ],
      "metadata": {
        "colab": {
          "base_uri": "https://localhost:8080/"
        },
        "id": "yWZjeKKtoGRm",
        "outputId": "d5897874-532e-4c8c-d95f-5f9c4135a6c0"
      },
      "execution_count": null,
      "outputs": [
        {
          "output_type": "stream",
          "name": "stdout",
          "text": [
            "Ingrese una letra: A\n",
            "Es una vocal\n"
          ]
        }
      ]
    },
    {
      "cell_type": "markdown",
      "source": [
        "4 - Escribe un programa que lea valores promedio de precios de un modelo de automóvil durante 3 años consecutivos y muestre el valor más alto y más bajo entre esos tres años."
      ],
      "metadata": {
        "id": "G6s-J5Qlo6eM"
      }
    },
    {
      "cell_type": "code",
      "source": [
        "# Solicitamos los precios promedio de los tres años\n",
        "precio1 = float(input(\"Ingrese el precio promedio del automóvil en el primer año: \"))\n",
        "precio2 = float(input(\"Ingrese el precio promedio del automóvil en el segundo año: \"))\n",
        "precio3 = float(input(\"Ingrese el precio promedio del automóvil en el tercer año: \"))\n",
        "\n",
        "#Calculamos el precio más alto\n",
        "alto = precio1\n",
        "if precio2 > alto:\n",
        "    alto = precio2\n",
        "if precio3 > alto:\n",
        "    alto = precio3\n",
        "\n",
        "# Calculamos el precio más bajo\n",
        "bajo = precio1\n",
        "if precio2 < bajo:\n",
        "    bajo = precio2\n",
        "if precio3 < bajo:\n",
        "    bajo = precio3\n",
        "\n",
        "# Mostramos los resultados\n",
        "print(f\"El precio más alto fue de: $ {alto}\")\n",
        "print(f\"El precio más bajo fue de: $ {bajo}\")"
      ],
      "metadata": {
        "colab": {
          "base_uri": "https://localhost:8080/"
        },
        "id": "zgoeCQ39o-Do",
        "outputId": "33c6206e-713b-4de2-f556-6a4375414f20"
      },
      "execution_count": null,
      "outputs": [
        {
          "output_type": "stream",
          "name": "stdout",
          "text": [
            "Ingrese el precio promedio del automóvil en el primer año: 4.5\n",
            "Ingrese el precio promedio del automóvil en el segundo año: 5.8\n",
            "Ingrese el precio promedio del automóvil en el tercer año: 7.6\n",
            "El precio más alto fue de: $ 7.6\n",
            "El precio más bajo fue de: $ 4.5\n"
          ]
        }
      ]
    },
    {
      "cell_type": "markdown",
      "source": [
        "5 - Escribe un programa que pregunte sobre el precio de tres productos e indique cuál es el producto más barato para comprar."
      ],
      "metadata": {
        "id": "DgaPc2BzpgzW"
      }
    },
    {
      "cell_type": "code",
      "source": [
        "# Solicitar al usuario los precios de los tres productos\n",
        "producto1 = float(input(\"Ingrese el precio del primer producto: \"))\n",
        "producto2 = float(input(\"Ingrese el precio del segundo producto: \"))\n",
        "producto3 = float(input(\"Ingrese el precio del tercer producto: \"))\n",
        "\n",
        "# Usamos el operador lógico AND para ver cuál es el producto más barato\n",
        "if producto1 < producto2 and producto1 < producto3:\n",
        "    print(\"El primer producto es el más barato.\")\n",
        "elif producto2 < producto1 and producto2 < producto3:\n",
        "    print(\"El segundo producto es el más barato.\")\n",
        "else:\n",
        "    print(\"El tercer producto es el más barato.\")"
      ],
      "metadata": {
        "colab": {
          "base_uri": "https://localhost:8080/"
        },
        "id": "eD3nZ-BfpiJi",
        "outputId": "c2e7c9f0-789d-45da-e100-f5c2da0af42b"
      },
      "execution_count": null,
      "outputs": [
        {
          "output_type": "stream",
          "name": "stdout",
          "text": [
            "Ingrese el precio del primer producto: 4.500\n",
            "Ingrese el precio del segundo producto: 10.500\n",
            "Ingrese el precio del tercer producto: 2.500\n",
            "El tercer producto es el más barato.\n"
          ]
        }
      ]
    },
    {
      "cell_type": "markdown",
      "source": [
        "6 - Escribe un programa que lea tres números y los muestre en orden descendente."
      ],
      "metadata": {
        "id": "C7bz7cfInmWF"
      }
    },
    {
      "cell_type": "code",
      "source": [
        "# Solicitar tres números al usuario\n",
        "numero1 = int(input(\"Ingrese el primer número: \"))\n",
        "numero2 = int(input(\"Ingrese el segundo número: \"))\n",
        "numero3 = int(input(\"Ingrese el tercer número: \"))\n",
        "\n",
        "# Comparación entre los 3 números\n",
        "if (numero1 >= numero2 and numero1 >= numero3):\n",
        "    print(numero1)\n",
        "    if numero2 >= numero3:\n",
        "        print(numero2)\n",
        "        print(numero3)\n",
        "    else:\n",
        "        print(numero3)\n",
        "        print(numero2)\n",
        "elif (numero2 >= numero1 and numero2 >= numero3):\n",
        "    print(numero2)\n",
        "    if numero1 >= numero3:\n",
        "        print(numero1)\n",
        "        print(numero3)\n",
        "    else:\n",
        "        print(numero3)\n",
        "        print(numero1)\n",
        "else:\n",
        "    print(numero3)\n",
        "    if numero1 >= numero2:\n",
        "        print(numero1)\n",
        "        print(numero2)\n",
        "    else:\n",
        "        print(numero2)\n",
        "        print(numero1)"
      ],
      "metadata": {
        "colab": {
          "base_uri": "https://localhost:8080/"
        },
        "id": "bSiZcRAmn9P4",
        "outputId": "18a93c47-e56d-4f50-9327-8ecfb9d1ee9f"
      },
      "execution_count": 1,
      "outputs": [
        {
          "output_type": "stream",
          "name": "stdout",
          "text": [
            "Ingrese el primer número: 10\n",
            "Ingrese el segundo número: 80\n",
            "Ingrese el tercer número: 20\n",
            "80\n",
            "20\n",
            "10\n"
          ]
        }
      ]
    },
    {
      "cell_type": "markdown",
      "source": [
        "7 -Escribe un programa que pregunte en qué turno estudia la persona usuaria (\"mañana\", \"tarde\" o \"noche\") y muestre el mensaje \"¡Buenos Días!\", \"¡Buenas Tardes!\", \"¡Buenas Noches!\" o \"Valor Inválido!\", según el caso."
      ],
      "metadata": {
        "id": "cfGa0nVqoLZ2"
      }
    },
    {
      "cell_type": "code",
      "source": [
        "# Solicitar al usuario el turno en el que estudia\n",
        "turno = input(\"En qué turno estudia? (mañana, tarde o noche): \")\n",
        "\n",
        "#Se compara la entrada con las opciones ingresadas\n",
        "#Muestra el saludo correspondiente\n",
        "if turno == \"mañana\":\n",
        "    print(\"¡Buenos Días!\")\n",
        "elif turno == \"tarde\":\n",
        "    print(\"¡Buenas Tardes!\")\n",
        "elif turno == \"noche\":\n",
        "    print(\"¡Buenas Noches!\")\n",
        "else:\n",
        "    print(\"Valor Inválido!\")"
      ],
      "metadata": {
        "colab": {
          "base_uri": "https://localhost:8080/"
        },
        "id": "ZsP9G762oO_x",
        "outputId": "4d9cd963-517e-4bff-930d-6a154f182ef9"
      },
      "execution_count": 2,
      "outputs": [
        {
          "output_type": "stream",
          "name": "stdout",
          "text": [
            "En qué turno estudia? (mañana, tarde o noche): noche\n",
            "¡Buenas Noches!\n"
          ]
        }
      ]
    },
    {
      "cell_type": "markdown",
      "source": [
        "8 - Escribe un programa que solicite un número entero a la persona usuaria y determine si es par o impar. Pista: Puedes usar el operador módulo (%)."
      ],
      "metadata": {
        "id": "Vl5eJZ4JoXb5"
      }
    },
    {
      "cell_type": "code",
      "source": [
        "# Solicitar un número entero al usuario\n",
        "numero = int(input(\"Ingrese un número entero: \"))\n",
        "\n",
        "# Verificar si es  par o impar usando el operador módulo (%)\n",
        "if numero % 2 == 0:\n",
        "    print(\"El número es par.\")\n",
        "else:\n",
        "    print(\"El número es impar.\")"
      ],
      "metadata": {
        "colab": {
          "base_uri": "https://localhost:8080/"
        },
        "id": "FoSJSR0kobie",
        "outputId": "e6510c50-f725-4982-fc03-6e2d423d2dd8"
      },
      "execution_count": 3,
      "outputs": [
        {
          "output_type": "stream",
          "name": "stdout",
          "text": [
            "Ingrese un número entero: 2\n",
            "El número es par.\n"
          ]
        }
      ]
    },
    {
      "cell_type": "markdown",
      "source": [
        "9 - Escribe un programa que pida un número a la persona usuaria y le informe si es entero o decimal."
      ],
      "metadata": {
        "id": "Y3dZUWPQoyGA"
      }
    },
    {
      "cell_type": "code",
      "source": [
        "# Solicitar un número al usuario\n",
        "numero = float(input(\"Ingrese un número: \"))\n",
        "\n",
        "# Verificar si el número es entero o decimal usando el operadormódulo (%)\n",
        "if numero % 1 == 0:\n",
        "    print(\"El número es entero.\")\n",
        "else:\n",
        "    print(\"El número es decimal.\")"
      ],
      "metadata": {
        "colab": {
          "base_uri": "https://localhost:8080/"
        },
        "id": "AADYYOCno3ru",
        "outputId": "c928c9a1-4e4c-4657-9ccf-50ddaeaddd2f"
      },
      "execution_count": 4,
      "outputs": [
        {
          "output_type": "stream",
          "name": "stdout",
          "text": [
            "Ingrese un número: 1.5\n",
            "El número es decimal.\n"
          ]
        }
      ]
    },
    {
      "cell_type": "markdown",
      "source": [
        "**Momento de los proyectos**"
      ],
      "metadata": {
        "id": "ZbD6V9PNH0X8"
      }
    },
    {
      "cell_type": "markdown",
      "source": [
        "10 - Un programa debe ser escrito para leer dos números y luego preguntar a la persona usuaria qué operación desea realizar. El resultado de la operación debe incluir información sobre el número, si es par o impar, positivo o negativo, e entero o decimal."
      ],
      "metadata": {
        "id": "C6NOS9bPpQGb"
      }
    },
    {
      "cell_type": "code",
      "source": [
        "# Solicitar dos números al usuario\n",
        "numero1 = float(input(\"Ingrese el primer número: \"))\n",
        "numero2 = float(input(\"Ingrese el segundo número: \"))\n",
        "\n",
        "# Solicitar la operación deseada\n",
        "operacion = input(\"¿Qué operación desea realizar? (+, -, *, /): \")\n",
        "\n",
        "# Verificar la operación escogiga y realizar la operación matemática según la elección del usuario\n",
        "if operacion == \"+\":\n",
        "    resultado = numero1 + numero2\n",
        "elif operacion == \"-\":\n",
        "    resultado = numero1 - numero2\n",
        "elif operacion == \"*\":\n",
        "    resultado = numero1 * numero2\n",
        "elif operacion == \"/\":\n",
        "    resultado = numero1 / numero2\n",
        "else:\n",
        "    print(\"Operación no válida, el resultado de la operación será 0\")\n",
        "    resultado = 0\n",
        "\n",
        "# Determinar si es par o impar\n",
        "if resultado % 2 == 0:\n",
        "    print(\"El resultado es: un número par.\")\n",
        "else:\n",
        "    print(\"El resultado es: un número impar.\")\n",
        "\n",
        "# Determinar si es positivo o negativo\n",
        "if resultado > 0:\n",
        "    print(\"El resultado es: positivo.\")\n",
        "else:\n",
        "    print(\"El resultado es: negativo.\")\n",
        "\n",
        "# Determinar si es entero o decimal\n",
        "if resultado % 1 == 0:\n",
        "    print(\"El resultado es: un número entero.\")\n",
        "else:\n",
        "    print(\"El resultado es: un número decimal.\")"
      ],
      "metadata": {
        "colab": {
          "base_uri": "https://localhost:8080/"
        },
        "id": "2XKpQXMspUhw",
        "outputId": "5443afe0-5f1a-4038-f977-4f721d6873e4"
      },
      "execution_count": 6,
      "outputs": [
        {
          "output_type": "stream",
          "name": "stdout",
          "text": [
            "Ingrese el primer número: 2.5\n",
            "Ingrese el segundo número: 5\n",
            "¿Qué operación desea realizar? (+, -, *, /): *\n",
            "El resultado es: un número impar.\n",
            "El resultado es: positivo.\n",
            "El resultado es: un número decimal.\n"
          ]
        }
      ]
    },
    {
      "cell_type": "markdown",
      "source": [
        "11 - Escribe un programa que pida a la persona usuaria tres números que representan los lados de un triángulo. El programa debe informar si los valores pueden utilizarse para formar un triángulo y, en caso afirmativo, si es equilátero, isósceles o escaleno. Ten en cuenta algunas sugerencias:\n",
        "\n",
        "*   Tres lados forman un triángulo cuando la suma de cualesquiera dos lados es mayor que el tercero;\n",
        "*   Triángulo Equilátero: tres lados iguales;\n",
        "*   Triángulo Isósceles: dos lados iguales;\n",
        "*   Triángulo Escaleno: tres lados diferentes."
      ],
      "metadata": {
        "id": "lvfgdfZMphhP"
      }
    },
    {
      "cell_type": "code",
      "source": [
        "# Solicitar al usuario los tres lados del triángulo\n",
        "lado1 = float(input(\"Ingrese el primer lado del triángulo: \"))\n",
        "lado2 = float(input(\"Ingrese el segundo lado del triángulo: \"))\n",
        "lado3 = float(input(\"Ingrese el tercer lado del triángulo:: \"))\n",
        "\n",
        "# Verificar si los lados forman un triángulo\n",
        "if (lado1 + lado2 > lado3) and (lado1 + lado3 > lado2) and (lado2 + lado3 > lado1):\n",
        "  #Si los lados forman un triángulo, verificar el tipo de triángulo\n",
        "  if lado1 == lado2 == lado3:\n",
        "    print(\"El triángulo es equilátero.\")\n",
        "  elif lado1 == lado2 or lado1 == lado3 or lado2 == lado3:\n",
        "    print(\"El triángulo es isósceles.\")\n",
        "  else:\n",
        "    print(\"El triángulo es escaleno.\")\n",
        "else:\n",
        "  print(\"Los lados proporcionados no pueden formar un triángulo.\")"
      ],
      "metadata": {
        "colab": {
          "base_uri": "https://localhost:8080/"
        },
        "id": "fAbuwMA5pl0D",
        "outputId": "60543256-d2f6-4113-831a-ad0a9306e269"
      },
      "execution_count": 7,
      "outputs": [
        {
          "output_type": "stream",
          "name": "stdout",
          "text": [
            "Ingrese el primer lado del triángulo: 60\n",
            "Ingrese el segundo lado del triángulo: 60\n",
            "Ingrese el tercer lado del triángulo:: 90\n",
            "El triángulo es isósceles.\n"
          ]
        }
      ]
    },
    {
      "cell_type": "markdown",
      "source": [
        "12 - Un establecimiento está vendiendo combustibles con descuentos variables. Para el etanol, si la cantidad comprada es de hasta 15 litros, el descuento será del 2% por litro. En caso contrario, será del 4% por litro. Para el diésel, si la cantidad comprada es de hasta 15 litros, el descuento será del 3% por litro. En caso contrario, será del 5% por litro. El precio por litro de diésel es de R$ 2,00 y el precio por litro de etanol es de R$ 1,70. Escribe un programa que lea la cantidad de litros vendidos y el tipo de combustible (E para etanol y D para diésel) y calcule el valor a pagar por el cliente. Ten en cuenta algunas sugerencias:\n",
        "\n",
        "\n",
        "*   El valor del descuento será el producto del precio por litro, la cantidad de litros y el valor del descuento.\n",
        "*   El valor a pagar por un cliente será el resultado de la multiplicación del precio por litro por la cantidad de litros menos el valor del descuento resultante del cálculo.\n"
      ],
      "metadata": {
        "id": "4YcNr9A2pwXt"
      }
    },
    {
      "cell_type": "code",
      "source": [
        "# Solicitar la cantidad de litros y el tipo de combustibe\n",
        "litros = float(input(\"Ingrese la cantidad de litros comprados: \"))\n",
        "combustible = input(\"Ingrese el tipo de combustible (E para etanol, D para diésel): \").upper()\n",
        "\n",
        "# Definir los precios por litro\n",
        "precio_etanol = 1.70\n",
        "precio_diesel = 2.00\n",
        "\n",
        "# Definir las tasas de descuento\n",
        "if combustible == \"E\": # Para etanol\n",
        "  if litros <= 15:\n",
        "    descuento = 0.02 # 2% de descuento por litro\n",
        "  else:\n",
        "    descuento = 0.04 # 4% de descuento por litro\n",
        "  precio_por_litro =  precio_etanol\n",
        "elif combustible == \"D\": # Para diésel\n",
        "  if litros <= 15:\n",
        "    descuento = 0.03 # 3% de descuento por litro\n",
        "  else:\n",
        "    descuento = 0.05 # 5% de descuento por litro\n",
        "  precio_por_litro = precio_diesel\n",
        "else:\n",
        "  print(\"Tipo de combustible no válido.\")\n",
        "  exit()\n",
        "\n",
        "# Calcular el descuento total\n",
        "valor_descuento = precio_por_litro * litros * descuento\n",
        "\n",
        "# Calcular el valor a pagar\n",
        "valor_pagar = precio_por_litro * litros - valor_descuento\n",
        "\n",
        "# Mostrar el resultado\n",
        "print(f\"El valor a pagar por {litros} litros es: R${valor_pagar:}\")"
      ],
      "metadata": {
        "colab": {
          "base_uri": "https://localhost:8080/"
        },
        "id": "aa2AMO4EqBI5",
        "outputId": "ba951172-c236-47ca-b289-934be805bbbc"
      },
      "execution_count": 8,
      "outputs": [
        {
          "output_type": "stream",
          "name": "stdout",
          "text": [
            "Ingrese la cantidad de litros comprados: 50\n",
            "Ingrese el tipo de combustible (E para etanol, D para diésel): e\n",
            "El valor a pagar por 50.0 litros es: R$81.6\n"
          ]
        }
      ]
    },
    {
      "cell_type": "markdown",
      "source": [
        "13 - En una empresa de venta de bienes raíces, debes crear un código que analice los datos de ventas anuales para ayudar a la dirección en la toma de decisiones. El código debe recopilar los datos de cantidad de ventas durante los años 2022 y 2023 y calcular la variación porcentual. A partir del valor de la variación, se deben proporcionar las siguientes sugerencias:\n",
        "\n",
        "*   Para una variación superior al 20%: bonificación para el equipo de ventas.\n",
        "*   Para una variación entre el 2% y el 20%: pequeña bonificación para el equipo de ventas.\n",
        "*   Para una variación entre el 2% y el -10%: planificación de políticas de incentivo a las ventas.Para una variación entre el 2% y el -10%: planificación de políticas de incentivo a las ventas.\n",
        "*   Para bonificaciones inferiores al -10%: recorte de gastos.Para bonificaciones inferiores al -10%: recorte de gastos.\n",
        "\n",
        "\n"
      ],
      "metadata": {
        "id": "egtlq7zYqlQp"
      }
    },
    {
      "cell_type": "code",
      "source": [
        "# Soicitar al usuario la cantidad de ventas para 2022 y 2023\n",
        "ventas_2022 = float(input(\"Ingrese la cantidad de ventas para el año 2022: \"))\n",
        "ventas_2023 = float(input(\"Ingrese la cantidad de ventas para el año 2023: \"))\n",
        "\n",
        "# Calcular la variación porcentual\n",
        "variacion_porcentual = ((ventas_2023 - ventas_2022) / ventas_2022) * 100\n",
        "\n",
        "# Mostrar la variación porcentual\n",
        "print(f\"La variación porcentual entre 2022 y 2023 es: {variacion_porcentual}%\")\n",
        "\n",
        "# Proporcionar sugerencias basadas en la variación porcentual\n",
        "if variacion_porcentual > 20:\n",
        "  print(\"Bonificación para el equipo de ventas.\")\n",
        "elif 2 <= variacion_porcentual <= 20:\n",
        "  print(\"Pequeña bonificación para el equipo de ventas.\")\n",
        "elif 2 <= variacion_porcentual <= -10:\n",
        "  print(\"Planificación de políticas de incentivo a las ventas.\")\n",
        "else:\n",
        "  print(\"Recorte de gastos.\")\n"
      ],
      "metadata": {
        "colab": {
          "base_uri": "https://localhost:8080/"
        },
        "id": "LoVgfQcNqs10",
        "outputId": "b178a287-5183-4919-feac-1685231a2f63"
      },
      "execution_count": 9,
      "outputs": [
        {
          "output_type": "stream",
          "name": "stdout",
          "text": [
            "Ingrese la cantidad de ventas para el año 2022: 10.5\n",
            "Ingrese la cantidad de ventas para el año 2023: 12\n",
            "La variación porcentual entre 2022 y 2023 es: 14.285714285714285%\n",
            "Pequeña bonificación para el equipo de ventas.\n"
          ]
        }
      ]
    }
  ]
}