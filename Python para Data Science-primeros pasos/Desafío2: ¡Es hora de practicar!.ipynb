{
  "nbformat": 4,
  "nbformat_minor": 0,
  "metadata": {
    "colab": {
      "provenance": [],
      "authorship_tag": "ABX9TyOT4+6uybTEtlTAjJKfQZot",
      "include_colab_link": true
    },
    "kernelspec": {
      "name": "python3",
      "display_name": "Python 3"
    },
    "language_info": {
      "name": "python"
    }
  },
  "cells": [
    {
      "cell_type": "markdown",
      "metadata": {
        "id": "view-in-github",
        "colab_type": "text"
      },
      "source": [
        "<a href=\"https://colab.research.google.com/github/FabiolaSepulveda/DataScience/blob/main/Python%20para%20Data%20Science-primeros%20pasos/Desaf%C3%ADo2%3A%20%C2%A1Es%20hora%20de%20practicar!.ipynb\" target=\"_parent\"><img src=\"https://colab.research.google.com/assets/colab-badge.svg\" alt=\"Open In Colab\"/></a>"
      ]
    },
    {
      "cell_type": "markdown",
      "source": [
        "# **Desafío2: ¡Es hora de practicar!**"
      ],
      "metadata": {
        "id": "L-jzL02ykOmV"
      }
    },
    {
      "cell_type": "markdown",
      "source": [
        "Vamos a practicar el uso de varios tipos de variables y la función input a través de algunas actividades. Resuelve los problemas propuestos en código."
      ],
      "metadata": {
        "id": "T5XAHTs_kONF"
      }
    },
    {
      "cell_type": "markdown",
      "source": [
        "**Recopilación y muestra de datos**"
      ],
      "metadata": {
        "id": "_Mm2Ors6kOAv"
      }
    },
    {
      "cell_type": "markdown",
      "source": [
        "1 - Crea un programa que solicite al usuario que escriba su nombre y luego imprima \"Hola, [nombre].\""
      ],
      "metadata": {
        "id": "U6FNsuiZkb22"
      }
    },
    {
      "cell_type": "code",
      "source": [
        "nombre=input(\"Ingrese su nombre: \")\n",
        "print(f\"Hola, {nombre}\")"
      ],
      "metadata": {
        "colab": {
          "base_uri": "https://localhost:8080/"
        },
        "id": "6cUWnMWLkkyl",
        "outputId": "014f681b-98bd-4c17-933d-ed62b99614e9"
      },
      "execution_count": null,
      "outputs": [
        {
          "output_type": "stream",
          "name": "stdout",
          "text": [
            "Ingrese su nombre: Fabiola\n",
            "Hola, Fabiola\n"
          ]
        }
      ]
    },
    {
      "cell_type": "markdown",
      "source": [
        "2 - Crea un programa que solicite al usuario que escriba su nombre y edad, y luego imprima \"Hola, [nombre], tienes [edad] años.\""
      ],
      "metadata": {
        "id": "8ZZ8NK_Klv5X"
      }
    },
    {
      "cell_type": "code",
      "source": [
        "nombre=input(\"Ingrese su nombre: \")\n",
        "edad=input(\"Ingrese su edad: \")\n",
        "print(f\"Hola, {nombre}, tiene {edad} años\")"
      ],
      "metadata": {
        "colab": {
          "base_uri": "https://localhost:8080/"
        },
        "id": "n1Y6qCTOmYE2",
        "outputId": "1dda33dc-388f-40cf-b5ef-68c822d91c32"
      },
      "execution_count": null,
      "outputs": [
        {
          "output_type": "stream",
          "name": "stdout",
          "text": [
            "Ingrese su nombre: Fabiola\n",
            "Ingrese su edad: 47\n",
            "Hola, Fabiola, tiene 47 años\n"
          ]
        }
      ]
    },
    {
      "cell_type": "markdown",
      "source": [
        "3 - Crea un programa que solicite al usuario que escriba su nombre, edad y altura en metros, y luego imprima \"Hola, [nombre], tienes [edad] años y mides [altura] metros.\""
      ],
      "metadata": {
        "id": "aco9F09nnib_"
      }
    },
    {
      "cell_type": "code",
      "source": [
        "nombre=input(\"Ingrese su nombre: \")\n",
        "edad=input(\"Ingrese su edad: \")\n",
        "altura=float(input(\"Ingrese su altura en metros: \"))\n",
        "print(f\"Hola, {nombre}, tiene {edad} años y mides {altura} metros\")"
      ],
      "metadata": {
        "colab": {
          "base_uri": "https://localhost:8080/"
        },
        "id": "yWZjeKKtoGRm",
        "outputId": "76705f89-db88-432e-d5bc-00b3dfa5d55a"
      },
      "execution_count": null,
      "outputs": [
        {
          "output_type": "stream",
          "name": "stdout",
          "text": [
            "Ingrese su nombre: Fabiola\n",
            "Ingrese su edad: 47\n",
            "Ingrese su altura en metros: 1.61\n",
            "Hola, Fabiola, tiene 47 años y mides 1.61 metros\n"
          ]
        }
      ]
    },
    {
      "cell_type": "markdown",
      "source": [
        "**Calculadora con operadores**"
      ],
      "metadata": {
        "id": "v50jeX98oxKN"
      }
    },
    {
      "cell_type": "markdown",
      "source": [
        "4 - Crea un programa que solicite dos valores numéricos al usuario y luego imprima la suma de ambos valores."
      ],
      "metadata": {
        "id": "G6s-J5Qlo6eM"
      }
    },
    {
      "cell_type": "code",
      "source": [
        "numero1 = int(input(\"Ingrese el valor numérico 1: \"))\n",
        "numero2 = int(input(\"Ingrese el valor numérico 2: \"))\n",
        "print(numero1 + numero2)"
      ],
      "metadata": {
        "colab": {
          "base_uri": "https://localhost:8080/"
        },
        "id": "zgoeCQ39o-Do",
        "outputId": "9e5efa05-719c-433a-e29e-d8bfe80929ed"
      },
      "execution_count": null,
      "outputs": [
        {
          "output_type": "stream",
          "name": "stdout",
          "text": [
            "Ingrese el valor numérico 1: 10\n",
            "Ingrese el valor numérico 2: 20\n",
            "30\n"
          ]
        }
      ]
    },
    {
      "cell_type": "markdown",
      "source": [
        "5 - Crea un programa que solicite tres valores numéricos al usuario y luego imprima la suma de los tres valores."
      ],
      "metadata": {
        "id": "DgaPc2BzpgzW"
      }
    },
    {
      "cell_type": "code",
      "source": [
        "numero1 = int(input(\"Ingrese el valor numérico 1: \"))\n",
        "numero2 = int(input(\"Ingrese el valor numérico 2: \"))\n",
        "numero3 = int(input(\"Ingrese el valor numérico 3: \"))\n",
        "print(numero1 + numero2 + numero3)"
      ],
      "metadata": {
        "colab": {
          "base_uri": "https://localhost:8080/"
        },
        "id": "eD3nZ-BfpiJi",
        "outputId": "c55270cd-79b9-4a75-b976-c8fe33cdc76e"
      },
      "execution_count": null,
      "outputs": [
        {
          "output_type": "stream",
          "name": "stdout",
          "text": [
            "Ingrese el valor numérico 1: 15\n",
            "Ingrese el valor numérico 2: 36\n",
            "Ingrese el valor numérico 3: 27\n",
            "78\n"
          ]
        }
      ]
    },
    {
      "cell_type": "markdown",
      "source": [
        "6 - Crea un programa que solicite dos valores numéricos al usuario y luego imprima la resta del primero menos el segundo valor."
      ],
      "metadata": {
        "id": "C7bz7cfInmWF"
      }
    },
    {
      "cell_type": "code",
      "source": [
        "numero1 = int(input(\"Ingrese el valor numérico 1: \"))\n",
        "numero2 = int(input(\"Ingrese el valor numérico 2: \"))\n",
        "print(numero1 - numero2)"
      ],
      "metadata": {
        "colab": {
          "base_uri": "https://localhost:8080/"
        },
        "id": "bSiZcRAmn9P4",
        "outputId": "81acbbea-c283-4703-c830-61033216bf9f"
      },
      "execution_count": 1,
      "outputs": [
        {
          "output_type": "stream",
          "name": "stdout",
          "text": [
            "Ingrese el valor numérico 1: 30\n",
            "Ingrese el valor numérico 2: 20\n",
            "10\n"
          ]
        }
      ]
    },
    {
      "cell_type": "markdown",
      "source": [
        "7 - Crea un programa que solicite dos valores numéricos al usuario y luego imprima la multiplicación de los dos valores."
      ],
      "metadata": {
        "id": "cfGa0nVqoLZ2"
      }
    },
    {
      "cell_type": "code",
      "source": [
        "numero1 = int(input(\"Ingrese el valor numérico 1: \"))\n",
        "numero2 = int(input(\"Ingrese el valor numérico 2: \"))\n",
        "print(numero1 * numero2)"
      ],
      "metadata": {
        "colab": {
          "base_uri": "https://localhost:8080/"
        },
        "id": "ZsP9G762oO_x",
        "outputId": "7601894c-0ea5-4e72-dc7c-d7ec6f40ebc9"
      },
      "execution_count": 2,
      "outputs": [
        {
          "output_type": "stream",
          "name": "stdout",
          "text": [
            "Ingrese el valor numérico 1: 16\n",
            "Ingrese el valor numérico 2: 28\n",
            "448\n"
          ]
        }
      ]
    },
    {
      "cell_type": "markdown",
      "source": [
        "8 - Crea un programa que solicite dos valores numéricos, un numerador y un denominador, y realice la división entre los dos valores. Asegúrate de que el valor del denominador no sea igual a 0."
      ],
      "metadata": {
        "id": "Vl5eJZ4JoXb5"
      }
    },
    {
      "cell_type": "code",
      "source": [
        "numero1 = int(input(\"Ingrese un numerador: \"))\n",
        "numero2 = int(input(\"Ingrese un denominador ('valor no debe ser = 0'): \"))\n",
        "print(numero1 / numero2)"
      ],
      "metadata": {
        "colab": {
          "base_uri": "https://localhost:8080/"
        },
        "id": "FoSJSR0kobie",
        "outputId": "7238ab75-6a08-40ed-d188-a3f15b79a8b6"
      },
      "execution_count": 3,
      "outputs": [
        {
          "output_type": "stream",
          "name": "stdout",
          "text": [
            "Ingrese un numerador: 15\n",
            "Ingrese un denominador ('valor no debe ser = 0'): 5\n",
            "3.0\n"
          ]
        }
      ]
    },
    {
      "cell_type": "markdown",
      "source": [
        "9 - Crea un programa que solicite dos valores numéricos, un operador y una potencia, y realice la exponenciación entre estos dos valores."
      ],
      "metadata": {
        "id": "Y3dZUWPQoyGA"
      }
    },
    {
      "cell_type": "code",
      "source": [
        "operador = int(input(\"Ingrese un operador: \"))\n",
        "potencia = int(input(\"Ingrese una potencia: \"))\n",
        "print(operador ** potencia)"
      ],
      "metadata": {
        "colab": {
          "base_uri": "https://localhost:8080/"
        },
        "id": "AADYYOCno3ru",
        "outputId": "8762a43a-cf81-4967-c10a-4ba6c9f85af1"
      },
      "execution_count": 5,
      "outputs": [
        {
          "output_type": "stream",
          "name": "stdout",
          "text": [
            "Ingrese un operador: 5\n",
            "Ingrese una potencia: 5\n",
            "3125\n"
          ]
        }
      ]
    },
    {
      "cell_type": "markdown",
      "source": [
        "10 - Crea un programa que solicite dos valores numéricos, un numerador y un denominador, y realice la división entera entre los dos valores. Asegúrate de que el valor del denominador no sea igual a 0."
      ],
      "metadata": {
        "id": "C6NOS9bPpQGb"
      }
    },
    {
      "cell_type": "code",
      "source": [
        "numero1 = int(input(\"Ingrese un numerador: \"))\n",
        "numero2 = int(input(\"Ingrese un denominador ('valor no debe ser = 0'): \"))\n",
        "print(numero1 // numero2)"
      ],
      "metadata": {
        "colab": {
          "base_uri": "https://localhost:8080/"
        },
        "id": "2XKpQXMspUhw",
        "outputId": "488e8a54-f557-4751-b23a-7bbf5e6a86d3"
      },
      "execution_count": 6,
      "outputs": [
        {
          "output_type": "stream",
          "name": "stdout",
          "text": [
            "Ingrese un numerador: 10\n",
            "Ingrese un denominador ('valor no debe ser = 0'): 5\n",
            "2\n"
          ]
        }
      ]
    },
    {
      "cell_type": "markdown",
      "source": [
        "11 - Crea un programa que solicite dos valores numéricos, un numerador y un denominador, y devuelva el resto de la división entre los dos valores. Asegúrate de que el valor del denominador no sea igual a 0."
      ],
      "metadata": {
        "id": "lvfgdfZMphhP"
      }
    },
    {
      "cell_type": "code",
      "source": [
        "numero1 = int(input(\"Ingrese un numerador: \"))\n",
        "numero2 = int(input(\"Ingrese un denominador ('valor no debe ser = 0'): \"))\n",
        "print(numero1 % numero2)"
      ],
      "metadata": {
        "colab": {
          "base_uri": "https://localhost:8080/"
        },
        "id": "fAbuwMA5pl0D",
        "outputId": "ee7ff14a-49ac-4019-a3f0-39316d2d6d9f"
      },
      "execution_count": 7,
      "outputs": [
        {
          "output_type": "stream",
          "name": "stdout",
          "text": [
            "Ingrese un numerador: 15\n",
            "Ingrese un denominador ('valor no debe ser = 0'): 7\n",
            "1\n"
          ]
        }
      ]
    },
    {
      "cell_type": "markdown",
      "source": [
        "12 - Crea un código que solicite las 3 notas de un estudiante e imprima el promedio de las notas."
      ],
      "metadata": {
        "id": "4YcNr9A2pwXt"
      }
    },
    {
      "cell_type": "code",
      "source": [
        "nota1 = float(input(\"Ingrese la nota 1 del estudiante: \"))\n",
        "nota2 = float(input(\"Ingrese la nota 2 del estudiante: \"))\n",
        "nota3 = float(input(\"Ingrese la nota 3 del estudiante: \"))\n",
        "print(f\"Promedio {(nota1+nota2+nota3)/3}.\")"
      ],
      "metadata": {
        "colab": {
          "base_uri": "https://localhost:8080/"
        },
        "id": "aa2AMO4EqBI5",
        "outputId": "20467659-2a51-48e2-ccff-e5e5173f70d8"
      },
      "execution_count": 8,
      "outputs": [
        {
          "output_type": "stream",
          "name": "stdout",
          "text": [
            "Ingrese la nota 1 del estudiante: 9.5\n",
            "Ingrese la nota 2 del estudiante: 8.9\n",
            "Ingrese la nota 3 del estudiante: 7.6\n",
            "Promedio 8.666666666666666.\n"
          ]
        }
      ]
    },
    {
      "cell_type": "markdown",
      "source": [
        "13 - Crea un código que calcule e imprima el promedio ponderado de los números 5, 12, 20 y 15 con pesos respectivamente iguales a 1, 2, 3 y 4.\n",
        "\n"
      ],
      "metadata": {
        "id": "egtlq7zYqlQp"
      }
    },
    {
      "cell_type": "code",
      "source": [
        "promedio_ponderado = (5*1 + 12*2 + 20*3 + 15*4) / (1+2+3+4)\n",
        "print(f\"Promedio: {promedio_ponderado}.\")"
      ],
      "metadata": {
        "colab": {
          "base_uri": "https://localhost:8080/"
        },
        "id": "LoVgfQcNqs10",
        "outputId": "e9a91213-b62f-4f7a-9bca-401fd21c80bc"
      },
      "execution_count": 9,
      "outputs": [
        {
          "output_type": "stream",
          "name": "stdout",
          "text": [
            "Promedio: 14.9.\n"
          ]
        }
      ]
    },
    {
      "cell_type": "markdown",
      "source": [
        "**Editando textos**"
      ],
      "metadata": {
        "id": "TUu5lbXLrDK_"
      }
    },
    {
      "cell_type": "markdown",
      "source": [
        "14 - Crea una variable llamada \"frase\" y asígnale una cadena de texto de tu elección. Luego, imprime la frase en pantalla."
      ],
      "metadata": {
        "id": "70EJglu_rGu_"
      }
    },
    {
      "cell_type": "code",
      "source": [
        "frase=\"Hola Alura!\"\n",
        "print(frase)"
      ],
      "metadata": {
        "colab": {
          "base_uri": "https://localhost:8080/"
        },
        "id": "iqR4P9tnrLBv",
        "outputId": "a57780d9-a515-4ee7-fb2b-9e8c207bb387"
      },
      "execution_count": 10,
      "outputs": [
        {
          "output_type": "stream",
          "name": "stdout",
          "text": [
            "Hola Alura!\n"
          ]
        }
      ]
    },
    {
      "cell_type": "markdown",
      "source": [
        "15 - Crea un código que solicite una frase y luego imprima la frase en pantalla."
      ],
      "metadata": {
        "id": "HkxRALi1rS4a"
      }
    },
    {
      "cell_type": "code",
      "source": [
        "frase=input(\"Ingrese una frase: \")\n",
        "print(frase)"
      ],
      "metadata": {
        "colab": {
          "base_uri": "https://localhost:8080/"
        },
        "id": "O8_rqVFirWJQ",
        "outputId": "01cd36ca-8f66-4cfc-dc8b-972172d12d4d"
      },
      "execution_count": 11,
      "outputs": [
        {
          "output_type": "stream",
          "name": "stdout",
          "text": [
            "Ingrese una frase: Hola Alura!\n",
            "Hola Alura!\n"
          ]
        }
      ]
    },
    {
      "cell_type": "markdown",
      "source": [
        "16 - Crea un código que solicite una frase al usuario y luego imprima la misma frase ingresada pero en mayúsculas."
      ],
      "metadata": {
        "id": "6fZ-EeYZreyd"
      }
    },
    {
      "cell_type": "code",
      "source": [
        "frase=input(\"Ingrese una frase: \")\n",
        "print(frase.upper())"
      ],
      "metadata": {
        "colab": {
          "base_uri": "https://localhost:8080/"
        },
        "id": "8IkhaHJTrjKE",
        "outputId": "783f423e-cf67-4067-9a2d-47139ad5b9d4"
      },
      "execution_count": 12,
      "outputs": [
        {
          "output_type": "stream",
          "name": "stdout",
          "text": [
            "Ingrese una frase: hola alura!\n",
            "HOLA ALURA!\n"
          ]
        }
      ]
    },
    {
      "cell_type": "markdown",
      "source": [
        "17 - Crea un código que solicite una frase al usuario y luego imprima la misma frase ingresada pero en minúsculas."
      ],
      "metadata": {
        "id": "VgpovwgcrwyJ"
      }
    },
    {
      "cell_type": "code",
      "source": [
        "frase=input(\"Ingrese una frase: \")\n",
        "print(frase.lower())"
      ],
      "metadata": {
        "colab": {
          "base_uri": "https://localhost:8080/"
        },
        "id": "21fQ8i6Mrxr3",
        "outputId": "8f58e0e5-fdc7-4741-81ff-e861527b1988"
      },
      "execution_count": 13,
      "outputs": [
        {
          "output_type": "stream",
          "name": "stdout",
          "text": [
            "Ingrese una frase: HOLA  ALURA!\n",
            "hola  alura!\n"
          ]
        }
      ]
    },
    {
      "cell_type": "markdown",
      "source": [
        "18 - Crea una variable llamada \"frase\" y asígnale una cadena de texto de tu elección. Luego, imprime la frase sin espacios en blanco al principio y al final."
      ],
      "metadata": {
        "id": "qaGuyHU6r9HZ"
      }
    },
    {
      "cell_type": "code",
      "source": [
        "frase=(\"  ¡Hola Alura!  \")\n",
        "print(frase.strip())"
      ],
      "metadata": {
        "colab": {
          "base_uri": "https://localhost:8080/"
        },
        "id": "fQoTA900r-PQ",
        "outputId": "9dd0f97b-a1d8-41c3-dc7c-807152b26bdb"
      },
      "execution_count": 14,
      "outputs": [
        {
          "output_type": "stream",
          "name": "stdout",
          "text": [
            "¡Hola Alura!\n"
          ]
        }
      ]
    },
    {
      "cell_type": "markdown",
      "source": [
        "19 - Crea un código que solicite una frase al usuario y luego imprima la misma frase sin espacios en blanco al principio y al final."
      ],
      "metadata": {
        "id": "3NzGdOyGsYDF"
      }
    },
    {
      "cell_type": "code",
      "source": [
        "frase=input(\"Escribe una frase: \")\n",
        "print(frase.strip())"
      ],
      "metadata": {
        "colab": {
          "base_uri": "https://localhost:8080/"
        },
        "id": "Y0H9tiXDscms",
        "outputId": "9e381a30-75b2-4e36-d5ed-befc2bf68837"
      },
      "execution_count": 15,
      "outputs": [
        {
          "output_type": "stream",
          "name": "stdout",
          "text": [
            "Escribe una frase:      Hola Alura!! Bienvenidos\n",
            "Hola Alura!! Bienvenidos\n"
          ]
        }
      ]
    },
    {
      "cell_type": "markdown",
      "source": [
        "20 - Crea un código que solicite una frase al usuario y luego imprima la misma frase sin espacios en blanco al principio y al final, además de convertirla a minúsculas."
      ],
      "metadata": {
        "id": "fbOHNUf0srQ_"
      }
    },
    {
      "cell_type": "code",
      "source": [
        "frase=input(\"Escribe una frase: \")\n",
        "print(frase.strip().lower())"
      ],
      "metadata": {
        "colab": {
          "base_uri": "https://localhost:8080/"
        },
        "id": "zAJ_-ryisu6e",
        "outputId": "fe4cf5d3-fedb-48dd-acc4-7f349d669975"
      },
      "execution_count": 16,
      "outputs": [
        {
          "output_type": "stream",
          "name": "stdout",
          "text": [
            "Escribe una frase:       ¡¡¡HOLA  ALURA!!!\n",
            "¡¡¡hola  alura!!!\n"
          ]
        }
      ]
    },
    {
      "cell_type": "markdown",
      "source": [
        "21 - Crea un código que solicite una frase al usuario y luego imprima la misma frase con todas las vocales \"e\" reemplazadas por la letra \"f\"."
      ],
      "metadata": {
        "id": "0bQ5sT6DtEdJ"
      }
    },
    {
      "cell_type": "code",
      "source": [
        "frase=input(\"Escribe una frase: \")\n",
        "print(frase.lower().replace(\"e\",\"f\"))"
      ],
      "metadata": {
        "colab": {
          "base_uri": "https://localhost:8080/"
        },
        "id": "pnE-w67DtJHl",
        "outputId": "baea7f65-96a5-425f-a7c5-20db4a2755dc"
      },
      "execution_count": 17,
      "outputs": [
        {
          "output_type": "stream",
          "name": "stdout",
          "text": [
            "Escribe una frase: Feliz de ser parte del Curso Data Science\n",
            "ffliz df sfr partf dfl curso data scifncf\n"
          ]
        }
      ]
    },
    {
      "cell_type": "markdown",
      "source": [
        "22 - Crea un código que solicite una frase al usuario y luego imprima la misma frase con todas las vocales \"a\" reemplazadas por el carácter \"@\"."
      ],
      "metadata": {
        "id": "yxS3eJ-uteA_"
      }
    },
    {
      "cell_type": "code",
      "source": [
        "frase=input(\"Escribe una frase: \")\n",
        "print(frase.lower().replace(\"a\",chr(64)))"
      ],
      "metadata": {
        "colab": {
          "base_uri": "https://localhost:8080/"
        },
        "id": "Ad81zCOdtlM-",
        "outputId": "94ce82be-8738-45bf-e63b-28a73900d84f"
      },
      "execution_count": 18,
      "outputs": [
        {
          "output_type": "stream",
          "name": "stdout",
          "text": [
            "Escribe una frase: Feliz de ser parte de Curso Data Science\n",
            "feliz de ser p@rte de curso d@t@ science\n"
          ]
        }
      ]
    },
    {
      "cell_type": "markdown",
      "source": [
        "23 - Crea un código que solicite una frase al usuario y luego imprima la misma frase con todas las consonantes \"s\" reemplazadas por el carácter \"$\"."
      ],
      "metadata": {
        "id": "s4xfxZPTt2Tx"
      }
    },
    {
      "cell_type": "code",
      "source": [
        "frase=input(\"Escribe una frase: \")\n",
        "print(frase.lower().replace(\"s\",chr(36)))"
      ],
      "metadata": {
        "colab": {
          "base_uri": "https://localhost:8080/"
        },
        "id": "VJ56FZmrt6-w",
        "outputId": "d8036454-503c-4fcb-8808-fa42ca4de55a"
      },
      "execution_count": 19,
      "outputs": [
        {
          "output_type": "stream",
          "name": "stdout",
          "text": [
            "Escribe una frase: Feliz dd ser parte del Curso Data Science\n",
            "feliz dd $er parte del cur$o data $cience\n"
          ]
        }
      ]
    }
  ]
}